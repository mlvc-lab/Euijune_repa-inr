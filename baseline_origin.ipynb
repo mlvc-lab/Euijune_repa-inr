{
 "cells": [
  {
   "cell_type": "markdown",
   "metadata": {},
   "source": [
    "## Week5: Vision Transformer"
   ]
  },
  {
   "cell_type": "markdown",
   "metadata": {},
   "source": [
    "금주 실습은 ViT를 직접 구현하고, ImageNet Classification까지 완료하는 것이 목표입니다."
   ]
  },
  {
   "cell_type": "markdown",
   "metadata": {},
   "source": [
    "### What to submit"
   ]
  },
  {
   "cell_type": "markdown",
   "metadata": {},
   "source": [
    "02/20(목) 10:00까지 Ipynb파일을 https://github.com/mlvc-lab/MLVC-Tutorial.git 해당 레포에 업로드해주세요.\n",
    "\n",
    "경로는 2025_Internship/Week5/{filename} 입니다.\n",
    "\n",
    "파일명은 Week5_이름(한글로).ipynb로 통일해주세요. Ex: Week5_이의준.ipynb"
   ]
  },
  {
   "cell_type": "markdown",
   "metadata": {},
   "source": [
    "## Part A. Data loading"
   ]
  },
  {
   "cell_type": "markdown",
   "metadata": {},
   "source": [
    "이번 주 실습에 사용할 데이터셋은 MinyImageNet입니다! Imagenette는 클래스 개수가 10개로 적기 때문에, 클래스 개수가 1000개인 subset을 준비했습니다.\n",
    "\n",
    "torchvision에서 제공하는 데이터셋이 아니기때문에, CustomDataset을 구현해야 합니다.\n",
    "\n",
    "데이터셋은 MinyImageNet.sh 파일을 bash로 실행하면 지정된 경로에 다운로드됩니다. (경로 확인 필수)"
   ]
  },
  {
   "cell_type": "code",
   "execution_count": 94,
   "metadata": {},
   "outputs": [],
   "source": [
    "import os\n",
    "import cv2\n",
    "import json\n",
    "import torch\n",
    "import torchmetrics\n",
    "\n",
    "import numpy as np\n",
    "import pandas as pd\n",
    "import torch.optim as optim\n",
    "import matplotlib.pyplot as plt\n",
    "\n",
    "from torch import nn\n",
    "from tqdm import tqdm\n",
    "from einops import rearrange, repeat\n",
    "from einops.layers.torch import Rearrange\n",
    "from torch.utils.data import Dataset, DataLoader, random_split\n",
    "from torchvision import transforms\n",
    "from torch.optim.lr_scheduler import CosineAnnealingLR, LinearLR, SequentialLR"
   ]
  },
  {
   "cell_type": "code",
   "execution_count": 25,
   "metadata": {},
   "outputs": [],
   "source": [
    "data_dir = '/local_dataset/ImageNet-Mini'"
   ]
  },
  {
   "cell_type": "code",
   "execution_count": 69,
   "metadata": {},
   "outputs": [],
   "source": [
    "\"\"\"Simple Tiny Imagenet Dataloader\"\"\"\n",
    "class MiniImageNetDataset(Dataset):\n",
    "        \n",
    "    def __init__(self, root_dir, transform=None):\n",
    "        self.root_dir = root_dir\n",
    "        self.transform = transform\n",
    "        \n",
    "        self.data = []\n",
    "        self.labels = []\n",
    "        \n",
    "        classes = self._imagenet_map(os.path.join(root_dir, 'imagenet_class_index.json'))\n",
    "        for dirname, (label_idx, label) in classes.items():\n",
    "            cls_dir = os.path.join(root_dir, 'images', dirname)\n",
    "            for img_name in os.listdir(cls_dir):\n",
    "                self.data.append(os.path.join(cls_dir, img_name)) # store the path only\n",
    "                self.labels.append(label_idx)\n",
    "                \n",
    "    def _imagenet_map(self, annotation_file):\n",
    "        with open(annotation_file, 'r') as f:\n",
    "            data = json.load(f)\n",
    "        folder_map =  {v[0]: (int(k), v[1]) for k,v in data.items()}\n",
    "        return folder_map\n",
    "    \n",
    "    def __len__(self):\n",
    "        return len(self.data)\n",
    "\n",
    "    def __getitem__(self, idx):\n",
    "        img_path = self.data[idx]\n",
    "        # Load image and fetch labels\n",
    "        image = cv2.imread(img_path)\n",
    "        label = self.labels[idx]\n",
    "\n",
    "        # Apply transform if available\n",
    "        if self.transform:\n",
    "            image = self.transform(image)\n",
    "        return image, torch.tensor(label, dtype=torch.long)"
   ]
  },
  {
   "cell_type": "code",
   "execution_count": 46,
   "metadata": {},
   "outputs": [
    {
     "name": "stdout",
     "output_type": "stream",
     "text": [
      "{'n01440764': (0, 'tench'), 'n01443537': (1, 'goldfish'), 'n01484850': (2, 'great_white_shark'), 'n01491361': (3, 'tiger_shark'), 'n01494475': (4, 'hammerhead'), 'n01496331': (5, 'electric_ray'), 'n01498041': (6, 'stingray'), 'n01514668': (7, 'cock'), 'n01514859': (8, 'hen'), 'n01518878': (9, 'ostrich'), 'n01530575': (10, 'brambling'), 'n01531178': (11, 'goldfinch'), 'n01532829': (12, 'house_finch'), 'n01534433': (13, 'junco'), 'n01537544': (14, 'indigo_bunting'), 'n01558993': (15, 'robin'), 'n01560419': (16, 'bulbul'), 'n01580077': (17, 'jay'), 'n01582220': (18, 'magpie'), 'n01592084': (19, 'chickadee'), 'n01601694': (20, 'water_ouzel'), 'n01608432': (21, 'kite'), 'n01614925': (22, 'bald_eagle'), 'n01616318': (23, 'vulture'), 'n01622779': (24, 'great_grey_owl'), 'n01629819': (25, 'European_fire_salamander'), 'n01630670': (26, 'common_newt'), 'n01631663': (27, 'eft'), 'n01632458': (28, 'spotted_salamander'), 'n01632777': (29, 'axolotl'), 'n01641577': (30, 'bullfrog'), 'n01644373': (31, 'tree_frog'), 'n01644900': (32, 'tailed_frog'), 'n01664065': (33, 'loggerhead'), 'n01665541': (34, 'leatherback_turtle'), 'n01667114': (35, 'mud_turtle'), 'n01667778': (36, 'terrapin'), 'n01669191': (37, 'box_turtle'), 'n01675722': (38, 'banded_gecko'), 'n01677366': (39, 'common_iguana'), 'n01682714': (40, 'American_chameleon'), 'n01685808': (41, 'whiptail'), 'n01687978': (42, 'agama'), 'n01688243': (43, 'frilled_lizard'), 'n01689811': (44, 'alligator_lizard'), 'n01692333': (45, 'Gila_monster'), 'n01693334': (46, 'green_lizard'), 'n01694178': (47, 'African_chameleon'), 'n01695060': (48, 'Komodo_dragon'), 'n01697457': (49, 'African_crocodile'), 'n01698640': (50, 'American_alligator'), 'n01704323': (51, 'triceratops'), 'n01728572': (52, 'thunder_snake'), 'n01728920': (53, 'ringneck_snake'), 'n01729322': (54, 'hognose_snake'), 'n01729977': (55, 'green_snake'), 'n01734418': (56, 'king_snake'), 'n01735189': (57, 'garter_snake'), 'n01737021': (58, 'water_snake'), 'n01739381': (59, 'vine_snake'), 'n01740131': (60, 'night_snake'), 'n01742172': (61, 'boa_constrictor'), 'n01744401': (62, 'rock_python'), 'n01748264': (63, 'Indian_cobra'), 'n01749939': (64, 'green_mamba'), 'n01751748': (65, 'sea_snake'), 'n01753488': (66, 'horned_viper'), 'n01755581': (67, 'diamondback'), 'n01756291': (68, 'sidewinder'), 'n01768244': (69, 'trilobite'), 'n01770081': (70, 'harvestman'), 'n01770393': (71, 'scorpion'), 'n01773157': (72, 'black_and_gold_garden_spider'), 'n01773549': (73, 'barn_spider'), 'n01773797': (74, 'garden_spider'), 'n01774384': (75, 'black_widow'), 'n01774750': (76, 'tarantula'), 'n01775062': (77, 'wolf_spider'), 'n01776313': (78, 'tick'), 'n01784675': (79, 'centipede'), 'n01795545': (80, 'black_grouse'), 'n01796340': (81, 'ptarmigan'), 'n01797886': (82, 'ruffed_grouse'), 'n01798484': (83, 'prairie_chicken'), 'n01806143': (84, 'peacock'), 'n01806567': (85, 'quail'), 'n01807496': (86, 'partridge'), 'n01817953': (87, 'African_grey'), 'n01818515': (88, 'macaw'), 'n01819313': (89, 'sulphur-crested_cockatoo'), 'n01820546': (90, 'lorikeet'), 'n01824575': (91, 'coucal'), 'n01828970': (92, 'bee_eater'), 'n01829413': (93, 'hornbill'), 'n01833805': (94, 'hummingbird'), 'n01843065': (95, 'jacamar'), 'n01843383': (96, 'toucan'), 'n01847000': (97, 'drake'), 'n01855032': (98, 'red-breasted_merganser'), 'n01855672': (99, 'goose'), 'n01860187': (100, 'black_swan'), 'n01871265': (101, 'tusker'), 'n01872401': (102, 'echidna'), 'n01873310': (103, 'platypus'), 'n01877812': (104, 'wallaby'), 'n01882714': (105, 'koala'), 'n01883070': (106, 'wombat'), 'n01910747': (107, 'jellyfish'), 'n01914609': (108, 'sea_anemone'), 'n01917289': (109, 'brain_coral'), 'n01924916': (110, 'flatworm'), 'n01930112': (111, 'nematode'), 'n01943899': (112, 'conch'), 'n01944390': (113, 'snail'), 'n01945685': (114, 'slug'), 'n01950731': (115, 'sea_slug'), 'n01955084': (116, 'chiton'), 'n01968897': (117, 'chambered_nautilus'), 'n01978287': (118, 'Dungeness_crab'), 'n01978455': (119, 'rock_crab'), 'n01980166': (120, 'fiddler_crab'), 'n01981276': (121, 'king_crab'), 'n01983481': (122, 'American_lobster'), 'n01984695': (123, 'spiny_lobster'), 'n01985128': (124, 'crayfish'), 'n01986214': (125, 'hermit_crab'), 'n01990800': (126, 'isopod'), 'n02002556': (127, 'white_stork'), 'n02002724': (128, 'black_stork'), 'n02006656': (129, 'spoonbill'), 'n02007558': (130, 'flamingo'), 'n02009229': (131, 'little_blue_heron'), 'n02009912': (132, 'American_egret'), 'n02011460': (133, 'bittern'), 'n02012849': (134, 'crane'), 'n02013706': (135, 'limpkin'), 'n02017213': (136, 'European_gallinule'), 'n02018207': (137, 'American_coot'), 'n02018795': (138, 'bustard'), 'n02025239': (139, 'ruddy_turnstone'), 'n02027492': (140, 'red-backed_sandpiper'), 'n02028035': (141, 'redshank'), 'n02033041': (142, 'dowitcher'), 'n02037110': (143, 'oystercatcher'), 'n02051845': (144, 'pelican'), 'n02056570': (145, 'king_penguin'), 'n02058221': (146, 'albatross'), 'n02066245': (147, 'grey_whale'), 'n02071294': (148, 'killer_whale'), 'n02074367': (149, 'dugong'), 'n02077923': (150, 'sea_lion'), 'n02085620': (151, 'Chihuahua'), 'n02085782': (152, 'Japanese_spaniel'), 'n02085936': (153, 'Maltese_dog'), 'n02086079': (154, 'Pekinese'), 'n02086240': (155, 'Shih-Tzu'), 'n02086646': (156, 'Blenheim_spaniel'), 'n02086910': (157, 'papillon'), 'n02087046': (158, 'toy_terrier'), 'n02087394': (159, 'Rhodesian_ridgeback'), 'n02088094': (160, 'Afghan_hound'), 'n02088238': (161, 'basset'), 'n02088364': (162, 'beagle'), 'n02088466': (163, 'bloodhound'), 'n02088632': (164, 'bluetick'), 'n02089078': (165, 'black-and-tan_coonhound'), 'n02089867': (166, 'Walker_hound'), 'n02089973': (167, 'English_foxhound'), 'n02090379': (168, 'redbone'), 'n02090622': (169, 'borzoi'), 'n02090721': (170, 'Irish_wolfhound'), 'n02091032': (171, 'Italian_greyhound'), 'n02091134': (172, 'whippet'), 'n02091244': (173, 'Ibizan_hound'), 'n02091467': (174, 'Norwegian_elkhound'), 'n02091635': (175, 'otterhound'), 'n02091831': (176, 'Saluki'), 'n02092002': (177, 'Scottish_deerhound'), 'n02092339': (178, 'Weimaraner'), 'n02093256': (179, 'Staffordshire_bullterrier'), 'n02093428': (180, 'American_Staffordshire_terrier'), 'n02093647': (181, 'Bedlington_terrier'), 'n02093754': (182, 'Border_terrier'), 'n02093859': (183, 'Kerry_blue_terrier'), 'n02093991': (184, 'Irish_terrier'), 'n02094114': (185, 'Norfolk_terrier'), 'n02094258': (186, 'Norwich_terrier'), 'n02094433': (187, 'Yorkshire_terrier'), 'n02095314': (188, 'wire-haired_fox_terrier'), 'n02095570': (189, 'Lakeland_terrier'), 'n02095889': (190, 'Sealyham_terrier'), 'n02096051': (191, 'Airedale'), 'n02096177': (192, 'cairn'), 'n02096294': (193, 'Australian_terrier'), 'n02096437': (194, 'Dandie_Dinmont'), 'n02096585': (195, 'Boston_bull'), 'n02097047': (196, 'miniature_schnauzer'), 'n02097130': (197, 'giant_schnauzer'), 'n02097209': (198, 'standard_schnauzer'), 'n02097298': (199, 'Scotch_terrier'), 'n02097474': (200, 'Tibetan_terrier'), 'n02097658': (201, 'silky_terrier'), 'n02098105': (202, 'soft-coated_wheaten_terrier'), 'n02098286': (203, 'West_Highland_white_terrier'), 'n02098413': (204, 'Lhasa'), 'n02099267': (205, 'flat-coated_retriever'), 'n02099429': (206, 'curly-coated_retriever'), 'n02099601': (207, 'golden_retriever'), 'n02099712': (208, 'Labrador_retriever'), 'n02099849': (209, 'Chesapeake_Bay_retriever'), 'n02100236': (210, 'German_short-haired_pointer'), 'n02100583': (211, 'vizsla'), 'n02100735': (212, 'English_setter'), 'n02100877': (213, 'Irish_setter'), 'n02101006': (214, 'Gordon_setter'), 'n02101388': (215, 'Brittany_spaniel'), 'n02101556': (216, 'clumber'), 'n02102040': (217, 'English_springer'), 'n02102177': (218, 'Welsh_springer_spaniel'), 'n02102318': (219, 'cocker_spaniel'), 'n02102480': (220, 'Sussex_spaniel'), 'n02102973': (221, 'Irish_water_spaniel'), 'n02104029': (222, 'kuvasz'), 'n02104365': (223, 'schipperke'), 'n02105056': (224, 'groenendael'), 'n02105162': (225, 'malinois'), 'n02105251': (226, 'briard'), 'n02105412': (227, 'kelpie'), 'n02105505': (228, 'komondor'), 'n02105641': (229, 'Old_English_sheepdog'), 'n02105855': (230, 'Shetland_sheepdog'), 'n02106030': (231, 'collie'), 'n02106166': (232, 'Border_collie'), 'n02106382': (233, 'Bouvier_des_Flandres'), 'n02106550': (234, 'Rottweiler'), 'n02106662': (235, 'German_shepherd'), 'n02107142': (236, 'Doberman'), 'n02107312': (237, 'miniature_pinscher'), 'n02107574': (238, 'Greater_Swiss_Mountain_dog'), 'n02107683': (239, 'Bernese_mountain_dog'), 'n02107908': (240, 'Appenzeller'), 'n02108000': (241, 'EntleBucher'), 'n02108089': (242, 'boxer'), 'n02108422': (243, 'bull_mastiff'), 'n02108551': (244, 'Tibetan_mastiff'), 'n02108915': (245, 'French_bulldog'), 'n02109047': (246, 'Great_Dane'), 'n02109525': (247, 'Saint_Bernard'), 'n02109961': (248, 'Eskimo_dog'), 'n02110063': (249, 'malamute'), 'n02110185': (250, 'Siberian_husky'), 'n02110341': (251, 'dalmatian'), 'n02110627': (252, 'affenpinscher'), 'n02110806': (253, 'basenji'), 'n02110958': (254, 'pug'), 'n02111129': (255, 'Leonberg'), 'n02111277': (256, 'Newfoundland'), 'n02111500': (257, 'Great_Pyrenees'), 'n02111889': (258, 'Samoyed'), 'n02112018': (259, 'Pomeranian'), 'n02112137': (260, 'chow'), 'n02112350': (261, 'keeshond'), 'n02112706': (262, 'Brabancon_griffon'), 'n02113023': (263, 'Pembroke'), 'n02113186': (264, 'Cardigan'), 'n02113624': (265, 'toy_poodle'), 'n02113712': (266, 'miniature_poodle'), 'n02113799': (267, 'standard_poodle'), 'n02113978': (268, 'Mexican_hairless'), 'n02114367': (269, 'timber_wolf'), 'n02114548': (270, 'white_wolf'), 'n02114712': (271, 'red_wolf'), 'n02114855': (272, 'coyote'), 'n02115641': (273, 'dingo'), 'n02115913': (274, 'dhole'), 'n02116738': (275, 'African_hunting_dog'), 'n02117135': (276, 'hyena'), 'n02119022': (277, 'red_fox'), 'n02119789': (278, 'kit_fox'), 'n02120079': (279, 'Arctic_fox'), 'n02120505': (280, 'grey_fox'), 'n02123045': (281, 'tabby'), 'n02123159': (282, 'tiger_cat'), 'n02123394': (283, 'Persian_cat'), 'n02123597': (284, 'Siamese_cat'), 'n02124075': (285, 'Egyptian_cat'), 'n02125311': (286, 'cougar'), 'n02127052': (287, 'lynx'), 'n02128385': (288, 'leopard'), 'n02128757': (289, 'snow_leopard'), 'n02128925': (290, 'jaguar'), 'n02129165': (291, 'lion'), 'n02129604': (292, 'tiger'), 'n02130308': (293, 'cheetah'), 'n02132136': (294, 'brown_bear'), 'n02133161': (295, 'American_black_bear'), 'n02134084': (296, 'ice_bear'), 'n02134418': (297, 'sloth_bear'), 'n02137549': (298, 'mongoose'), 'n02138441': (299, 'meerkat'), 'n02165105': (300, 'tiger_beetle'), 'n02165456': (301, 'ladybug'), 'n02167151': (302, 'ground_beetle'), 'n02168699': (303, 'long-horned_beetle'), 'n02169497': (304, 'leaf_beetle'), 'n02172182': (305, 'dung_beetle'), 'n02174001': (306, 'rhinoceros_beetle'), 'n02177972': (307, 'weevil'), 'n02190166': (308, 'fly'), 'n02206856': (309, 'bee'), 'n02219486': (310, 'ant'), 'n02226429': (311, 'grasshopper'), 'n02229544': (312, 'cricket'), 'n02231487': (313, 'walking_stick'), 'n02233338': (314, 'cockroach'), 'n02236044': (315, 'mantis'), 'n02256656': (316, 'cicada'), 'n02259212': (317, 'leafhopper'), 'n02264363': (318, 'lacewing'), 'n02268443': (319, 'dragonfly'), 'n02268853': (320, 'damselfly'), 'n02276258': (321, 'admiral'), 'n02277742': (322, 'ringlet'), 'n02279972': (323, 'monarch'), 'n02280649': (324, 'cabbage_butterfly'), 'n02281406': (325, 'sulphur_butterfly'), 'n02281787': (326, 'lycaenid'), 'n02317335': (327, 'starfish'), 'n02319095': (328, 'sea_urchin'), 'n02321529': (329, 'sea_cucumber'), 'n02325366': (330, 'wood_rabbit'), 'n02326432': (331, 'hare'), 'n02328150': (332, 'Angora'), 'n02342885': (333, 'hamster'), 'n02346627': (334, 'porcupine'), 'n02356798': (335, 'fox_squirrel'), 'n02361337': (336, 'marmot'), 'n02363005': (337, 'beaver'), 'n02364673': (338, 'guinea_pig'), 'n02389026': (339, 'sorrel'), 'n02391049': (340, 'zebra'), 'n02395406': (341, 'hog'), 'n02396427': (342, 'wild_boar'), 'n02397096': (343, 'warthog'), 'n02398521': (344, 'hippopotamus'), 'n02403003': (345, 'ox'), 'n02408429': (346, 'water_buffalo'), 'n02410509': (347, 'bison'), 'n02412080': (348, 'ram'), 'n02415577': (349, 'bighorn'), 'n02417914': (350, 'ibex'), 'n02422106': (351, 'hartebeest'), 'n02422699': (352, 'impala'), 'n02423022': (353, 'gazelle'), 'n02437312': (354, 'Arabian_camel'), 'n02437616': (355, 'llama'), 'n02441942': (356, 'weasel'), 'n02442845': (357, 'mink'), 'n02443114': (358, 'polecat'), 'n02443484': (359, 'black-footed_ferret'), 'n02444819': (360, 'otter'), 'n02445715': (361, 'skunk'), 'n02447366': (362, 'badger'), 'n02454379': (363, 'armadillo'), 'n02457408': (364, 'three-toed_sloth'), 'n02480495': (365, 'orangutan'), 'n02480855': (366, 'gorilla'), 'n02481823': (367, 'chimpanzee'), 'n02483362': (368, 'gibbon'), 'n02483708': (369, 'siamang'), 'n02484975': (370, 'guenon'), 'n02486261': (371, 'patas'), 'n02486410': (372, 'baboon'), 'n02487347': (373, 'macaque'), 'n02488291': (374, 'langur'), 'n02488702': (375, 'colobus'), 'n02489166': (376, 'proboscis_monkey'), 'n02490219': (377, 'marmoset'), 'n02492035': (378, 'capuchin'), 'n02492660': (379, 'howler_monkey'), 'n02493509': (380, 'titi'), 'n02493793': (381, 'spider_monkey'), 'n02494079': (382, 'squirrel_monkey'), 'n02497673': (383, 'Madagascar_cat'), 'n02500267': (384, 'indri'), 'n02504013': (385, 'Indian_elephant'), 'n02504458': (386, 'African_elephant'), 'n02509815': (387, 'lesser_panda'), 'n02510455': (388, 'giant_panda'), 'n02514041': (389, 'barracouta'), 'n02526121': (390, 'eel'), 'n02536864': (391, 'coho'), 'n02606052': (392, 'rock_beauty'), 'n02607072': (393, 'anemone_fish'), 'n02640242': (394, 'sturgeon'), 'n02641379': (395, 'gar'), 'n02643566': (396, 'lionfish'), 'n02655020': (397, 'puffer'), 'n02666196': (398, 'abacus'), 'n02667093': (399, 'abaya'), 'n02669723': (400, 'academic_gown'), 'n02672831': (401, 'accordion'), 'n02676566': (402, 'acoustic_guitar'), 'n02687172': (403, 'aircraft_carrier'), 'n02690373': (404, 'airliner'), 'n02692877': (405, 'airship'), 'n02699494': (406, 'altar'), 'n02701002': (407, 'ambulance'), 'n02704792': (408, 'amphibian'), 'n02708093': (409, 'analog_clock'), 'n02727426': (410, 'apiary'), 'n02730930': (411, 'apron'), 'n02747177': (412, 'ashcan'), 'n02749479': (413, 'assault_rifle'), 'n02769748': (414, 'backpack'), 'n02776631': (415, 'bakery'), 'n02777292': (416, 'balance_beam'), 'n02782093': (417, 'balloon'), 'n02783161': (418, 'ballpoint'), 'n02786058': (419, 'Band_Aid'), 'n02787622': (420, 'banjo'), 'n02788148': (421, 'bannister'), 'n02790996': (422, 'barbell'), 'n02791124': (423, 'barber_chair'), 'n02791270': (424, 'barbershop'), 'n02793495': (425, 'barn'), 'n02794156': (426, 'barometer'), 'n02795169': (427, 'barrel'), 'n02797295': (428, 'barrow'), 'n02799071': (429, 'baseball'), 'n02802426': (430, 'basketball'), 'n02804414': (431, 'bassinet'), 'n02804610': (432, 'bassoon'), 'n02807133': (433, 'bathing_cap'), 'n02808304': (434, 'bath_towel'), 'n02808440': (435, 'bathtub'), 'n02814533': (436, 'beach_wagon'), 'n02814860': (437, 'beacon'), 'n02815834': (438, 'beaker'), 'n02817516': (439, 'bearskin'), 'n02823428': (440, 'beer_bottle'), 'n02823750': (441, 'beer_glass'), 'n02825657': (442, 'bell_cote'), 'n02834397': (443, 'bib'), 'n02835271': (444, 'bicycle-built-for-two'), 'n02837789': (445, 'bikini'), 'n02840245': (446, 'binder'), 'n02841315': (447, 'binoculars'), 'n02843684': (448, 'birdhouse'), 'n02859443': (449, 'boathouse'), 'n02860847': (450, 'bobsled'), 'n02865351': (451, 'bolo_tie'), 'n02869837': (452, 'bonnet'), 'n02870880': (453, 'bookcase'), 'n02871525': (454, 'bookshop'), 'n02877765': (455, 'bottlecap'), 'n02879718': (456, 'bow'), 'n02883205': (457, 'bow_tie'), 'n02892201': (458, 'brass'), 'n02892767': (459, 'brassiere'), 'n02894605': (460, 'breakwater'), 'n02895154': (461, 'breastplate'), 'n02906734': (462, 'broom'), 'n02909870': (463, 'bucket'), 'n02910353': (464, 'buckle'), 'n02916936': (465, 'bulletproof_vest'), 'n02917067': (466, 'bullet_train'), 'n02927161': (467, 'butcher_shop'), 'n02930766': (468, 'cab'), 'n02939185': (469, 'caldron'), 'n02948072': (470, 'candle'), 'n02950826': (471, 'cannon'), 'n02951358': (472, 'canoe'), 'n02951585': (473, 'can_opener'), 'n02963159': (474, 'cardigan'), 'n02965783': (475, 'car_mirror'), 'n02966193': (476, 'carousel'), 'n02966687': (477, \"carpenter's_kit\"), 'n02971356': (478, 'carton'), 'n02974003': (479, 'car_wheel'), 'n02977058': (480, 'cash_machine'), 'n02978881': (481, 'cassette'), 'n02979186': (482, 'cassette_player'), 'n02980441': (483, 'castle'), 'n02981792': (484, 'catamaran'), 'n02988304': (485, 'CD_player'), 'n02992211': (486, 'cello'), 'n02992529': (487, 'cellular_telephone'), 'n02999410': (488, 'chain'), 'n03000134': (489, 'chainlink_fence'), 'n03000247': (490, 'chain_mail'), 'n03000684': (491, 'chain_saw'), 'n03014705': (492, 'chest'), 'n03016953': (493, 'chiffonier'), 'n03017168': (494, 'chime'), 'n03018349': (495, 'china_cabinet'), 'n03026506': (496, 'Christmas_stocking'), 'n03028079': (497, 'church'), 'n03032252': (498, 'cinema'), 'n03041632': (499, 'cleaver'), 'n03042490': (500, 'cliff_dwelling'), 'n03045698': (501, 'cloak'), 'n03047690': (502, 'clog'), 'n03062245': (503, 'cocktail_shaker'), 'n03063599': (504, 'coffee_mug'), 'n03063689': (505, 'coffeepot'), 'n03065424': (506, 'coil'), 'n03075370': (507, 'combination_lock'), 'n03085013': (508, 'computer_keyboard'), 'n03089624': (509, 'confectionery'), 'n03095699': (510, 'container_ship'), 'n03100240': (511, 'convertible'), 'n03109150': (512, 'corkscrew'), 'n03110669': (513, 'cornet'), 'n03124043': (514, 'cowboy_boot'), 'n03124170': (515, 'cowboy_hat'), 'n03125729': (516, 'cradle'), 'n03126707': (517, 'crane'), 'n03127747': (518, 'crash_helmet'), 'n03127925': (519, 'crate'), 'n03131574': (520, 'crib'), 'n03133878': (521, 'Crock_Pot'), 'n03134739': (522, 'croquet_ball'), 'n03141823': (523, 'crutch'), 'n03146219': (524, 'cuirass'), 'n03160309': (525, 'dam'), 'n03179701': (526, 'desk'), 'n03180011': (527, 'desktop_computer'), 'n03187595': (528, 'dial_telephone'), 'n03188531': (529, 'diaper'), 'n03196217': (530, 'digital_clock'), 'n03197337': (531, 'digital_watch'), 'n03201208': (532, 'dining_table'), 'n03207743': (533, 'dishrag'), 'n03207941': (534, 'dishwasher'), 'n03208938': (535, 'disk_brake'), 'n03216828': (536, 'dock'), 'n03218198': (537, 'dogsled'), 'n03220513': (538, 'dome'), 'n03223299': (539, 'doormat'), 'n03240683': (540, 'drilling_platform'), 'n03249569': (541, 'drum'), 'n03250847': (542, 'drumstick'), 'n03255030': (543, 'dumbbell'), 'n03259280': (544, 'Dutch_oven'), 'n03271574': (545, 'electric_fan'), 'n03272010': (546, 'electric_guitar'), 'n03272562': (547, 'electric_locomotive'), 'n03290653': (548, 'entertainment_center'), 'n03291819': (549, 'envelope'), 'n03297495': (550, 'espresso_maker'), 'n03314780': (551, 'face_powder'), 'n03325584': (552, 'feather_boa'), 'n03337140': (553, 'file'), 'n03344393': (554, 'fireboat'), 'n03345487': (555, 'fire_engine'), 'n03347037': (556, 'fire_screen'), 'n03355925': (557, 'flagpole'), 'n03372029': (558, 'flute'), 'n03376595': (559, 'folding_chair'), 'n03379051': (560, 'football_helmet'), 'n03384352': (561, 'forklift'), 'n03388043': (562, 'fountain'), 'n03388183': (563, 'fountain_pen'), 'n03388549': (564, 'four-poster'), 'n03393912': (565, 'freight_car'), 'n03394916': (566, 'French_horn'), 'n03400231': (567, 'frying_pan'), 'n03404251': (568, 'fur_coat'), 'n03417042': (569, 'garbage_truck'), 'n03424325': (570, 'gasmask'), 'n03425413': (571, 'gas_pump'), 'n03443371': (572, 'goblet'), 'n03444034': (573, 'go-kart'), 'n03445777': (574, 'golf_ball'), 'n03445924': (575, 'golfcart'), 'n03447447': (576, 'gondola'), 'n03447721': (577, 'gong'), 'n03450230': (578, 'gown'), 'n03452741': (579, 'grand_piano'), 'n03457902': (580, 'greenhouse'), 'n03459775': (581, 'grille'), 'n03461385': (582, 'grocery_store'), 'n03467068': (583, 'guillotine'), 'n03476684': (584, 'hair_slide'), 'n03476991': (585, 'hair_spray'), 'n03478589': (586, 'half_track'), 'n03481172': (587, 'hammer'), 'n03482405': (588, 'hamper'), 'n03483316': (589, 'hand_blower'), 'n03485407': (590, 'hand-held_computer'), 'n03485794': (591, 'handkerchief'), 'n03492542': (592, 'hard_disc'), 'n03494278': (593, 'harmonica'), 'n03495258': (594, 'harp'), 'n03496892': (595, 'harvester'), 'n03498962': (596, 'hatchet'), 'n03527444': (597, 'holster'), 'n03529860': (598, 'home_theater'), 'n03530642': (599, 'honeycomb'), 'n03532672': (600, 'hook'), 'n03534580': (601, 'hoopskirt'), 'n03535780': (602, 'horizontal_bar'), 'n03538406': (603, 'horse_cart'), 'n03544143': (604, 'hourglass'), 'n03584254': (605, 'iPod'), 'n03584829': (606, 'iron'), 'n03590841': (607, \"jack-o'-lantern\"), 'n03594734': (608, 'jean'), 'n03594945': (609, 'jeep'), 'n03595614': (610, 'jersey'), 'n03598930': (611, 'jigsaw_puzzle'), 'n03599486': (612, 'jinrikisha'), 'n03602883': (613, 'joystick'), 'n03617480': (614, 'kimono'), 'n03623198': (615, 'knee_pad'), 'n03627232': (616, 'knot'), 'n03630383': (617, 'lab_coat'), 'n03633091': (618, 'ladle'), 'n03637318': (619, 'lampshade'), 'n03642806': (620, 'laptop'), 'n03649909': (621, 'lawn_mower'), 'n03657121': (622, 'lens_cap'), 'n03658185': (623, 'letter_opener'), 'n03661043': (624, 'library'), 'n03662601': (625, 'lifeboat'), 'n03666591': (626, 'lighter'), 'n03670208': (627, 'limousine'), 'n03673027': (628, 'liner'), 'n03676483': (629, 'lipstick'), 'n03680355': (630, 'Loafer'), 'n03690938': (631, 'lotion'), 'n03691459': (632, 'loudspeaker'), 'n03692522': (633, 'loupe'), 'n03697007': (634, 'lumbermill'), 'n03706229': (635, 'magnetic_compass'), 'n03709823': (636, 'mailbag'), 'n03710193': (637, 'mailbox'), 'n03710637': (638, 'maillot'), 'n03710721': (639, 'maillot'), 'n03717622': (640, 'manhole_cover'), 'n03720891': (641, 'maraca'), 'n03721384': (642, 'marimba'), 'n03724870': (643, 'mask'), 'n03729826': (644, 'matchstick'), 'n03733131': (645, 'maypole'), 'n03733281': (646, 'maze'), 'n03733805': (647, 'measuring_cup'), 'n03742115': (648, 'medicine_chest'), 'n03743016': (649, 'megalith'), 'n03759954': (650, 'microphone'), 'n03761084': (651, 'microwave'), 'n03763968': (652, 'military_uniform'), 'n03764736': (653, 'milk_can'), 'n03769881': (654, 'minibus'), 'n03770439': (655, 'miniskirt'), 'n03770679': (656, 'minivan'), 'n03773504': (657, 'missile'), 'n03775071': (658, 'mitten'), 'n03775546': (659, 'mixing_bowl'), 'n03776460': (660, 'mobile_home'), 'n03777568': (661, 'Model_T'), 'n03777754': (662, 'modem'), 'n03781244': (663, 'monastery'), 'n03782006': (664, 'monitor'), 'n03785016': (665, 'moped'), 'n03786901': (666, 'mortar'), 'n03787032': (667, 'mortarboard'), 'n03788195': (668, 'mosque'), 'n03788365': (669, 'mosquito_net'), 'n03791053': (670, 'motor_scooter'), 'n03792782': (671, 'mountain_bike'), 'n03792972': (672, 'mountain_tent'), 'n03793489': (673, 'mouse'), 'n03794056': (674, 'mousetrap'), 'n03796401': (675, 'moving_van'), 'n03803284': (676, 'muzzle'), 'n03804744': (677, 'nail'), 'n03814639': (678, 'neck_brace'), 'n03814906': (679, 'necklace'), 'n03825788': (680, 'nipple'), 'n03832673': (681, 'notebook'), 'n03837869': (682, 'obelisk'), 'n03838899': (683, 'oboe'), 'n03840681': (684, 'ocarina'), 'n03841143': (685, 'odometer'), 'n03843555': (686, 'oil_filter'), 'n03854065': (687, 'organ'), 'n03857828': (688, 'oscilloscope'), 'n03866082': (689, 'overskirt'), 'n03868242': (690, 'oxcart'), 'n03868863': (691, 'oxygen_mask'), 'n03871628': (692, 'packet'), 'n03873416': (693, 'paddle'), 'n03874293': (694, 'paddlewheel'), 'n03874599': (695, 'padlock'), 'n03876231': (696, 'paintbrush'), 'n03877472': (697, 'pajama'), 'n03877845': (698, 'palace'), 'n03884397': (699, 'panpipe'), 'n03887697': (700, 'paper_towel'), 'n03888257': (701, 'parachute'), 'n03888605': (702, 'parallel_bars'), 'n03891251': (703, 'park_bench'), 'n03891332': (704, 'parking_meter'), 'n03895866': (705, 'passenger_car'), 'n03899768': (706, 'patio'), 'n03902125': (707, 'pay-phone'), 'n03903868': (708, 'pedestal'), 'n03908618': (709, 'pencil_box'), 'n03908714': (710, 'pencil_sharpener'), 'n03916031': (711, 'perfume'), 'n03920288': (712, 'Petri_dish'), 'n03924679': (713, 'photocopier'), 'n03929660': (714, 'pick'), 'n03929855': (715, 'pickelhaube'), 'n03930313': (716, 'picket_fence'), 'n03930630': (717, 'pickup'), 'n03933933': (718, 'pier'), 'n03935335': (719, 'piggy_bank'), 'n03937543': (720, 'pill_bottle'), 'n03938244': (721, 'pillow'), 'n03942813': (722, 'ping-pong_ball'), 'n03944341': (723, 'pinwheel'), 'n03947888': (724, 'pirate'), 'n03950228': (725, 'pitcher'), 'n03954731': (726, 'plane'), 'n03956157': (727, 'planetarium'), 'n03958227': (728, 'plastic_bag'), 'n03961711': (729, 'plate_rack'), 'n03967562': (730, 'plow'), 'n03970156': (731, 'plunger'), 'n03976467': (732, 'Polaroid_camera'), 'n03976657': (733, 'pole'), 'n03977966': (734, 'police_van'), 'n03980874': (735, 'poncho'), 'n03982430': (736, 'pool_table'), 'n03983396': (737, 'pop_bottle'), 'n03991062': (738, 'pot'), 'n03992509': (739, \"potter's_wheel\"), 'n03995372': (740, 'power_drill'), 'n03998194': (741, 'prayer_rug'), 'n04004767': (742, 'printer'), 'n04005630': (743, 'prison'), 'n04008634': (744, 'projectile'), 'n04009552': (745, 'projector'), 'n04019541': (746, 'puck'), 'n04023962': (747, 'punching_bag'), 'n04026417': (748, 'purse'), 'n04033901': (749, 'quill'), 'n04033995': (750, 'quilt'), 'n04037443': (751, 'racer'), 'n04039381': (752, 'racket'), 'n04040759': (753, 'radiator'), 'n04041544': (754, 'radio'), 'n04044716': (755, 'radio_telescope'), 'n04049303': (756, 'rain_barrel'), 'n04065272': (757, 'recreational_vehicle'), 'n04067472': (758, 'reel'), 'n04069434': (759, 'reflex_camera'), 'n04070727': (760, 'refrigerator'), 'n04074963': (761, 'remote_control'), 'n04081281': (762, 'restaurant'), 'n04086273': (763, 'revolver'), 'n04090263': (764, 'rifle'), 'n04099969': (765, 'rocking_chair'), 'n04111531': (766, 'rotisserie'), 'n04116512': (767, 'rubber_eraser'), 'n04118538': (768, 'rugby_ball'), 'n04118776': (769, 'rule'), 'n04120489': (770, 'running_shoe'), 'n04125021': (771, 'safe'), 'n04127249': (772, 'safety_pin'), 'n04131690': (773, 'saltshaker'), 'n04133789': (774, 'sandal'), 'n04136333': (775, 'sarong'), 'n04141076': (776, 'sax'), 'n04141327': (777, 'scabbard'), 'n04141975': (778, 'scale'), 'n04146614': (779, 'school_bus'), 'n04147183': (780, 'schooner'), 'n04149813': (781, 'scoreboard'), 'n04152593': (782, 'screen'), 'n04153751': (783, 'screw'), 'n04154565': (784, 'screwdriver'), 'n04162706': (785, 'seat_belt'), 'n04179913': (786, 'sewing_machine'), 'n04192698': (787, 'shield'), 'n04200800': (788, 'shoe_shop'), 'n04201297': (789, 'shoji'), 'n04204238': (790, 'shopping_basket'), 'n04204347': (791, 'shopping_cart'), 'n04208210': (792, 'shovel'), 'n04209133': (793, 'shower_cap'), 'n04209239': (794, 'shower_curtain'), 'n04228054': (795, 'ski'), 'n04229816': (796, 'ski_mask'), 'n04235860': (797, 'sleeping_bag'), 'n04238763': (798, 'slide_rule'), 'n04239074': (799, 'sliding_door'), 'n04243546': (800, 'slot'), 'n04251144': (801, 'snorkel'), 'n04252077': (802, 'snowmobile'), 'n04252225': (803, 'snowplow'), 'n04254120': (804, 'soap_dispenser'), 'n04254680': (805, 'soccer_ball'), 'n04254777': (806, 'sock'), 'n04258138': (807, 'solar_dish'), 'n04259630': (808, 'sombrero'), 'n04263257': (809, 'soup_bowl'), 'n04264628': (810, 'space_bar'), 'n04265275': (811, 'space_heater'), 'n04266014': (812, 'space_shuttle'), 'n04270147': (813, 'spatula'), 'n04273569': (814, 'speedboat'), 'n04275548': (815, 'spider_web'), 'n04277352': (816, 'spindle'), 'n04285008': (817, 'sports_car'), 'n04286575': (818, 'spotlight'), 'n04296562': (819, 'stage'), 'n04310018': (820, 'steam_locomotive'), 'n04311004': (821, 'steel_arch_bridge'), 'n04311174': (822, 'steel_drum'), 'n04317175': (823, 'stethoscope'), 'n04325704': (824, 'stole'), 'n04326547': (825, 'stone_wall'), 'n04328186': (826, 'stopwatch'), 'n04330267': (827, 'stove'), 'n04332243': (828, 'strainer'), 'n04335435': (829, 'streetcar'), 'n04336792': (830, 'stretcher'), 'n04344873': (831, 'studio_couch'), 'n04346328': (832, 'stupa'), 'n04347754': (833, 'submarine'), 'n04350905': (834, 'suit'), 'n04355338': (835, 'sundial'), 'n04355933': (836, 'sunglass'), 'n04356056': (837, 'sunglasses'), 'n04357314': (838, 'sunscreen'), 'n04366367': (839, 'suspension_bridge'), 'n04367480': (840, 'swab'), 'n04370456': (841, 'sweatshirt'), 'n04371430': (842, 'swimming_trunks'), 'n04371774': (843, 'swing'), 'n04372370': (844, 'switch'), 'n04376876': (845, 'syringe'), 'n04380533': (846, 'table_lamp'), 'n04389033': (847, 'tank'), 'n04392985': (848, 'tape_player'), 'n04398044': (849, 'teapot'), 'n04399382': (850, 'teddy'), 'n04404412': (851, 'television'), 'n04409515': (852, 'tennis_ball'), 'n04417672': (853, 'thatch'), 'n04418357': (854, 'theater_curtain'), 'n04423845': (855, 'thimble'), 'n04428191': (856, 'thresher'), 'n04429376': (857, 'throne'), 'n04435653': (858, 'tile_roof'), 'n04442312': (859, 'toaster'), 'n04443257': (860, 'tobacco_shop'), 'n04447861': (861, 'toilet_seat'), 'n04456115': (862, 'torch'), 'n04458633': (863, 'totem_pole'), 'n04461696': (864, 'tow_truck'), 'n04462240': (865, 'toyshop'), 'n04465501': (866, 'tractor'), 'n04467665': (867, 'trailer_truck'), 'n04476259': (868, 'tray'), 'n04479046': (869, 'trench_coat'), 'n04482393': (870, 'tricycle'), 'n04483307': (871, 'trimaran'), 'n04485082': (872, 'tripod'), 'n04486054': (873, 'triumphal_arch'), 'n04487081': (874, 'trolleybus'), 'n04487394': (875, 'trombone'), 'n04493381': (876, 'tub'), 'n04501370': (877, 'turnstile'), 'n04505470': (878, 'typewriter_keyboard'), 'n04507155': (879, 'umbrella'), 'n04509417': (880, 'unicycle'), 'n04515003': (881, 'upright'), 'n04517823': (882, 'vacuum'), 'n04522168': (883, 'vase'), 'n04523525': (884, 'vault'), 'n04525038': (885, 'velvet'), 'n04525305': (886, 'vending_machine'), 'n04532106': (887, 'vestment'), 'n04532670': (888, 'viaduct'), 'n04536866': (889, 'violin'), 'n04540053': (890, 'volleyball'), 'n04542943': (891, 'waffle_iron'), 'n04548280': (892, 'wall_clock'), 'n04548362': (893, 'wallet'), 'n04550184': (894, 'wardrobe'), 'n04552348': (895, 'warplane'), 'n04553703': (896, 'washbasin'), 'n04554684': (897, 'washer'), 'n04557648': (898, 'water_bottle'), 'n04560804': (899, 'water_jug'), 'n04562935': (900, 'water_tower'), 'n04579145': (901, 'whiskey_jug'), 'n04579432': (902, 'whistle'), 'n04584207': (903, 'wig'), 'n04589890': (904, 'window_screen'), 'n04590129': (905, 'window_shade'), 'n04591157': (906, 'Windsor_tie'), 'n04591713': (907, 'wine_bottle'), 'n04592741': (908, 'wing'), 'n04596742': (909, 'wok'), 'n04597913': (910, 'wooden_spoon'), 'n04599235': (911, 'wool'), 'n04604644': (912, 'worm_fence'), 'n04606251': (913, 'wreck'), 'n04612504': (914, 'yawl'), 'n04613696': (915, 'yurt'), 'n06359193': (916, 'web_site'), 'n06596364': (917, 'comic_book'), 'n06785654': (918, 'crossword_puzzle'), 'n06794110': (919, 'street_sign'), 'n06874185': (920, 'traffic_light'), 'n07248320': (921, 'book_jacket'), 'n07565083': (922, 'menu'), 'n07579787': (923, 'plate'), 'n07583066': (924, 'guacamole'), 'n07584110': (925, 'consomme'), 'n07590611': (926, 'hot_pot'), 'n07613480': (927, 'trifle'), 'n07614500': (928, 'ice_cream'), 'n07615774': (929, 'ice_lolly'), 'n07684084': (930, 'French_loaf'), 'n07693725': (931, 'bagel'), 'n07695742': (932, 'pretzel'), 'n07697313': (933, 'cheeseburger'), 'n07697537': (934, 'hotdog'), 'n07711569': (935, 'mashed_potato'), 'n07714571': (936, 'head_cabbage'), 'n07714990': (937, 'broccoli'), 'n07715103': (938, 'cauliflower'), 'n07716358': (939, 'zucchini'), 'n07716906': (940, 'spaghetti_squash'), 'n07717410': (941, 'acorn_squash'), 'n07717556': (942, 'butternut_squash'), 'n07718472': (943, 'cucumber'), 'n07718747': (944, 'artichoke'), 'n07720875': (945, 'bell_pepper'), 'n07730033': (946, 'cardoon'), 'n07734744': (947, 'mushroom'), 'n07742313': (948, 'Granny_Smith'), 'n07745940': (949, 'strawberry'), 'n07747607': (950, 'orange'), 'n07749582': (951, 'lemon'), 'n07753113': (952, 'fig'), 'n07753275': (953, 'pineapple'), 'n07753592': (954, 'banana'), 'n07754684': (955, 'jackfruit'), 'n07760859': (956, 'custard_apple'), 'n07768694': (957, 'pomegranate'), 'n07802026': (958, 'hay'), 'n07831146': (959, 'carbonara'), 'n07836838': (960, 'chocolate_sauce'), 'n07860988': (961, 'dough'), 'n07871810': (962, 'meat_loaf'), 'n07873807': (963, 'pizza'), 'n07875152': (964, 'potpie'), 'n07880968': (965, 'burrito'), 'n07892512': (966, 'red_wine'), 'n07920052': (967, 'espresso'), 'n07930864': (968, 'cup'), 'n07932039': (969, 'eggnog'), 'n09193705': (970, 'alp'), 'n09229709': (971, 'bubble'), 'n09246464': (972, 'cliff'), 'n09256479': (973, 'coral_reef'), 'n09288635': (974, 'geyser'), 'n09332890': (975, 'lakeside'), 'n09399592': (976, 'promontory'), 'n09421951': (977, 'sandbar'), 'n09428293': (978, 'seashore'), 'n09468604': (979, 'valley'), 'n09472597': (980, 'volcano'), 'n09835506': (981, 'ballplayer'), 'n10148035': (982, 'groom'), 'n10565667': (983, 'scuba_diver'), 'n11879895': (984, 'rapeseed'), 'n11939491': (985, 'daisy'), 'n12057211': (986, \"yellow_lady's_slipper\"), 'n12144580': (987, 'corn'), 'n12267677': (988, 'acorn'), 'n12620546': (989, 'hip'), 'n12768682': (990, 'buckeye'), 'n12985857': (991, 'coral_fungus'), 'n12998815': (992, 'agaric'), 'n13037406': (993, 'gyromitra'), 'n13040303': (994, 'stinkhorn'), 'n13044778': (995, 'earthstar'), 'n13052670': (996, 'hen-of-the-woods'), 'n13054560': (997, 'bolete'), 'n13133613': (998, 'ear'), 'n15075141': (999, 'toilet_tissue')}\n"
     ]
    }
   ],
   "source": [
    "annotation_file = '/local_dataset/ImageNet-Mini/imagenet_class_index.json'\n",
    "\n",
    "with open(annotation_file, 'r') as f:\n",
    "    data = json.load(f)\n",
    "folder_map =  {v[0]: (int(k), v[1]) for k,v in data.items()}\n",
    "\n",
    "print(folder_map)"
   ]
  },
  {
   "cell_type": "code",
   "execution_count": 96,
   "metadata": {},
   "outputs": [
    {
     "name": "stdout",
     "output_type": "stream",
     "text": [
      "3139 784\n"
     ]
    }
   ],
   "source": [
    "class RatePreserveResize:\n",
    "    def __init__(self):\n",
    "        pass\n",
    "    \n",
    "    def __call__(self, image):\n",
    "        height, width, _ = image.shape     # cv2는 H, W, C로 읽어옴옴\n",
    "        new_height = height * 256 // min(image.shape[:-1])\n",
    "        new_width = width * 256 // min(image.shape[:-1])\n",
    "        image = cv2.resize(image, (new_width, new_height), interpolation=cv2.INTER_CUBIC)\n",
    "        return image\n",
    "\n",
    "transform = transforms.Compose([\n",
    "    RatePreserveResize(),\n",
    "    transforms.ToTensor(),\n",
    "    transforms.CenterCrop((224, 224)),\n",
    "    transforms.Normalize((0.4914, 0.4822, 0.4465), (0.2470, 0.2435, 0.2616))    # ImageNet mean, std\n",
    "])\n",
    "\n",
    "data_dir = '/local_dataset/ImageNet-Mini'\n",
    "dataset = MiniImageNetDataset(root_dir=data_dir, transform=transform)\n",
    "\n",
    "train_size = 0.8\n",
    "test_size = 1-train_size\n",
    "train_dataset, test_dataset  = random_split(dataset, [train_size, test_size], generator=torch.Generator().manual_seed(100))\n",
    "\n",
    "# Create DataLoaders\n",
    "batch_size = 64\n",
    "train_loader = DataLoader(train_dataset, batch_size=batch_size, shuffle=True, num_workers=4)\n",
    "val_loader = DataLoader(test_dataset, batch_size=batch_size, shuffle=False, num_workers=4)\n",
    "\n",
    "print(len(train_dataset), len(test_dataset))"
   ]
  },
  {
   "cell_type": "code",
   "execution_count": 71,
   "metadata": {},
   "outputs": [
    {
     "name": "stderr",
     "output_type": "stream",
     "text": [
      "Clipping input data to the valid range for imshow with RGB data ([0..1] for floats or [0..255] for integers). Got range [-1.9894737..2.1264887].\n"
     ]
    },
    {
     "name": "stdout",
     "output_type": "stream",
     "text": [
      "tensor(992) torch.Size([3, 224, 224])\n"
     ]
    },
    {
     "data": {
      "text/plain": [
       "<matplotlib.image.AxesImage at 0x7f8e8e824250>"
      ]
     },
     "execution_count": 71,
     "metadata": {},
     "output_type": "execute_result"
    },
    {
     "data": {
      "image/png": "[encoded data removed]",
      "text/plain": [
       "<Figure size 640x480 with 1 Axes>"
      ]
     },
     "metadata": {},
     "output_type": "display_data"
    }
   ],
   "source": [
    "img, label = train_dataset[0]\n",
    "\n",
    "print(label, img.shape)\n",
    "plt.imshow(img.permute(1, 2, 0))    # plt imshow는 H, W, C 형태의 입력이 요구됨."
   ]
  },
  {
   "cell_type": "markdown",
   "metadata": {},
   "source": [
    "## Part B. ViT Implementation "
   ]
  },
  {
   "cell_type": "markdown",
   "metadata": {},
   "source": [
    "### Input to patch"
   ]
  },
  {
   "cell_type": "code",
   "execution_count": 72,
   "metadata": {},
   "outputs": [],
   "source": [
    "# helpers\n",
    "\n",
    "def pair(t):\n",
    "    return t if isinstance(t, tuple) else (t, t)\n",
    "\n",
    "# classes\n",
    "\n",
    "class FeedForward(nn.Module):\n",
    "    def __init__(self, dim, hidden_dim, dropout = 0.):\n",
    "        super().__init__()\n",
    "        self.net = nn.Sequential(\n",
    "            nn.LayerNorm(dim),\n",
    "            nn.Linear(dim, hidden_dim),\n",
    "            nn.GELU(),\n",
    "            nn.Dropout(dropout),\n",
    "            nn.Linear(hidden_dim, dim),\n",
    "            nn.Dropout(dropout)\n",
    "        )\n",
    "\n",
    "    def forward(self, x):\n",
    "        return self.net(x)\n",
    "\n",
    "class Attention(nn.Module):\n",
    "    def __init__(self, dim, heads = 8, dim_head = 64, dropout = 0.):\n",
    "        super().__init__()\n",
    "        inner_dim = dim_head *  heads\n",
    "        project_out = not (heads == 1 and dim_head == dim)\n",
    "\n",
    "        self.heads = heads\n",
    "        self.scale = dim_head ** -0.5\n",
    "\n",
    "        self.norm = nn.LayerNorm(dim)\n",
    "\n",
    "        self.attend = nn.Softmax(dim = -1)\n",
    "        self.dropout = nn.Dropout(dropout)\n",
    "\n",
    "        self.to_qkv = nn.Linear(dim, inner_dim * 3, bias = False)\n",
    "\n",
    "        self.to_out = nn.Sequential(\n",
    "            nn.Linear(inner_dim, dim),\n",
    "            nn.Dropout(dropout)\n",
    "        ) if project_out else nn.Identity()\n",
    "\n",
    "    def forward(self, x):\n",
    "        x = self.norm(x)\n",
    "\n",
    "        qkv = self.to_qkv(x).chunk(3, dim = -1)\n",
    "        q, k, v = map(lambda t: rearrange(t, 'b n (h d) -> b h n d', h = self.heads), qkv)\n",
    "\n",
    "        dots = torch.matmul(q, k.transpose(-1, -2)) * self.scale\n",
    "\n",
    "        attn = self.attend(dots)\n",
    "        attn = self.dropout(attn)\n",
    "\n",
    "        out = torch.matmul(attn, v)\n",
    "        out = rearrange(out, 'b h n d -> b n (h d)')\n",
    "        return self.to_out(out)\n",
    "\n",
    "class Transformer(nn.Module):\n",
    "    def __init__(self, dim, depth, heads, dim_head, mlp_dim, dropout = 0.):\n",
    "        super().__init__()\n",
    "        self.norm = nn.LayerNorm(dim)\n",
    "        self.layers = nn.ModuleList([])\n",
    "        for _ in range(depth):\n",
    "            self.layers.append(nn.ModuleList([\n",
    "                Attention(dim, heads = heads, dim_head = dim_head, dropout = dropout),\n",
    "                FeedForward(dim, mlp_dim, dropout = dropout)\n",
    "            ]))\n",
    "\n",
    "    def forward(self, x):\n",
    "        for attn, ff in self.layers:\n",
    "            x = attn(x) + x\n",
    "            x = ff(x) + x\n",
    "\n",
    "        return self.norm(x)\n",
    "\n",
    "class ViT(nn.Module):\n",
    "    def __init__(self, *, image_size, patch_size, num_classes, dim, depth, heads, mlp_dim, pool = 'cls', channels = 3, dim_head = 64, dropout = 0., emb_dropout = 0.):\n",
    "        super().__init__()\n",
    "        image_height, image_width = pair(image_size)\n",
    "        patch_height, patch_width = pair(patch_size)\n",
    "\n",
    "        assert image_height % patch_height == 0 and image_width % patch_width == 0, 'Image dimensions must be divisible by the patch size.'\n",
    "\n",
    "        num_patches = (image_height // patch_height) * (image_width // patch_width)\n",
    "        patch_dim = channels * patch_height * patch_width\n",
    "        assert pool in {'cls', 'mean'}, 'pool type must be either cls (cls token) or mean (mean pooling)'\n",
    "\n",
    "        self.to_patch_embedding = nn.Sequential(\n",
    "            Rearrange('b c (h p1) (w p2) -> b (h w) (p1 p2 c)', p1 = patch_height, p2 = patch_width),\n",
    "            nn.LayerNorm(patch_dim),\n",
    "            nn.Linear(patch_dim, dim),\n",
    "            nn.LayerNorm(dim),\n",
    "        )\n",
    "\n",
    "        self.pos_embedding = nn.Parameter(torch.randn(1, num_patches + 1, dim))\n",
    "        self.cls_token = nn.Parameter(torch.randn(1, 1, dim))\n",
    "        self.dropout = nn.Dropout(emb_dropout)\n",
    "\n",
    "        self.transformer = Transformer(dim, depth, heads, dim_head, mlp_dim, dropout)\n",
    "\n",
    "        self.pool = pool\n",
    "        self.to_latent = nn.Identity()\n",
    "\n",
    "        self.mlp_head = nn.Linear(dim, num_classes)\n",
    "\n",
    "    def forward(self, img):\n",
    "        x = self.to_patch_embedding(img)\n",
    "        b, n, _ = x.shape\n",
    "\n",
    "        cls_tokens = repeat(self.cls_token, '1 1 d -> b 1 d', b = b)\n",
    "        x = torch.cat((cls_tokens, x), dim=1)\n",
    "        x += self.pos_embedding[:, :(n + 1)]\n",
    "        x = self.dropout(x)\n",
    "\n",
    "        x = self.transformer(x)\n",
    "\n",
    "        x = x.mean(dim = 1) if self.pool == 'mean' else x[:, 0]\n",
    "\n",
    "        x = self.to_latent(x)\n",
    "        return self.mlp_head(x)"
   ]
  },
  {
   "cell_type": "code",
   "execution_count": 73,
   "metadata": {},
   "outputs": [
    {
     "name": "stdout",
     "output_type": "stream",
     "text": [
      "device is cuda:0\n"
     ]
    }
   ],
   "source": [
    "device = torch.device('cuda:0' if torch.cuda.is_available() else 'cpu')\n",
    "print('device is', device)"
   ]
  },
  {
   "cell_type": "code",
   "execution_count": 88,
   "metadata": {},
   "outputs": [],
   "source": [
    "# Create the ViT model\n",
    "model = ViT(\n",
    "    image_size = 224,\n",
    "    patch_size = 32,\n",
    "    num_classes = 1000,\n",
    "    dim = 768,\n",
    "    depth = 12,\n",
    "    heads = 12,\n",
    "    mlp_dim = 3072,\n",
    "    dropout = 0.1,\n",
    "    emb_dropout = 0.1\n",
    ")\n",
    "\n",
    "# Loss fucntion and optimizer\n",
    "criterion = nn.CrossEntropyLoss()"
   ]
  },
  {
   "cell_type": "code",
   "execution_count": 101,
   "metadata": {},
   "outputs": [],
   "source": [
    "model.to(device)\n",
    "\n",
    "num_epochs = 400\n",
    "train_losses = []\n",
    "val_losses = []\n",
    "\n",
    "base_lr = 3e-3\n",
    "optimizer = optim.Adam(model.parameters(), lr=base_lr, betas=(0.9, 0.999), weight_decay=0.3)\n",
    "\n",
    "\n",
    "warmup_steps = 10000\n",
    "total_steps = (len(train_dataset) // batch_size) * num_epochs\n",
    "warmup_steps = min(warmup_steps, total_steps)\n",
    "\n",
    "warmup_scheduler = LinearLR(\n",
    "    optimizer,\n",
    "    start_factor=1e-6,  # Start with a very small LR (close to 0)\n",
    "    end_factor=base_lr, \n",
    "    total_iters=warmup_steps,\n",
    ")\n",
    "\n",
    "# Cosine Decay (after warmup)\n",
    "cosine_scheduler = CosineAnnealingLR(\n",
    "    optimizer,\n",
    "    T_max=total_steps - warmup_steps,  # Remaining steps after warmup\n",
    "    eta_min=0,  # Minimum learning rate\n",
    ")\n",
    "\n",
    "# Combine them sequentially\n",
    "scheduler = SequentialLR(\n",
    "    optimizer,\n",
    "    schedulers=[warmup_scheduler, cosine_scheduler],\n",
    "    milestones=[warmup_steps],  # Switch to cosine after warmup\n",
    ")"
   ]
  },
  {
   "cell_type": "code",
   "execution_count": 102,
   "metadata": {},
   "outputs": [
    {
     "name": "stdout",
     "output_type": "stream",
     "text": [
      "19600 10000\n"
     ]
    }
   ],
   "source": [
    "print(total_steps, warmup_steps)"
   ]
  },
  {
   "cell_type": "code",
   "execution_count": 103,
   "metadata": {},
   "outputs": [
    {
     "name": "stderr",
     "output_type": "stream",
     "text": [
      "Training: 100%|██████████| 50/50 [00:07<00:00,  6.72it/s, loss=6.72]\n"
     ]
    },
    {
     "name": "stdout",
     "output_type": "stream",
     "text": [
      "Validation Accuracy: 0.0013\n",
      "Epoch [1/400], Train Loss: 6.7244, Val Loss: 7.0504 \n",
      "\n"
     ]
    },
    {
     "name": "stderr",
     "output_type": "stream",
     "text": [
      "Training: 100%|██████████| 50/50 [00:07<00:00,  6.73it/s, loss=6.72]\n"
     ]
    },
    {
     "name": "stdout",
     "output_type": "stream",
     "text": [
      "Validation Accuracy: 0.0013\n",
      "Epoch [2/400], Train Loss: 6.7246, Val Loss: 7.0504 \n",
      "\n"
     ]
    },
    {
     "name": "stderr",
     "output_type": "stream",
     "text": [
      "Training: 100%|██████████| 50/50 [00:07<00:00,  6.74it/s, loss=6.72]\n"
     ]
    },
    {
     "name": "stdout",
     "output_type": "stream",
     "text": [
      "Validation Accuracy: 0.0026\n",
      "Epoch [3/400], Train Loss: 6.7240, Val Loss: 7.0505 \n",
      "\n"
     ]
    },
    {
     "name": "stderr",
     "output_type": "stream",
     "text": [
      "Training: 100%|██████████| 50/50 [00:07<00:00,  6.71it/s, loss=6.72]\n"
     ]
    },
    {
     "name": "stdout",
     "output_type": "stream",
     "text": [
      "Validation Accuracy: 0.0013\n",
      "Epoch [4/400], Train Loss: 6.7161, Val Loss: 7.0506 \n",
      "\n"
     ]
    },
    {
     "name": "stderr",
     "output_type": "stream",
     "text": [
      "Training: 100%|██████████| 50/50 [00:07<00:00,  6.65it/s, loss=6.71]\n"
     ]
    },
    {
     "name": "stdout",
     "output_type": "stream",
     "text": [
      "Validation Accuracy: 0.0026\n",
      "Epoch [5/400], Train Loss: 6.7136, Val Loss: 7.0508 \n",
      "\n"
     ]
    },
    {
     "name": "stderr",
     "output_type": "stream",
     "text": [
      "Training: 100%|██████████| 50/50 [00:07<00:00,  6.70it/s, loss=6.72]\n"
     ]
    },
    {
     "name": "stdout",
     "output_type": "stream",
     "text": [
      "Validation Accuracy: 0.0013\n",
      "Epoch [6/400], Train Loss: 6.7196, Val Loss: 7.0510 \n",
      "\n"
     ]
    },
    {
     "name": "stderr",
     "output_type": "stream",
     "text": [
      "Training: 100%|██████████| 50/50 [00:07<00:00,  6.64it/s, loss=6.72]\n"
     ]
    },
    {
     "name": "stdout",
     "output_type": "stream",
     "text": [
      "Validation Accuracy: 0.0013\n",
      "Epoch [7/400], Train Loss: 6.7247, Val Loss: 7.0514 \n",
      "\n"
     ]
    },
    {
     "name": "stderr",
     "output_type": "stream",
     "text": [
      "Training: 100%|██████████| 50/50 [00:07<00:00,  6.67it/s, loss=6.73]\n"
     ]
    },
    {
     "name": "stdout",
     "output_type": "stream",
     "text": [
      "Validation Accuracy: 0.0013\n",
      "Epoch [8/400], Train Loss: 6.7274, Val Loss: 7.0516 \n",
      "\n"
     ]
    },
    {
     "name": "stderr",
     "output_type": "stream",
     "text": [
      "Training: 100%|██████████| 50/50 [00:07<00:00,  6.70it/s, loss=6.73]\n"
     ]
    },
    {
     "name": "stdout",
     "output_type": "stream",
     "text": [
      "Validation Accuracy: 0.0013\n",
      "Epoch [9/400], Train Loss: 6.7295, Val Loss: 7.0518 \n",
      "\n"
     ]
    },
    {
     "name": "stderr",
     "output_type": "stream",
     "text": [
      "Training: 100%|██████████| 50/50 [00:07<00:00,  6.70it/s, loss=6.73]\n"
     ]
    },
    {
     "name": "stdout",
     "output_type": "stream",
     "text": [
      "Validation Accuracy: 0.0013\n",
      "Epoch [10/400], Train Loss: 6.7344, Val Loss: 7.0520 \n",
      "\n"
     ]
    },
    {
     "name": "stderr",
     "output_type": "stream",
     "text": [
      "Training: 100%|██████████| 50/50 [00:07<00:00,  6.67it/s, loss=6.73]\n"
     ]
    },
    {
     "name": "stdout",
     "output_type": "stream",
     "text": [
      "Validation Accuracy: 0.0013\n",
      "Epoch [11/400], Train Loss: 6.7325, Val Loss: 7.0525 \n",
      "\n"
     ]
    },
    {
     "name": "stderr",
     "output_type": "stream",
     "text": [
      "Training: 100%|██████████| 50/50 [00:07<00:00,  6.64it/s, loss=6.74]\n"
     ]
    },
    {
     "name": "stdout",
     "output_type": "stream",
     "text": [
      "Validation Accuracy: 0.0013\n",
      "Epoch [12/400], Train Loss: 6.7351, Val Loss: 7.0527 \n",
      "\n"
     ]
    },
    {
     "name": "stderr",
     "output_type": "stream",
     "text": [
      "Training: 100%|██████████| 50/50 [00:07<00:00,  6.69it/s, loss=6.74]\n"
     ]
    },
    {
     "name": "stdout",
     "output_type": "stream",
     "text": [
      "Validation Accuracy: 0.0013\n",
      "Epoch [13/400], Train Loss: 6.7367, Val Loss: 7.0531 \n",
      "\n"
     ]
    },
    {
     "name": "stderr",
     "output_type": "stream",
     "text": [
      "Training: 100%|██████████| 50/50 [00:07<00:00,  6.70it/s, loss=6.74]\n"
     ]
    },
    {
     "name": "stdout",
     "output_type": "stream",
     "text": [
      "Validation Accuracy: 0.0013\n",
      "Epoch [14/400], Train Loss: 6.7360, Val Loss: 7.0531 \n",
      "\n"
     ]
    },
    {
     "name": "stderr",
     "output_type": "stream",
     "text": [
      "Training: 100%|██████████| 50/50 [00:07<00:00,  6.63it/s, loss=6.74]\n"
     ]
    },
    {
     "name": "stdout",
     "output_type": "stream",
     "text": [
      "Validation Accuracy: 0.0013\n",
      "Epoch [15/400], Train Loss: 6.7449, Val Loss: 7.0534 \n",
      "\n"
     ]
    },
    {
     "name": "stderr",
     "output_type": "stream",
     "text": [
      "Training: 100%|██████████| 50/50 [00:07<00:00,  6.68it/s, loss=6.74]\n"
     ]
    },
    {
     "name": "stdout",
     "output_type": "stream",
     "text": [
      "Validation Accuracy: 0.0013\n",
      "Epoch [16/400], Train Loss: 6.7429, Val Loss: 7.0537 \n",
      "\n"
     ]
    },
    {
     "name": "stderr",
     "output_type": "stream",
     "text": [
      "Training: 100%|██████████| 50/50 [00:07<00:00,  6.73it/s, loss=6.75]\n"
     ]
    },
    {
     "name": "stdout",
     "output_type": "stream",
     "text": [
      "Validation Accuracy: 0.0013\n",
      "Epoch [17/400], Train Loss: 6.7473, Val Loss: 7.0538 \n",
      "\n"
     ]
    },
    {
     "name": "stderr",
     "output_type": "stream",
     "text": [
      "Training: 100%|██████████| 50/50 [00:07<00:00,  6.68it/s, loss=6.75]\n"
     ]
    },
    {
     "name": "stdout",
     "output_type": "stream",
     "text": [
      "Validation Accuracy: 0.0013\n",
      "Epoch [18/400], Train Loss: 6.7486, Val Loss: 7.0536 \n",
      "\n"
     ]
    },
    {
     "name": "stderr",
     "output_type": "stream",
     "text": [
      "Training: 100%|██████████| 50/50 [00:07<00:00,  6.68it/s, loss=6.76]\n"
     ]
    },
    {
     "name": "stdout",
     "output_type": "stream",
     "text": [
      "Validation Accuracy: 0.0013\n",
      "Epoch [19/400], Train Loss: 6.7556, Val Loss: 7.0541 \n",
      "\n"
     ]
    },
    {
     "name": "stderr",
     "output_type": "stream",
     "text": [
      "Training: 100%|██████████| 50/50 [00:07<00:00,  6.68it/s, loss=6.76]\n"
     ]
    },
    {
     "name": "stdout",
     "output_type": "stream",
     "text": [
      "Validation Accuracy: 0.0013\n",
      "Epoch [20/400], Train Loss: 6.7570, Val Loss: 7.0541 \n",
      "\n"
     ]
    },
    {
     "name": "stderr",
     "output_type": "stream",
     "text": [
      "Training: 100%|██████████| 50/50 [00:07<00:00,  6.67it/s, loss=6.75]\n"
     ]
    },
    {
     "name": "stdout",
     "output_type": "stream",
     "text": [
      "Validation Accuracy: 0.0013\n",
      "Epoch [21/400], Train Loss: 6.7526, Val Loss: 7.0548 \n",
      "\n"
     ]
    },
    {
     "name": "stderr",
     "output_type": "stream",
     "text": [
      "Training: 100%|██████████| 50/50 [00:07<00:00,  6.70it/s, loss=6.76]\n"
     ]
    },
    {
     "name": "stdout",
     "output_type": "stream",
     "text": [
      "Validation Accuracy: 0.0013\n",
      "Epoch [22/400], Train Loss: 6.7646, Val Loss: 7.0551 \n",
      "\n"
     ]
    },
    {
     "name": "stderr",
     "output_type": "stream",
     "text": [
      "Training: 100%|██████████| 50/50 [00:07<00:00,  6.67it/s, loss=6.75]\n"
     ]
    },
    {
     "name": "stdout",
     "output_type": "stream",
     "text": [
      "Validation Accuracy: 0.0013\n",
      "Epoch [23/400], Train Loss: 6.7528, Val Loss: 7.0552 \n",
      "\n"
     ]
    },
    {
     "name": "stderr",
     "output_type": "stream",
     "text": [
      "Training: 100%|██████████| 50/50 [00:07<00:00,  6.73it/s, loss=6.77]\n"
     ]
    },
    {
     "name": "stdout",
     "output_type": "stream",
     "text": [
      "Validation Accuracy: 0.0026\n",
      "Epoch [24/400], Train Loss: 6.7657, Val Loss: 7.0557 \n",
      "\n"
     ]
    },
    {
     "name": "stderr",
     "output_type": "stream",
     "text": [
      "Training: 100%|██████████| 50/50 [00:07<00:00,  6.74it/s, loss=6.77]\n"
     ]
    },
    {
     "name": "stdout",
     "output_type": "stream",
     "text": [
      "Validation Accuracy: 0.0026\n",
      "Epoch [25/400], Train Loss: 6.7670, Val Loss: 7.0556 \n",
      "\n"
     ]
    },
    {
     "name": "stderr",
     "output_type": "stream",
     "text": [
      "Training: 100%|██████████| 50/50 [00:07<00:00,  6.71it/s, loss=6.77]\n"
     ]
    },
    {
     "name": "stdout",
     "output_type": "stream",
     "text": [
      "Validation Accuracy: 0.0026\n",
      "Epoch [26/400], Train Loss: 6.7660, Val Loss: 7.0562 \n",
      "\n"
     ]
    },
    {
     "name": "stderr",
     "output_type": "stream",
     "text": [
      "Training: 100%|██████████| 50/50 [00:07<00:00,  6.79it/s, loss=6.76]\n"
     ]
    },
    {
     "name": "stdout",
     "output_type": "stream",
     "text": [
      "Validation Accuracy: 0.0026\n",
      "Epoch [27/400], Train Loss: 6.7645, Val Loss: 7.0566 \n",
      "\n"
     ]
    },
    {
     "name": "stderr",
     "output_type": "stream",
     "text": [
      "Training: 100%|██████████| 50/50 [00:07<00:00,  6.69it/s, loss=6.77]\n"
     ]
    },
    {
     "name": "stdout",
     "output_type": "stream",
     "text": [
      "Validation Accuracy: 0.0026\n",
      "Epoch [28/400], Train Loss: 6.7727, Val Loss: 7.0570 \n",
      "\n"
     ]
    },
    {
     "name": "stderr",
     "output_type": "stream",
     "text": [
      "Training: 100%|██████████| 50/50 [00:07<00:00,  6.74it/s, loss=6.77]\n"
     ]
    },
    {
     "name": "stdout",
     "output_type": "stream",
     "text": [
      "Validation Accuracy: 0.0026\n",
      "Epoch [29/400], Train Loss: 6.7666, Val Loss: 7.0571 \n",
      "\n"
     ]
    },
    {
     "name": "stderr",
     "output_type": "stream",
     "text": [
      "Training: 100%|██████████| 50/50 [00:07<00:00,  6.67it/s, loss=6.77]\n"
     ]
    },
    {
     "name": "stdout",
     "output_type": "stream",
     "text": [
      "Validation Accuracy: 0.0026\n",
      "Epoch [30/400], Train Loss: 6.7720, Val Loss: 7.0576 \n",
      "\n"
     ]
    },
    {
     "name": "stderr",
     "output_type": "stream",
     "text": [
      "Training: 100%|██████████| 50/50 [00:07<00:00,  6.68it/s, loss=6.77]\n"
     ]
    },
    {
     "name": "stdout",
     "output_type": "stream",
     "text": [
      "Validation Accuracy: 0.0026\n",
      "Epoch [31/400], Train Loss: 6.7738, Val Loss: 7.0581 \n",
      "\n"
     ]
    },
    {
     "name": "stderr",
     "output_type": "stream",
     "text": [
      "Training: 100%|██████████| 50/50 [00:07<00:00,  6.65it/s, loss=6.77]\n"
     ]
    },
    {
     "name": "stdout",
     "output_type": "stream",
     "text": [
      "Validation Accuracy: 0.0026\n",
      "Epoch [32/400], Train Loss: 6.7670, Val Loss: 7.0586 \n",
      "\n"
     ]
    },
    {
     "name": "stderr",
     "output_type": "stream",
     "text": [
      "Training: 100%|██████████| 50/50 [00:07<00:00,  6.68it/s, loss=6.78]\n"
     ]
    },
    {
     "name": "stdout",
     "output_type": "stream",
     "text": [
      "Validation Accuracy: 0.0026\n",
      "Epoch [33/400], Train Loss: 6.7796, Val Loss: 7.0591 \n",
      "\n"
     ]
    },
    {
     "name": "stderr",
     "output_type": "stream",
     "text": [
      "Training: 100%|██████████| 50/50 [00:07<00:00,  6.69it/s, loss=6.77]\n"
     ]
    },
    {
     "name": "stdout",
     "output_type": "stream",
     "text": [
      "Validation Accuracy: 0.0026\n",
      "Epoch [34/400], Train Loss: 6.7746, Val Loss: 7.0592 \n",
      "\n"
     ]
    },
    {
     "name": "stderr",
     "output_type": "stream",
     "text": [
      "Training: 100%|██████████| 50/50 [00:07<00:00,  6.67it/s, loss=6.77]\n"
     ]
    },
    {
     "name": "stdout",
     "output_type": "stream",
     "text": [
      "Validation Accuracy: 0.0026\n",
      "Epoch [35/400], Train Loss: 6.7726, Val Loss: 7.0598 \n",
      "\n"
     ]
    },
    {
     "name": "stderr",
     "output_type": "stream",
     "text": [
      "Training: 100%|██████████| 50/50 [00:07<00:00,  6.64it/s, loss=6.78]\n"
     ]
    },
    {
     "name": "stdout",
     "output_type": "stream",
     "text": [
      "Validation Accuracy: 0.0026\n",
      "Epoch [36/400], Train Loss: 6.7802, Val Loss: 7.0600 \n",
      "\n"
     ]
    },
    {
     "name": "stderr",
     "output_type": "stream",
     "text": [
      "Training: 100%|██████████| 50/50 [00:07<00:00,  6.67it/s, loss=6.79]\n"
     ]
    },
    {
     "name": "stdout",
     "output_type": "stream",
     "text": [
      "Validation Accuracy: 0.0026\n",
      "Epoch [37/400], Train Loss: 6.7879, Val Loss: 7.0600 \n",
      "\n"
     ]
    },
    {
     "name": "stderr",
     "output_type": "stream",
     "text": [
      "Training: 100%|██████████| 50/50 [00:07<00:00,  6.68it/s, loss=6.79]\n"
     ]
    },
    {
     "name": "stdout",
     "output_type": "stream",
     "text": [
      "Validation Accuracy: 0.0026\n",
      "Epoch [38/400], Train Loss: 6.7896, Val Loss: 7.0596 \n",
      "\n"
     ]
    },
    {
     "name": "stderr",
     "output_type": "stream",
     "text": [
      "Training: 100%|██████████| 50/50 [00:07<00:00,  6.70it/s, loss=6.78]\n"
     ]
    },
    {
     "name": "stdout",
     "output_type": "stream",
     "text": [
      "Validation Accuracy: 0.0026\n",
      "Epoch [39/400], Train Loss: 6.7843, Val Loss: 7.0598 \n",
      "\n"
     ]
    },
    {
     "name": "stderr",
     "output_type": "stream",
     "text": [
      "Training: 100%|██████████| 50/50 [00:07<00:00,  6.73it/s, loss=6.79]\n"
     ]
    },
    {
     "name": "stdout",
     "output_type": "stream",
     "text": [
      "Validation Accuracy: 0.0026\n",
      "Epoch [40/400], Train Loss: 6.7881, Val Loss: 7.0602 \n",
      "\n"
     ]
    },
    {
     "name": "stderr",
     "output_type": "stream",
     "text": [
      "Training: 100%|██████████| 50/50 [00:07<00:00,  6.68it/s, loss=6.79]\n"
     ]
    },
    {
     "name": "stdout",
     "output_type": "stream",
     "text": [
      "Validation Accuracy: 0.0026\n",
      "Epoch [41/400], Train Loss: 6.7871, Val Loss: 7.0606 \n",
      "\n"
     ]
    },
    {
     "name": "stderr",
     "output_type": "stream",
     "text": [
      "Training: 100%|██████████| 50/50 [00:07<00:00,  6.63it/s, loss=6.8] \n"
     ]
    },
    {
     "name": "stdout",
     "output_type": "stream",
     "text": [
      "Validation Accuracy: 0.0026\n",
      "Epoch [42/400], Train Loss: 6.7960, Val Loss: 7.0608 \n",
      "\n"
     ]
    },
    {
     "name": "stderr",
     "output_type": "stream",
     "text": [
      "Training: 100%|██████████| 50/50 [00:07<00:00,  6.68it/s, loss=6.79]\n"
     ]
    },
    {
     "name": "stdout",
     "output_type": "stream",
     "text": [
      "Validation Accuracy: 0.0026\n",
      "Epoch [43/400], Train Loss: 6.7950, Val Loss: 7.0610 \n",
      "\n"
     ]
    },
    {
     "name": "stderr",
     "output_type": "stream",
     "text": [
      "Training: 100%|██████████| 50/50 [00:07<00:00,  6.72it/s, loss=6.79]\n"
     ]
    },
    {
     "name": "stdout",
     "output_type": "stream",
     "text": [
      "Validation Accuracy: 0.0026\n",
      "Epoch [44/400], Train Loss: 6.7917, Val Loss: 7.0615 \n",
      "\n"
     ]
    },
    {
     "name": "stderr",
     "output_type": "stream",
     "text": [
      "Training: 100%|██████████| 50/50 [00:07<00:00,  6.72it/s, loss=6.8] \n"
     ]
    },
    {
     "name": "stdout",
     "output_type": "stream",
     "text": [
      "Validation Accuracy: 0.0038\n",
      "Epoch [45/400], Train Loss: 6.7955, Val Loss: 7.0617 \n",
      "\n"
     ]
    },
    {
     "name": "stderr",
     "output_type": "stream",
     "text": [
      "Training: 100%|██████████| 50/50 [00:07<00:00,  6.65it/s, loss=6.8] \n"
     ]
    },
    {
     "name": "stdout",
     "output_type": "stream",
     "text": [
      "Validation Accuracy: 0.0038\n",
      "Epoch [46/400], Train Loss: 6.8031, Val Loss: 7.0620 \n",
      "\n"
     ]
    },
    {
     "name": "stderr",
     "output_type": "stream",
     "text": [
      "Training: 100%|██████████| 50/50 [00:07<00:00,  6.68it/s, loss=6.8] \n"
     ]
    },
    {
     "name": "stdout",
     "output_type": "stream",
     "text": [
      "Validation Accuracy: 0.0038\n",
      "Epoch [47/400], Train Loss: 6.8034, Val Loss: 7.0620 \n",
      "\n"
     ]
    },
    {
     "name": "stderr",
     "output_type": "stream",
     "text": [
      "Training: 100%|██████████| 50/50 [00:07<00:00,  6.73it/s, loss=6.8] \n"
     ]
    },
    {
     "name": "stdout",
     "output_type": "stream",
     "text": [
      "Validation Accuracy: 0.0038\n",
      "Epoch [48/400], Train Loss: 6.7964, Val Loss: 7.0622 \n",
      "\n"
     ]
    },
    {
     "name": "stderr",
     "output_type": "stream",
     "text": [
      "Training: 100%|██████████| 50/50 [00:07<00:00,  6.68it/s, loss=6.81]\n"
     ]
    },
    {
     "name": "stdout",
     "output_type": "stream",
     "text": [
      "Validation Accuracy: 0.0038\n",
      "Epoch [49/400], Train Loss: 6.8059, Val Loss: 7.0626 \n",
      "\n"
     ]
    },
    {
     "name": "stderr",
     "output_type": "stream",
     "text": [
      "Training: 100%|██████████| 50/50 [00:07<00:00,  6.67it/s, loss=6.8] \n"
     ]
    },
    {
     "name": "stdout",
     "output_type": "stream",
     "text": [
      "Validation Accuracy: 0.0038\n",
      "Epoch [50/400], Train Loss: 6.8027, Val Loss: 7.0628 \n",
      "\n"
     ]
    },
    {
     "name": "stderr",
     "output_type": "stream",
     "text": [
      "Training: 100%|██████████| 50/50 [00:07<00:00,  6.70it/s, loss=6.8] \n"
     ]
    },
    {
     "name": "stdout",
     "output_type": "stream",
     "text": [
      "Validation Accuracy: 0.0038\n",
      "Epoch [51/400], Train Loss: 6.8010, Val Loss: 7.0630 \n",
      "\n"
     ]
    },
    {
     "name": "stderr",
     "output_type": "stream",
     "text": [
      "Training: 100%|██████████| 50/50 [00:07<00:00,  6.71it/s, loss=6.81]\n"
     ]
    },
    {
     "name": "stdout",
     "output_type": "stream",
     "text": [
      "Validation Accuracy: 0.0038\n",
      "Epoch [52/400], Train Loss: 6.8076, Val Loss: 7.0635 \n",
      "\n"
     ]
    },
    {
     "name": "stderr",
     "output_type": "stream",
     "text": [
      "Training: 100%|██████████| 50/50 [00:07<00:00,  6.69it/s, loss=6.8] \n"
     ]
    },
    {
     "name": "stdout",
     "output_type": "stream",
     "text": [
      "Validation Accuracy: 0.0038\n",
      "Epoch [53/400], Train Loss: 6.8045, Val Loss: 7.0634 \n",
      "\n"
     ]
    },
    {
     "name": "stderr",
     "output_type": "stream",
     "text": [
      "Training: 100%|██████████| 50/50 [00:07<00:00,  6.66it/s, loss=6.8] \n"
     ]
    },
    {
     "name": "stdout",
     "output_type": "stream",
     "text": [
      "Validation Accuracy: 0.0026\n",
      "Epoch [54/400], Train Loss: 6.8036, Val Loss: 7.0637 \n",
      "\n"
     ]
    },
    {
     "name": "stderr",
     "output_type": "stream",
     "text": [
      "Training: 100%|██████████| 50/50 [00:07<00:00,  6.64it/s, loss=6.81]\n"
     ]
    },
    {
     "name": "stdout",
     "output_type": "stream",
     "text": [
      "Validation Accuracy: 0.0038\n",
      "Epoch [55/400], Train Loss: 6.8095, Val Loss: 7.0637 \n",
      "\n"
     ]
    },
    {
     "name": "stderr",
     "output_type": "stream",
     "text": [
      "Training: 100%|██████████| 50/50 [00:07<00:00,  6.68it/s, loss=6.81]\n"
     ]
    },
    {
     "name": "stdout",
     "output_type": "stream",
     "text": [
      "Validation Accuracy: 0.0026\n",
      "Epoch [56/400], Train Loss: 6.8089, Val Loss: 7.0639 \n",
      "\n"
     ]
    },
    {
     "name": "stderr",
     "output_type": "stream",
     "text": [
      "Training: 100%|██████████| 50/50 [00:07<00:00,  6.62it/s, loss=6.82]\n"
     ]
    },
    {
     "name": "stdout",
     "output_type": "stream",
     "text": [
      "Validation Accuracy: 0.0026\n",
      "Epoch [57/400], Train Loss: 6.8162, Val Loss: 7.0640 \n",
      "\n"
     ]
    },
    {
     "name": "stderr",
     "output_type": "stream",
     "text": [
      "Training: 100%|██████████| 50/50 [00:07<00:00,  6.67it/s, loss=6.81]\n"
     ]
    },
    {
     "name": "stdout",
     "output_type": "stream",
     "text": [
      "Validation Accuracy: 0.0026\n",
      "Epoch [58/400], Train Loss: 6.8088, Val Loss: 7.0641 \n",
      "\n"
     ]
    },
    {
     "name": "stderr",
     "output_type": "stream",
     "text": [
      "Training: 100%|██████████| 50/50 [00:07<00:00,  6.64it/s, loss=6.81]\n"
     ]
    },
    {
     "name": "stdout",
     "output_type": "stream",
     "text": [
      "Validation Accuracy: 0.0026\n",
      "Epoch [59/400], Train Loss: 6.8109, Val Loss: 7.0648 \n",
      "\n"
     ]
    },
    {
     "name": "stderr",
     "output_type": "stream",
     "text": [
      "Training: 100%|██████████| 50/50 [00:07<00:00,  6.67it/s, loss=6.82]\n"
     ]
    },
    {
     "name": "stdout",
     "output_type": "stream",
     "text": [
      "Validation Accuracy: 0.0026\n",
      "Epoch [60/400], Train Loss: 6.8171, Val Loss: 7.0648 \n",
      "\n"
     ]
    },
    {
     "name": "stderr",
     "output_type": "stream",
     "text": [
      "Training: 100%|██████████| 50/50 [00:07<00:00,  6.70it/s, loss=6.81]\n"
     ]
    },
    {
     "name": "stdout",
     "output_type": "stream",
     "text": [
      "Validation Accuracy: 0.0026\n",
      "Epoch [61/400], Train Loss: 6.8094, Val Loss: 7.0645 \n",
      "\n"
     ]
    },
    {
     "name": "stderr",
     "output_type": "stream",
     "text": [
      "Training: 100%|██████████| 50/50 [00:07<00:00,  6.66it/s, loss=6.82]\n"
     ]
    },
    {
     "name": "stdout",
     "output_type": "stream",
     "text": [
      "Validation Accuracy: 0.0026\n",
      "Epoch [62/400], Train Loss: 6.8160, Val Loss: 7.0649 \n",
      "\n"
     ]
    },
    {
     "name": "stderr",
     "output_type": "stream",
     "text": [
      "Training: 100%|██████████| 50/50 [00:07<00:00,  6.69it/s, loss=6.81]\n"
     ]
    },
    {
     "name": "stdout",
     "output_type": "stream",
     "text": [
      "Validation Accuracy: 0.0026\n",
      "Epoch [63/400], Train Loss: 6.8102, Val Loss: 7.0650 \n",
      "\n"
     ]
    },
    {
     "name": "stderr",
     "output_type": "stream",
     "text": [
      "Training: 100%|██████████| 50/50 [00:07<00:00,  6.70it/s, loss=6.81]\n"
     ]
    },
    {
     "name": "stdout",
     "output_type": "stream",
     "text": [
      "Validation Accuracy: 0.0026\n",
      "Epoch [64/400], Train Loss: 6.8141, Val Loss: 7.0650 \n",
      "\n"
     ]
    },
    {
     "name": "stderr",
     "output_type": "stream",
     "text": [
      "Training: 100%|██████████| 50/50 [00:07<00:00,  6.69it/s, loss=6.82]\n"
     ]
    },
    {
     "name": "stdout",
     "output_type": "stream",
     "text": [
      "Validation Accuracy: 0.0026\n",
      "Epoch [65/400], Train Loss: 6.8187, Val Loss: 7.0652 \n",
      "\n"
     ]
    },
    {
     "name": "stderr",
     "output_type": "stream",
     "text": [
      "Training: 100%|██████████| 50/50 [00:07<00:00,  6.66it/s, loss=6.82]\n"
     ]
    },
    {
     "name": "stdout",
     "output_type": "stream",
     "text": [
      "Validation Accuracy: 0.0026\n",
      "Epoch [66/400], Train Loss: 6.8160, Val Loss: 7.0652 \n",
      "\n"
     ]
    },
    {
     "name": "stderr",
     "output_type": "stream",
     "text": [
      "Training: 100%|██████████| 50/50 [00:07<00:00,  6.65it/s, loss=6.82]\n"
     ]
    },
    {
     "name": "stdout",
     "output_type": "stream",
     "text": [
      "Validation Accuracy: 0.0026\n",
      "Epoch [67/400], Train Loss: 6.8190, Val Loss: 7.0655 \n",
      "\n"
     ]
    },
    {
     "name": "stderr",
     "output_type": "stream",
     "text": [
      "Training: 100%|██████████| 50/50 [00:07<00:00,  6.69it/s, loss=6.82]\n"
     ]
    },
    {
     "name": "stdout",
     "output_type": "stream",
     "text": [
      "Validation Accuracy: 0.0026\n",
      "Epoch [68/400], Train Loss: 6.8207, Val Loss: 7.0657 \n",
      "\n"
     ]
    },
    {
     "name": "stderr",
     "output_type": "stream",
     "text": [
      "Training: 100%|██████████| 50/50 [00:07<00:00,  6.71it/s, loss=6.82]\n"
     ]
    },
    {
     "name": "stdout",
     "output_type": "stream",
     "text": [
      "Validation Accuracy: 0.0026\n",
      "Epoch [69/400], Train Loss: 6.8151, Val Loss: 7.0655 \n",
      "\n"
     ]
    },
    {
     "name": "stderr",
     "output_type": "stream",
     "text": [
      "Training: 100%|██████████| 50/50 [00:07<00:00,  6.61it/s, loss=6.82]\n"
     ]
    },
    {
     "name": "stdout",
     "output_type": "stream",
     "text": [
      "Validation Accuracy: 0.0038\n",
      "Epoch [70/400], Train Loss: 6.8213, Val Loss: 7.0659 \n",
      "\n"
     ]
    },
    {
     "name": "stderr",
     "output_type": "stream",
     "text": [
      "Training: 100%|██████████| 50/50 [00:07<00:00,  6.65it/s, loss=6.82]\n"
     ]
    },
    {
     "name": "stdout",
     "output_type": "stream",
     "text": [
      "Validation Accuracy: 0.0026\n",
      "Epoch [71/400], Train Loss: 6.8192, Val Loss: 7.0663 \n",
      "\n"
     ]
    },
    {
     "name": "stderr",
     "output_type": "stream",
     "text": [
      "Training: 100%|██████████| 50/50 [00:07<00:00,  6.64it/s, loss=6.81]\n"
     ]
    },
    {
     "name": "stdout",
     "output_type": "stream",
     "text": [
      "Validation Accuracy: 0.0026\n",
      "Epoch [72/400], Train Loss: 6.8138, Val Loss: 7.0663 \n",
      "\n"
     ]
    },
    {
     "name": "stderr",
     "output_type": "stream",
     "text": [
      "Training: 100%|██████████| 50/50 [00:07<00:00,  6.63it/s, loss=6.81]\n"
     ]
    },
    {
     "name": "stdout",
     "output_type": "stream",
     "text": [
      "Validation Accuracy: 0.0026\n",
      "Epoch [73/400], Train Loss: 6.8135, Val Loss: 7.0665 \n",
      "\n"
     ]
    },
    {
     "name": "stderr",
     "output_type": "stream",
     "text": [
      "Training: 100%|██████████| 50/50 [00:07<00:00,  6.66it/s, loss=6.83]\n"
     ]
    },
    {
     "name": "stdout",
     "output_type": "stream",
     "text": [
      "Validation Accuracy: 0.0026\n",
      "Epoch [74/400], Train Loss: 6.8251, Val Loss: 7.0665 \n",
      "\n"
     ]
    },
    {
     "name": "stderr",
     "output_type": "stream",
     "text": [
      "Training: 100%|██████████| 50/50 [00:07<00:00,  6.67it/s, loss=6.83]\n"
     ]
    },
    {
     "name": "stdout",
     "output_type": "stream",
     "text": [
      "Validation Accuracy: 0.0026\n",
      "Epoch [75/400], Train Loss: 6.8286, Val Loss: 7.0665 \n",
      "\n"
     ]
    },
    {
     "name": "stderr",
     "output_type": "stream",
     "text": [
      "Training: 100%|██████████| 50/50 [00:07<00:00,  6.67it/s, loss=6.83]\n"
     ]
    },
    {
     "name": "stdout",
     "output_type": "stream",
     "text": [
      "Validation Accuracy: 0.0026\n",
      "Epoch [76/400], Train Loss: 6.8277, Val Loss: 7.0665 \n",
      "\n"
     ]
    },
    {
     "name": "stderr",
     "output_type": "stream",
     "text": [
      "Training: 100%|██████████| 50/50 [00:07<00:00,  6.68it/s, loss=6.83]\n"
     ]
    },
    {
     "name": "stdout",
     "output_type": "stream",
     "text": [
      "Validation Accuracy: 0.0026\n",
      "Epoch [77/400], Train Loss: 6.8253, Val Loss: 7.0665 \n",
      "\n"
     ]
    },
    {
     "name": "stderr",
     "output_type": "stream",
     "text": [
      "Training: 100%|██████████| 50/50 [00:07<00:00,  6.71it/s, loss=6.82]\n"
     ]
    },
    {
     "name": "stdout",
     "output_type": "stream",
     "text": [
      "Validation Accuracy: 0.0026\n",
      "Epoch [78/400], Train Loss: 6.8174, Val Loss: 7.0670 \n",
      "\n"
     ]
    },
    {
     "name": "stderr",
     "output_type": "stream",
     "text": [
      "Training: 100%|██████████| 50/50 [00:07<00:00,  6.69it/s, loss=6.82]\n"
     ]
    },
    {
     "name": "stdout",
     "output_type": "stream",
     "text": [
      "Validation Accuracy: 0.0026\n",
      "Epoch [79/400], Train Loss: 6.8244, Val Loss: 7.0669 \n",
      "\n"
     ]
    },
    {
     "name": "stderr",
     "output_type": "stream",
     "text": [
      "Training: 100%|██████████| 50/50 [00:07<00:00,  6.69it/s, loss=6.83]\n"
     ]
    },
    {
     "name": "stdout",
     "output_type": "stream",
     "text": [
      "Validation Accuracy: 0.0026\n",
      "Epoch [80/400], Train Loss: 6.8295, Val Loss: 7.0671 \n",
      "\n"
     ]
    },
    {
     "name": "stderr",
     "output_type": "stream",
     "text": [
      "Training: 100%|██████████| 50/50 [00:07<00:00,  6.70it/s, loss=6.82]\n"
     ]
    },
    {
     "name": "stdout",
     "output_type": "stream",
     "text": [
      "Validation Accuracy: 0.0026\n",
      "Epoch [81/400], Train Loss: 6.8188, Val Loss: 7.0665 \n",
      "\n"
     ]
    },
    {
     "name": "stderr",
     "output_type": "stream",
     "text": [
      "Training: 100%|██████████| 50/50 [00:07<00:00,  6.74it/s, loss=6.82]\n"
     ]
    },
    {
     "name": "stdout",
     "output_type": "stream",
     "text": [
      "Validation Accuracy: 0.0026\n",
      "Epoch [82/400], Train Loss: 6.8241, Val Loss: 7.0672 \n",
      "\n"
     ]
    },
    {
     "name": "stderr",
     "output_type": "stream",
     "text": [
      "Training: 100%|██████████| 50/50 [00:07<00:00,  6.72it/s, loss=6.83]\n"
     ]
    },
    {
     "name": "stdout",
     "output_type": "stream",
     "text": [
      "Validation Accuracy: 0.0026\n",
      "Epoch [83/400], Train Loss: 6.8252, Val Loss: 7.0671 \n",
      "\n"
     ]
    },
    {
     "name": "stderr",
     "output_type": "stream",
     "text": [
      "Training: 100%|██████████| 50/50 [00:07<00:00,  6.70it/s, loss=6.82]\n"
     ]
    },
    {
     "name": "stdout",
     "output_type": "stream",
     "text": [
      "Validation Accuracy: 0.0026\n",
      "Epoch [84/400], Train Loss: 6.8202, Val Loss: 7.0672 \n",
      "\n"
     ]
    },
    {
     "name": "stderr",
     "output_type": "stream",
     "text": [
      "Training: 100%|██████████| 50/50 [00:07<00:00,  6.71it/s, loss=6.83]\n"
     ]
    },
    {
     "name": "stdout",
     "output_type": "stream",
     "text": [
      "Validation Accuracy: 0.0026\n",
      "Epoch [85/400], Train Loss: 6.8304, Val Loss: 7.0674 \n",
      "\n"
     ]
    },
    {
     "name": "stderr",
     "output_type": "stream",
     "text": [
      "Training: 100%|██████████| 50/50 [00:07<00:00,  6.71it/s, loss=6.83]\n"
     ]
    },
    {
     "name": "stdout",
     "output_type": "stream",
     "text": [
      "Validation Accuracy: 0.0026\n",
      "Epoch [86/400], Train Loss: 6.8263, Val Loss: 7.0670 \n",
      "\n"
     ]
    },
    {
     "name": "stderr",
     "output_type": "stream",
     "text": [
      "Training: 100%|██████████| 50/50 [00:07<00:00,  6.73it/s, loss=6.83]\n"
     ]
    },
    {
     "name": "stdout",
     "output_type": "stream",
     "text": [
      "Validation Accuracy: 0.0026\n",
      "Epoch [87/400], Train Loss: 6.8266, Val Loss: 7.0673 \n",
      "\n"
     ]
    },
    {
     "name": "stderr",
     "output_type": "stream",
     "text": [
      "Training: 100%|██████████| 50/50 [00:07<00:00,  6.68it/s, loss=6.82]\n"
     ]
    },
    {
     "name": "stdout",
     "output_type": "stream",
     "text": [
      "Validation Accuracy: 0.0026\n",
      "Epoch [88/400], Train Loss: 6.8216, Val Loss: 7.0676 \n",
      "\n"
     ]
    },
    {
     "name": "stderr",
     "output_type": "stream",
     "text": [
      "Training: 100%|██████████| 50/50 [00:07<00:00,  6.69it/s, loss=6.83]\n"
     ]
    },
    {
     "name": "stdout",
     "output_type": "stream",
     "text": [
      "Validation Accuracy: 0.0026\n",
      "Epoch [89/400], Train Loss: 6.8308, Val Loss: 7.0676 \n",
      "\n"
     ]
    },
    {
     "name": "stderr",
     "output_type": "stream",
     "text": [
      "Training: 100%|██████████| 50/50 [00:07<00:00,  6.61it/s, loss=6.83]\n"
     ]
    },
    {
     "name": "stdout",
     "output_type": "stream",
     "text": [
      "Validation Accuracy: 0.0026\n",
      "Epoch [90/400], Train Loss: 6.8254, Val Loss: 7.0674 \n",
      "\n"
     ]
    },
    {
     "name": "stderr",
     "output_type": "stream",
     "text": [
      "Training: 100%|██████████| 50/50 [00:07<00:00,  6.70it/s, loss=6.83]\n"
     ]
    },
    {
     "name": "stdout",
     "output_type": "stream",
     "text": [
      "Validation Accuracy: 0.0026\n",
      "Epoch [91/400], Train Loss: 6.8306, Val Loss: 7.0674 \n",
      "\n"
     ]
    },
    {
     "name": "stderr",
     "output_type": "stream",
     "text": [
      "Training: 100%|██████████| 50/50 [00:07<00:00,  6.65it/s, loss=6.83]\n"
     ]
    },
    {
     "name": "stdout",
     "output_type": "stream",
     "text": [
      "Validation Accuracy: 0.0026\n",
      "Epoch [92/400], Train Loss: 6.8318, Val Loss: 7.0675 \n",
      "\n"
     ]
    },
    {
     "name": "stderr",
     "output_type": "stream",
     "text": [
      "Training: 100%|██████████| 50/50 [00:07<00:00,  6.72it/s, loss=6.82]\n"
     ]
    },
    {
     "name": "stdout",
     "output_type": "stream",
     "text": [
      "Validation Accuracy: 0.0026\n",
      "Epoch [93/400], Train Loss: 6.8242, Val Loss: 7.0676 \n",
      "\n"
     ]
    },
    {
     "name": "stderr",
     "output_type": "stream",
     "text": [
      "Training: 100%|██████████| 50/50 [00:07<00:00,  6.73it/s, loss=6.83]\n"
     ]
    },
    {
     "name": "stdout",
     "output_type": "stream",
     "text": [
      "Validation Accuracy: 0.0026\n",
      "Epoch [94/400], Train Loss: 6.8273, Val Loss: 7.0676 \n",
      "\n"
     ]
    },
    {
     "name": "stderr",
     "output_type": "stream",
     "text": [
      "Training: 100%|██████████| 50/50 [00:07<00:00,  6.71it/s, loss=6.83]\n"
     ]
    },
    {
     "name": "stdout",
     "output_type": "stream",
     "text": [
      "Validation Accuracy: 0.0026\n",
      "Epoch [95/400], Train Loss: 6.8300, Val Loss: 7.0679 \n",
      "\n"
     ]
    },
    {
     "name": "stderr",
     "output_type": "stream",
     "text": [
      "Training: 100%|██████████| 50/50 [00:07<00:00,  6.68it/s, loss=6.83]\n"
     ]
    },
    {
     "name": "stdout",
     "output_type": "stream",
     "text": [
      "Validation Accuracy: 0.0026\n",
      "Epoch [96/400], Train Loss: 6.8317, Val Loss: 7.0677 \n",
      "\n"
     ]
    },
    {
     "name": "stderr",
     "output_type": "stream",
     "text": [
      "Training: 100%|██████████| 50/50 [00:07<00:00,  6.69it/s, loss=6.83]\n"
     ]
    },
    {
     "name": "stdout",
     "output_type": "stream",
     "text": [
      "Validation Accuracy: 0.0026\n",
      "Epoch [97/400], Train Loss: 6.8270, Val Loss: 7.0675 \n",
      "\n"
     ]
    },
    {
     "name": "stderr",
     "output_type": "stream",
     "text": [
      "Training: 100%|██████████| 50/50 [00:07<00:00,  6.67it/s, loss=6.83]\n"
     ]
    },
    {
     "name": "stdout",
     "output_type": "stream",
     "text": [
      "Validation Accuracy: 0.0026\n",
      "Epoch [98/400], Train Loss: 6.8317, Val Loss: 7.0675 \n",
      "\n"
     ]
    },
    {
     "name": "stderr",
     "output_type": "stream",
     "text": [
      "Training: 100%|██████████| 50/50 [00:07<00:00,  6.70it/s, loss=6.83]\n"
     ]
    },
    {
     "name": "stdout",
     "output_type": "stream",
     "text": [
      "Validation Accuracy: 0.0026\n",
      "Epoch [99/400], Train Loss: 6.8297, Val Loss: 7.0673 \n",
      "\n"
     ]
    },
    {
     "name": "stderr",
     "output_type": "stream",
     "text": [
      "Training: 100%|██████████| 50/50 [00:07<00:00,  6.63it/s, loss=6.83]\n"
     ]
    },
    {
     "name": "stdout",
     "output_type": "stream",
     "text": [
      "Validation Accuracy: 0.0026\n",
      "Epoch [100/400], Train Loss: 6.8312, Val Loss: 7.0676 \n",
      "\n"
     ]
    },
    {
     "name": "stderr",
     "output_type": "stream",
     "text": [
      "Training: 100%|██████████| 50/50 [00:07<00:00,  6.74it/s, loss=6.83]\n"
     ]
    },
    {
     "name": "stdout",
     "output_type": "stream",
     "text": [
      "Validation Accuracy: 0.0026\n",
      "Epoch [101/400], Train Loss: 6.8252, Val Loss: 7.0675 \n",
      "\n"
     ]
    },
    {
     "name": "stderr",
     "output_type": "stream",
     "text": [
      "Training: 100%|██████████| 50/50 [00:07<00:00,  6.65it/s, loss=6.83]\n"
     ]
    },
    {
     "name": "stdout",
     "output_type": "stream",
     "text": [
      "Validation Accuracy: 0.0026\n",
      "Epoch [102/400], Train Loss: 6.8337, Val Loss: 7.0675 \n",
      "\n"
     ]
    },
    {
     "name": "stderr",
     "output_type": "stream",
     "text": [
      "Training: 100%|██████████| 50/50 [00:07<00:00,  6.67it/s, loss=6.83]\n"
     ]
    },
    {
     "name": "stdout",
     "output_type": "stream",
     "text": [
      "Validation Accuracy: 0.0026\n",
      "Epoch [103/400], Train Loss: 6.8306, Val Loss: 7.0673 \n",
      "\n"
     ]
    },
    {
     "name": "stderr",
     "output_type": "stream",
     "text": [
      "Training: 100%|██████████| 50/50 [00:07<00:00,  6.64it/s, loss=6.83]\n"
     ]
    },
    {
     "name": "stdout",
     "output_type": "stream",
     "text": [
      "Validation Accuracy: 0.0026\n",
      "Epoch [104/400], Train Loss: 6.8298, Val Loss: 7.0669 \n",
      "\n"
     ]
    },
    {
     "name": "stderr",
     "output_type": "stream",
     "text": [
      "Training: 100%|██████████| 50/50 [00:07<00:00,  6.69it/s, loss=6.83]\n"
     ]
    },
    {
     "name": "stdout",
     "output_type": "stream",
     "text": [
      "Validation Accuracy: 0.0026\n",
      "Epoch [105/400], Train Loss: 6.8321, Val Loss: 7.0667 \n",
      "\n"
     ]
    },
    {
     "name": "stderr",
     "output_type": "stream",
     "text": [
      "Training: 100%|██████████| 50/50 [00:07<00:00,  6.70it/s, loss=6.83]\n"
     ]
    },
    {
     "name": "stdout",
     "output_type": "stream",
     "text": [
      "Validation Accuracy: 0.0026\n",
      "Epoch [106/400], Train Loss: 6.8322, Val Loss: 7.0666 \n",
      "\n"
     ]
    },
    {
     "name": "stderr",
     "output_type": "stream",
     "text": [
      "Training: 100%|██████████| 50/50 [00:07<00:00,  6.71it/s, loss=6.83]\n"
     ]
    },
    {
     "name": "stdout",
     "output_type": "stream",
     "text": [
      "Validation Accuracy: 0.0026\n",
      "Epoch [107/400], Train Loss: 6.8272, Val Loss: 7.0664 \n",
      "\n"
     ]
    },
    {
     "name": "stderr",
     "output_type": "stream",
     "text": [
      "Training: 100%|██████████| 50/50 [00:07<00:00,  6.70it/s, loss=6.83]\n"
     ]
    },
    {
     "name": "stdout",
     "output_type": "stream",
     "text": [
      "Validation Accuracy: 0.0026\n",
      "Epoch [108/400], Train Loss: 6.8339, Val Loss: 7.0659 \n",
      "\n"
     ]
    },
    {
     "name": "stderr",
     "output_type": "stream",
     "text": [
      "Training: 100%|██████████| 50/50 [00:07<00:00,  6.69it/s, loss=6.83]\n"
     ]
    },
    {
     "name": "stdout",
     "output_type": "stream",
     "text": [
      "Validation Accuracy: 0.0026\n",
      "Epoch [109/400], Train Loss: 6.8300, Val Loss: 7.0666 \n",
      "\n"
     ]
    },
    {
     "name": "stderr",
     "output_type": "stream",
     "text": [
      "Training: 100%|██████████| 50/50 [00:07<00:00,  6.71it/s, loss=6.83]\n"
     ]
    },
    {
     "name": "stdout",
     "output_type": "stream",
     "text": [
      "Validation Accuracy: 0.0026\n",
      "Epoch [110/400], Train Loss: 6.8316, Val Loss: 7.0662 \n",
      "\n"
     ]
    },
    {
     "name": "stderr",
     "output_type": "stream",
     "text": [
      "Training: 100%|██████████| 50/50 [00:07<00:00,  6.67it/s, loss=6.83]\n"
     ]
    },
    {
     "name": "stdout",
     "output_type": "stream",
     "text": [
      "Validation Accuracy: 0.0026\n",
      "Epoch [111/400], Train Loss: 6.8281, Val Loss: 7.0661 \n",
      "\n"
     ]
    },
    {
     "name": "stderr",
     "output_type": "stream",
     "text": [
      "Training: 100%|██████████| 50/50 [00:07<00:00,  6.73it/s, loss=6.82]\n"
     ]
    },
    {
     "name": "stdout",
     "output_type": "stream",
     "text": [
      "Validation Accuracy: 0.0026\n",
      "Epoch [112/400], Train Loss: 6.8245, Val Loss: 7.0661 \n",
      "\n"
     ]
    },
    {
     "name": "stderr",
     "output_type": "stream",
     "text": [
      "Training: 100%|██████████| 50/50 [00:07<00:00,  6.67it/s, loss=6.83]\n"
     ]
    },
    {
     "name": "stdout",
     "output_type": "stream",
     "text": [
      "Validation Accuracy: 0.0026\n",
      "Epoch [113/400], Train Loss: 6.8321, Val Loss: 7.0661 \n",
      "\n"
     ]
    },
    {
     "name": "stderr",
     "output_type": "stream",
     "text": [
      "Training: 100%|██████████| 50/50 [00:07<00:00,  6.67it/s, loss=6.83]\n"
     ]
    },
    {
     "name": "stdout",
     "output_type": "stream",
     "text": [
      "Validation Accuracy: 0.0026\n",
      "Epoch [114/400], Train Loss: 6.8340, Val Loss: 7.0665 \n",
      "\n"
     ]
    },
    {
     "name": "stderr",
     "output_type": "stream",
     "text": [
      "Training: 100%|██████████| 50/50 [00:07<00:00,  6.64it/s, loss=6.83]\n"
     ]
    },
    {
     "name": "stdout",
     "output_type": "stream",
     "text": [
      "Validation Accuracy: 0.0026\n",
      "Epoch [115/400], Train Loss: 6.8297, Val Loss: 7.0658 \n",
      "\n"
     ]
    },
    {
     "name": "stderr",
     "output_type": "stream",
     "text": [
      "Training: 100%|██████████| 50/50 [00:07<00:00,  6.67it/s, loss=6.83]\n"
     ]
    },
    {
     "name": "stdout",
     "output_type": "stream",
     "text": [
      "Validation Accuracy: 0.0026\n",
      "Epoch [116/400], Train Loss: 6.8308, Val Loss: 7.0662 \n",
      "\n"
     ]
    },
    {
     "name": "stderr",
     "output_type": "stream",
     "text": [
      "Training: 100%|██████████| 50/50 [00:07<00:00,  6.70it/s, loss=6.83]\n"
     ]
    },
    {
     "name": "stdout",
     "output_type": "stream",
     "text": [
      "Validation Accuracy: 0.0026\n",
      "Epoch [117/400], Train Loss: 6.8289, Val Loss: 7.0663 \n",
      "\n"
     ]
    },
    {
     "name": "stderr",
     "output_type": "stream",
     "text": [
      "Training: 100%|██████████| 50/50 [00:07<00:00,  6.64it/s, loss=6.83]\n"
     ]
    },
    {
     "name": "stdout",
     "output_type": "stream",
     "text": [
      "Validation Accuracy: 0.0026\n",
      "Epoch [118/400], Train Loss: 6.8319, Val Loss: 7.0658 \n",
      "\n"
     ]
    },
    {
     "name": "stderr",
     "output_type": "stream",
     "text": [
      "Training: 100%|██████████| 50/50 [00:07<00:00,  6.63it/s, loss=6.83]\n"
     ]
    },
    {
     "name": "stdout",
     "output_type": "stream",
     "text": [
      "Validation Accuracy: 0.0026\n",
      "Epoch [119/400], Train Loss: 6.8275, Val Loss: 7.0653 \n",
      "\n"
     ]
    },
    {
     "name": "stderr",
     "output_type": "stream",
     "text": [
      "Training: 100%|██████████| 50/50 [00:07<00:00,  6.74it/s, loss=6.83]\n"
     ]
    },
    {
     "name": "stdout",
     "output_type": "stream",
     "text": [
      "Validation Accuracy: 0.0026\n",
      "Epoch [120/400], Train Loss: 6.8295, Val Loss: 7.0658 \n",
      "\n"
     ]
    },
    {
     "name": "stderr",
     "output_type": "stream",
     "text": [
      "Training: 100%|██████████| 50/50 [00:07<00:00,  6.63it/s, loss=6.83]\n"
     ]
    },
    {
     "name": "stdout",
     "output_type": "stream",
     "text": [
      "Validation Accuracy: 0.0026\n",
      "Epoch [121/400], Train Loss: 6.8295, Val Loss: 7.0657 \n",
      "\n"
     ]
    },
    {
     "name": "stderr",
     "output_type": "stream",
     "text": [
      "Training: 100%|██████████| 50/50 [00:07<00:00,  6.68it/s, loss=6.83]\n"
     ]
    },
    {
     "name": "stdout",
     "output_type": "stream",
     "text": [
      "Validation Accuracy: 0.0026\n",
      "Epoch [122/400], Train Loss: 6.8333, Val Loss: 7.0655 \n",
      "\n"
     ]
    },
    {
     "name": "stderr",
     "output_type": "stream",
     "text": [
      "Training: 100%|██████████| 50/50 [00:07<00:00,  6.70it/s, loss=6.83]\n"
     ]
    },
    {
     "name": "stdout",
     "output_type": "stream",
     "text": [
      "Validation Accuracy: 0.0026\n",
      "Epoch [123/400], Train Loss: 6.8285, Val Loss: 7.0650 \n",
      "\n"
     ]
    },
    {
     "name": "stderr",
     "output_type": "stream",
     "text": [
      "Training: 100%|██████████| 50/50 [00:07<00:00,  6.67it/s, loss=6.83]\n"
     ]
    },
    {
     "name": "stdout",
     "output_type": "stream",
     "text": [
      "Validation Accuracy: 0.0026\n",
      "Epoch [124/400], Train Loss: 6.8294, Val Loss: 7.0654 \n",
      "\n"
     ]
    },
    {
     "name": "stderr",
     "output_type": "stream",
     "text": [
      "Training: 100%|██████████| 50/50 [00:07<00:00,  6.74it/s, loss=6.83]\n"
     ]
    },
    {
     "name": "stdout",
     "output_type": "stream",
     "text": [
      "Validation Accuracy: 0.0026\n",
      "Epoch [125/400], Train Loss: 6.8296, Val Loss: 7.0651 \n",
      "\n"
     ]
    },
    {
     "name": "stderr",
     "output_type": "stream",
     "text": [
      "Training: 100%|██████████| 50/50 [00:07<00:00,  6.69it/s, loss=6.82]\n"
     ]
    },
    {
     "name": "stdout",
     "output_type": "stream",
     "text": [
      "Validation Accuracy: 0.0026\n",
      "Epoch [126/400], Train Loss: 6.8237, Val Loss: 7.0656 \n",
      "\n"
     ]
    },
    {
     "name": "stderr",
     "output_type": "stream",
     "text": [
      "Training: 100%|██████████| 50/50 [00:07<00:00,  6.68it/s, loss=6.83]\n"
     ]
    },
    {
     "name": "stdout",
     "output_type": "stream",
     "text": [
      "Validation Accuracy: 0.0026\n",
      "Epoch [127/400], Train Loss: 6.8318, Val Loss: 7.0652 \n",
      "\n"
     ]
    },
    {
     "name": "stderr",
     "output_type": "stream",
     "text": [
      "Training: 100%|██████████| 50/50 [00:07<00:00,  6.62it/s, loss=6.83]\n"
     ]
    },
    {
     "name": "stdout",
     "output_type": "stream",
     "text": [
      "Validation Accuracy: 0.0026\n",
      "Epoch [128/400], Train Loss: 6.8295, Val Loss: 7.0657 \n",
      "\n"
     ]
    },
    {
     "name": "stderr",
     "output_type": "stream",
     "text": [
      "Training: 100%|██████████| 50/50 [00:07<00:00,  6.67it/s, loss=6.83]\n"
     ]
    },
    {
     "name": "stdout",
     "output_type": "stream",
     "text": [
      "Validation Accuracy: 0.0026\n",
      "Epoch [129/400], Train Loss: 6.8296, Val Loss: 7.0655 \n",
      "\n"
     ]
    },
    {
     "name": "stderr",
     "output_type": "stream",
     "text": [
      "Training: 100%|██████████| 50/50 [00:07<00:00,  6.68it/s, loss=6.83]\n"
     ]
    },
    {
     "name": "stdout",
     "output_type": "stream",
     "text": [
      "Validation Accuracy: 0.0026\n",
      "Epoch [130/400], Train Loss: 6.8278, Val Loss: 7.0656 \n",
      "\n"
     ]
    },
    {
     "name": "stderr",
     "output_type": "stream",
     "text": [
      "Training: 100%|██████████| 50/50 [00:07<00:00,  6.71it/s, loss=6.83]\n"
     ]
    },
    {
     "name": "stdout",
     "output_type": "stream",
     "text": [
      "Validation Accuracy: 0.0026\n",
      "Epoch [131/400], Train Loss: 6.8272, Val Loss: 7.0659 \n",
      "\n"
     ]
    },
    {
     "name": "stderr",
     "output_type": "stream",
     "text": [
      "Training: 100%|██████████| 50/50 [00:07<00:00,  6.68it/s, loss=6.83]\n"
     ]
    },
    {
     "name": "stdout",
     "output_type": "stream",
     "text": [
      "Validation Accuracy: 0.0026\n",
      "Epoch [132/400], Train Loss: 6.8260, Val Loss: 7.0656 \n",
      "\n"
     ]
    },
    {
     "name": "stderr",
     "output_type": "stream",
     "text": [
      "Training: 100%|██████████| 50/50 [00:07<00:00,  6.68it/s, loss=6.83]\n"
     ]
    },
    {
     "name": "stdout",
     "output_type": "stream",
     "text": [
      "Validation Accuracy: 0.0026\n",
      "Epoch [133/400], Train Loss: 6.8297, Val Loss: 7.0657 \n",
      "\n"
     ]
    },
    {
     "name": "stderr",
     "output_type": "stream",
     "text": [
      "Training: 100%|██████████| 50/50 [00:07<00:00,  6.64it/s, loss=6.83]\n"
     ]
    },
    {
     "name": "stdout",
     "output_type": "stream",
     "text": [
      "Validation Accuracy: 0.0026\n",
      "Epoch [134/400], Train Loss: 6.8344, Val Loss: 7.0657 \n",
      "\n"
     ]
    },
    {
     "name": "stderr",
     "output_type": "stream",
     "text": [
      "Training: 100%|██████████| 50/50 [00:07<00:00,  6.63it/s, loss=6.83]\n"
     ]
    },
    {
     "name": "stdout",
     "output_type": "stream",
     "text": [
      "Validation Accuracy: 0.0026\n",
      "Epoch [135/400], Train Loss: 6.8258, Val Loss: 7.0657 \n",
      "\n"
     ]
    },
    {
     "name": "stderr",
     "output_type": "stream",
     "text": [
      "Training: 100%|██████████| 50/50 [00:07<00:00,  6.68it/s, loss=6.83]\n"
     ]
    },
    {
     "name": "stdout",
     "output_type": "stream",
     "text": [
      "Validation Accuracy: 0.0026\n",
      "Epoch [136/400], Train Loss: 6.8308, Val Loss: 7.0661 \n",
      "\n"
     ]
    },
    {
     "name": "stderr",
     "output_type": "stream",
     "text": [
      "Training: 100%|██████████| 50/50 [00:07<00:00,  6.69it/s, loss=6.83]\n"
     ]
    },
    {
     "name": "stdout",
     "output_type": "stream",
     "text": [
      "Validation Accuracy: 0.0026\n",
      "Epoch [137/400], Train Loss: 6.8327, Val Loss: 7.0654 \n",
      "\n"
     ]
    },
    {
     "name": "stderr",
     "output_type": "stream",
     "text": [
      "Training: 100%|██████████| 50/50 [00:07<00:00,  6.68it/s, loss=6.83]\n"
     ]
    },
    {
     "name": "stdout",
     "output_type": "stream",
     "text": [
      "Validation Accuracy: 0.0026\n",
      "Epoch [138/400], Train Loss: 6.8306, Val Loss: 7.0658 \n",
      "\n"
     ]
    },
    {
     "name": "stderr",
     "output_type": "stream",
     "text": [
      "Training: 100%|██████████| 50/50 [00:07<00:00,  6.72it/s, loss=6.83]\n"
     ]
    },
    {
     "name": "stdout",
     "output_type": "stream",
     "text": [
      "Validation Accuracy: 0.0026\n",
      "Epoch [139/400], Train Loss: 6.8266, Val Loss: 7.0657 \n",
      "\n"
     ]
    },
    {
     "name": "stderr",
     "output_type": "stream",
     "text": [
      "Training: 100%|██████████| 50/50 [00:07<00:00,  6.65it/s, loss=6.83]\n"
     ]
    },
    {
     "name": "stdout",
     "output_type": "stream",
     "text": [
      "Validation Accuracy: 0.0026\n",
      "Epoch [140/400], Train Loss: 6.8319, Val Loss: 7.0655 \n",
      "\n"
     ]
    },
    {
     "name": "stderr",
     "output_type": "stream",
     "text": [
      "Training: 100%|██████████| 50/50 [00:07<00:00,  6.67it/s, loss=6.83]\n"
     ]
    },
    {
     "name": "stdout",
     "output_type": "stream",
     "text": [
      "Validation Accuracy: 0.0026\n",
      "Epoch [141/400], Train Loss: 6.8281, Val Loss: 7.0655 \n",
      "\n"
     ]
    },
    {
     "name": "stderr",
     "output_type": "stream",
     "text": [
      "Training: 100%|██████████| 50/50 [00:07<00:00,  6.67it/s, loss=6.83]\n"
     ]
    },
    {
     "name": "stdout",
     "output_type": "stream",
     "text": [
      "Validation Accuracy: 0.0026\n",
      "Epoch [142/400], Train Loss: 6.8266, Val Loss: 7.0656 \n",
      "\n"
     ]
    },
    {
     "name": "stderr",
     "output_type": "stream",
     "text": [
      "Training: 100%|██████████| 50/50 [00:07<00:00,  6.76it/s, loss=6.83]\n"
     ]
    },
    {
     "name": "stdout",
     "output_type": "stream",
     "text": [
      "Validation Accuracy: 0.0026\n",
      "Epoch [143/400], Train Loss: 6.8293, Val Loss: 7.0655 \n",
      "\n"
     ]
    },
    {
     "name": "stderr",
     "output_type": "stream",
     "text": [
      "Training: 100%|██████████| 50/50 [00:07<00:00,  6.64it/s, loss=6.83]\n"
     ]
    },
    {
     "name": "stdout",
     "output_type": "stream",
     "text": [
      "Validation Accuracy: 0.0026\n",
      "Epoch [144/400], Train Loss: 6.8314, Val Loss: 7.0656 \n",
      "\n"
     ]
    },
    {
     "name": "stderr",
     "output_type": "stream",
     "text": [
      "Training: 100%|██████████| 50/50 [00:07<00:00,  6.67it/s, loss=6.83]\n"
     ]
    },
    {
     "name": "stdout",
     "output_type": "stream",
     "text": [
      "Validation Accuracy: 0.0026\n",
      "Epoch [145/400], Train Loss: 6.8273, Val Loss: 7.0659 \n",
      "\n"
     ]
    },
    {
     "name": "stderr",
     "output_type": "stream",
     "text": [
      "Training: 100%|██████████| 50/50 [00:07<00:00,  6.68it/s, loss=6.83]\n"
     ]
    },
    {
     "name": "stdout",
     "output_type": "stream",
     "text": [
      "Validation Accuracy: 0.0026\n",
      "Epoch [146/400], Train Loss: 6.8264, Val Loss: 7.0659 \n",
      "\n"
     ]
    },
    {
     "name": "stderr",
     "output_type": "stream",
     "text": [
      "Training: 100%|██████████| 50/50 [00:07<00:00,  6.68it/s, loss=6.83]\n"
     ]
    },
    {
     "name": "stdout",
     "output_type": "stream",
     "text": [
      "Validation Accuracy: 0.0026\n",
      "Epoch [147/400], Train Loss: 6.8307, Val Loss: 7.0657 \n",
      "\n"
     ]
    },
    {
     "name": "stderr",
     "output_type": "stream",
     "text": [
      "Training: 100%|██████████| 50/50 [00:07<00:00,  6.62it/s, loss=6.83]\n"
     ]
    },
    {
     "name": "stdout",
     "output_type": "stream",
     "text": [
      "Validation Accuracy: 0.0026\n",
      "Epoch [148/400], Train Loss: 6.8303, Val Loss: 7.0657 \n",
      "\n"
     ]
    },
    {
     "name": "stderr",
     "output_type": "stream",
     "text": [
      "Training: 100%|██████████| 50/50 [00:07<00:00,  6.63it/s, loss=6.82]\n"
     ]
    },
    {
     "name": "stdout",
     "output_type": "stream",
     "text": [
      "Validation Accuracy: 0.0026\n",
      "Epoch [149/400], Train Loss: 6.8248, Val Loss: 7.0661 \n",
      "\n"
     ]
    },
    {
     "name": "stderr",
     "output_type": "stream",
     "text": [
      "Training: 100%|██████████| 50/50 [00:07<00:00,  6.70it/s, loss=6.83]\n"
     ]
    },
    {
     "name": "stdout",
     "output_type": "stream",
     "text": [
      "Validation Accuracy: 0.0026\n",
      "Epoch [150/400], Train Loss: 6.8291, Val Loss: 7.0662 \n",
      "\n"
     ]
    },
    {
     "name": "stderr",
     "output_type": "stream",
     "text": [
      "Training: 100%|██████████| 50/50 [00:07<00:00,  6.71it/s, loss=6.83]\n"
     ]
    },
    {
     "name": "stdout",
     "output_type": "stream",
     "text": [
      "Validation Accuracy: 0.0026\n",
      "Epoch [151/400], Train Loss: 6.8262, Val Loss: 7.0660 \n",
      "\n"
     ]
    },
    {
     "name": "stderr",
     "output_type": "stream",
     "text": [
      "Training: 100%|██████████| 50/50 [00:07<00:00,  6.68it/s, loss=6.83]\n"
     ]
    },
    {
     "name": "stdout",
     "output_type": "stream",
     "text": [
      "Validation Accuracy: 0.0026\n",
      "Epoch [152/400], Train Loss: 6.8277, Val Loss: 7.0661 \n",
      "\n"
     ]
    },
    {
     "name": "stderr",
     "output_type": "stream",
     "text": [
      "Training: 100%|██████████| 50/50 [00:07<00:00,  6.66it/s, loss=6.83]\n"
     ]
    },
    {
     "name": "stdout",
     "output_type": "stream",
     "text": [
      "Validation Accuracy: 0.0026\n",
      "Epoch [153/400], Train Loss: 6.8273, Val Loss: 7.0654 \n",
      "\n"
     ]
    },
    {
     "name": "stderr",
     "output_type": "stream",
     "text": [
      "Training: 100%|██████████| 50/50 [00:07<00:00,  6.72it/s, loss=6.83]\n"
     ]
    },
    {
     "name": "stdout",
     "output_type": "stream",
     "text": [
      "Validation Accuracy: 0.0026\n",
      "Epoch [154/400], Train Loss: 6.8282, Val Loss: 7.0654 \n",
      "\n"
     ]
    },
    {
     "name": "stderr",
     "output_type": "stream",
     "text": [
      "Training: 100%|██████████| 50/50 [00:07<00:00,  6.68it/s, loss=6.83]\n"
     ]
    },
    {
     "name": "stdout",
     "output_type": "stream",
     "text": [
      "Validation Accuracy: 0.0026\n",
      "Epoch [155/400], Train Loss: 6.8334, Val Loss: 7.0652 \n",
      "\n"
     ]
    },
    {
     "name": "stderr",
     "output_type": "stream",
     "text": [
      "Training: 100%|██████████| 50/50 [00:07<00:00,  6.63it/s, loss=6.83]\n"
     ]
    },
    {
     "name": "stdout",
     "output_type": "stream",
     "text": [
      "Validation Accuracy: 0.0026\n",
      "Epoch [156/400], Train Loss: 6.8269, Val Loss: 7.0647 \n",
      "\n"
     ]
    },
    {
     "name": "stderr",
     "output_type": "stream",
     "text": [
      "Training: 100%|██████████| 50/50 [00:07<00:00,  6.58it/s, loss=6.83]\n"
     ]
    },
    {
     "name": "stdout",
     "output_type": "stream",
     "text": [
      "Validation Accuracy: 0.0026\n",
      "Epoch [157/400], Train Loss: 6.8279, Val Loss: 7.0646 \n",
      "\n"
     ]
    },
    {
     "name": "stderr",
     "output_type": "stream",
     "text": [
      "Training: 100%|██████████| 50/50 [00:07<00:00,  6.66it/s, loss=6.83]\n"
     ]
    },
    {
     "name": "stdout",
     "output_type": "stream",
     "text": [
      "Validation Accuracy: 0.0026\n",
      "Epoch [158/400], Train Loss: 6.8266, Val Loss: 7.0648 \n",
      "\n"
     ]
    },
    {
     "name": "stderr",
     "output_type": "stream",
     "text": [
      "Training: 100%|██████████| 50/50 [00:07<00:00,  6.71it/s, loss=6.83]\n"
     ]
    },
    {
     "name": "stdout",
     "output_type": "stream",
     "text": [
      "Validation Accuracy: 0.0026\n",
      "Epoch [159/400], Train Loss: 6.8274, Val Loss: 7.0648 \n",
      "\n"
     ]
    },
    {
     "name": "stderr",
     "output_type": "stream",
     "text": [
      "Training: 100%|██████████| 50/50 [00:07<00:00,  6.69it/s, loss=6.83]\n"
     ]
    },
    {
     "name": "stdout",
     "output_type": "stream",
     "text": [
      "Validation Accuracy: 0.0026\n",
      "Epoch [160/400], Train Loss: 6.8301, Val Loss: 7.0650 \n",
      "\n"
     ]
    },
    {
     "name": "stderr",
     "output_type": "stream",
     "text": [
      "Training: 100%|██████████| 50/50 [00:07<00:00,  6.69it/s, loss=6.83]\n"
     ]
    },
    {
     "name": "stdout",
     "output_type": "stream",
     "text": [
      "Validation Accuracy: 0.0026\n",
      "Epoch [161/400], Train Loss: 6.8338, Val Loss: 7.0654 \n",
      "\n"
     ]
    },
    {
     "name": "stderr",
     "output_type": "stream",
     "text": [
      "Training: 100%|██████████| 50/50 [00:07<00:00,  6.68it/s, loss=6.83]\n"
     ]
    },
    {
     "name": "stdout",
     "output_type": "stream",
     "text": [
      "Validation Accuracy: 0.0026\n",
      "Epoch [162/400], Train Loss: 6.8268, Val Loss: 7.0654 \n",
      "\n"
     ]
    },
    {
     "name": "stderr",
     "output_type": "stream",
     "text": [
      "Training: 100%|██████████| 50/50 [00:07<00:00,  6.71it/s, loss=6.83]\n"
     ]
    },
    {
     "name": "stdout",
     "output_type": "stream",
     "text": [
      "Validation Accuracy: 0.0026\n",
      "Epoch [163/400], Train Loss: 6.8295, Val Loss: 7.0653 \n",
      "\n"
     ]
    },
    {
     "name": "stderr",
     "output_type": "stream",
     "text": [
      "Training: 100%|██████████| 50/50 [00:07<00:00,  6.70it/s, loss=6.83]\n"
     ]
    },
    {
     "name": "stdout",
     "output_type": "stream",
     "text": [
      "Validation Accuracy: 0.0026\n",
      "Epoch [164/400], Train Loss: 6.8303, Val Loss: 7.0649 \n",
      "\n"
     ]
    },
    {
     "name": "stderr",
     "output_type": "stream",
     "text": [
      "Training: 100%|██████████| 50/50 [00:07<00:00,  6.69it/s, loss=6.83]\n"
     ]
    },
    {
     "name": "stdout",
     "output_type": "stream",
     "text": [
      "Validation Accuracy: 0.0026\n",
      "Epoch [165/400], Train Loss: 6.8277, Val Loss: 7.0647 \n",
      "\n"
     ]
    },
    {
     "name": "stderr",
     "output_type": "stream",
     "text": [
      "Training: 100%|██████████| 50/50 [00:07<00:00,  6.67it/s, loss=6.84]\n"
     ]
    },
    {
     "name": "stdout",
     "output_type": "stream",
     "text": [
      "Validation Accuracy: 0.0026\n",
      "Epoch [166/400], Train Loss: 6.8364, Val Loss: 7.0647 \n",
      "\n"
     ]
    },
    {
     "name": "stderr",
     "output_type": "stream",
     "text": [
      "Training: 100%|██████████| 50/50 [00:07<00:00,  6.66it/s, loss=6.83]\n"
     ]
    },
    {
     "name": "stdout",
     "output_type": "stream",
     "text": [
      "Validation Accuracy: 0.0026\n",
      "Epoch [167/400], Train Loss: 6.8308, Val Loss: 7.0642 \n",
      "\n"
     ]
    },
    {
     "name": "stderr",
     "output_type": "stream",
     "text": [
      "Training: 100%|██████████| 50/50 [00:07<00:00,  6.68it/s, loss=6.84]\n"
     ]
    },
    {
     "name": "stdout",
     "output_type": "stream",
     "text": [
      "Validation Accuracy: 0.0026\n",
      "Epoch [168/400], Train Loss: 6.8370, Val Loss: 7.0644 \n",
      "\n"
     ]
    },
    {
     "name": "stderr",
     "output_type": "stream",
     "text": [
      "Training: 100%|██████████| 50/50 [00:07<00:00,  6.68it/s, loss=6.83]\n"
     ]
    },
    {
     "name": "stdout",
     "output_type": "stream",
     "text": [
      "Validation Accuracy: 0.0026\n",
      "Epoch [169/400], Train Loss: 6.8252, Val Loss: 7.0640 \n",
      "\n"
     ]
    },
    {
     "name": "stderr",
     "output_type": "stream",
     "text": [
      "Training: 100%|██████████| 50/50 [00:07<00:00,  6.68it/s, loss=6.83]\n"
     ]
    },
    {
     "name": "stdout",
     "output_type": "stream",
     "text": [
      "Validation Accuracy: 0.0026\n",
      "Epoch [170/400], Train Loss: 6.8332, Val Loss: 7.0644 \n",
      "\n"
     ]
    },
    {
     "name": "stderr",
     "output_type": "stream",
     "text": [
      "Training: 100%|██████████| 50/50 [00:07<00:00,  6.70it/s, loss=6.83]\n"
     ]
    },
    {
     "name": "stdout",
     "output_type": "stream",
     "text": [
      "Validation Accuracy: 0.0026\n",
      "Epoch [171/400], Train Loss: 6.8317, Val Loss: 7.0643 \n",
      "\n"
     ]
    },
    {
     "name": "stderr",
     "output_type": "stream",
     "text": [
      "Training: 100%|██████████| 50/50 [00:07<00:00,  6.65it/s, loss=6.83]\n"
     ]
    },
    {
     "name": "stdout",
     "output_type": "stream",
     "text": [
      "Validation Accuracy: 0.0026\n",
      "Epoch [172/400], Train Loss: 6.8302, Val Loss: 7.0643 \n",
      "\n"
     ]
    },
    {
     "name": "stderr",
     "output_type": "stream",
     "text": [
      "Training: 100%|██████████| 50/50 [00:07<00:00,  6.65it/s, loss=6.83]\n"
     ]
    },
    {
     "name": "stdout",
     "output_type": "stream",
     "text": [
      "Validation Accuracy: 0.0026\n",
      "Epoch [173/400], Train Loss: 6.8332, Val Loss: 7.0647 \n",
      "\n"
     ]
    },
    {
     "name": "stderr",
     "output_type": "stream",
     "text": [
      "Training: 100%|██████████| 50/50 [00:07<00:00,  6.64it/s, loss=6.82]\n"
     ]
    },
    {
     "name": "stdout",
     "output_type": "stream",
     "text": [
      "Validation Accuracy: 0.0026\n",
      "Epoch [174/400], Train Loss: 6.8235, Val Loss: 7.0641 \n",
      "\n"
     ]
    },
    {
     "name": "stderr",
     "output_type": "stream",
     "text": [
      "Training: 100%|██████████| 50/50 [00:07<00:00,  6.59it/s, loss=6.82]\n"
     ]
    },
    {
     "name": "stdout",
     "output_type": "stream",
     "text": [
      "Validation Accuracy: 0.0026\n",
      "Epoch [175/400], Train Loss: 6.8218, Val Loss: 7.0642 \n",
      "\n"
     ]
    },
    {
     "name": "stderr",
     "output_type": "stream",
     "text": [
      "Training: 100%|██████████| 50/50 [00:07<00:00,  6.75it/s, loss=6.82]\n"
     ]
    },
    {
     "name": "stdout",
     "output_type": "stream",
     "text": [
      "Validation Accuracy: 0.0026\n",
      "Epoch [176/400], Train Loss: 6.8246, Val Loss: 7.0640 \n",
      "\n"
     ]
    },
    {
     "name": "stderr",
     "output_type": "stream",
     "text": [
      "Training: 100%|██████████| 50/50 [00:07<00:00,  6.66it/s, loss=6.83]\n"
     ]
    },
    {
     "name": "stdout",
     "output_type": "stream",
     "text": [
      "Validation Accuracy: 0.0026\n",
      "Epoch [177/400], Train Loss: 6.8319, Val Loss: 7.0638 \n",
      "\n"
     ]
    },
    {
     "name": "stderr",
     "output_type": "stream",
     "text": [
      "Training: 100%|██████████| 50/50 [00:07<00:00,  6.59it/s, loss=6.83]\n"
     ]
    },
    {
     "name": "stdout",
     "output_type": "stream",
     "text": [
      "Validation Accuracy: 0.0026\n",
      "Epoch [178/400], Train Loss: 6.8286, Val Loss: 7.0637 \n",
      "\n"
     ]
    },
    {
     "name": "stderr",
     "output_type": "stream",
     "text": [
      "Training: 100%|██████████| 50/50 [00:07<00:00,  6.72it/s, loss=6.82]\n"
     ]
    },
    {
     "name": "stdout",
     "output_type": "stream",
     "text": [
      "Validation Accuracy: 0.0026\n",
      "Epoch [179/400], Train Loss: 6.8250, Val Loss: 7.0638 \n",
      "\n"
     ]
    },
    {
     "name": "stderr",
     "output_type": "stream",
     "text": [
      "Training: 100%|██████████| 50/50 [00:07<00:00,  6.64it/s, loss=6.83]\n"
     ]
    },
    {
     "name": "stdout",
     "output_type": "stream",
     "text": [
      "Validation Accuracy: 0.0026\n",
      "Epoch [180/400], Train Loss: 6.8341, Val Loss: 7.0645 \n",
      "\n"
     ]
    },
    {
     "name": "stderr",
     "output_type": "stream",
     "text": [
      "Training: 100%|██████████| 50/50 [00:07<00:00,  6.68it/s, loss=6.83]\n"
     ]
    },
    {
     "name": "stdout",
     "output_type": "stream",
     "text": [
      "Validation Accuracy: 0.0026\n",
      "Epoch [181/400], Train Loss: 6.8301, Val Loss: 7.0643 \n",
      "\n"
     ]
    },
    {
     "name": "stderr",
     "output_type": "stream",
     "text": [
      "Training: 100%|██████████| 50/50 [00:07<00:00,  6.68it/s, loss=6.83]\n"
     ]
    },
    {
     "name": "stdout",
     "output_type": "stream",
     "text": [
      "Validation Accuracy: 0.0026\n",
      "Epoch [182/400], Train Loss: 6.8311, Val Loss: 7.0638 \n",
      "\n"
     ]
    },
    {
     "name": "stderr",
     "output_type": "stream",
     "text": [
      "Training: 100%|██████████| 50/50 [00:07<00:00,  6.69it/s, loss=6.83]\n"
     ]
    },
    {
     "name": "stdout",
     "output_type": "stream",
     "text": [
      "Validation Accuracy: 0.0026\n",
      "Epoch [183/400], Train Loss: 6.8319, Val Loss: 7.0643 \n",
      "\n"
     ]
    },
    {
     "name": "stderr",
     "output_type": "stream",
     "text": [
      "Training: 100%|██████████| 50/50 [00:07<00:00,  6.66it/s, loss=6.83]\n"
     ]
    },
    {
     "name": "stdout",
     "output_type": "stream",
     "text": [
      "Validation Accuracy: 0.0026\n",
      "Epoch [184/400], Train Loss: 6.8270, Val Loss: 7.0635 \n",
      "\n"
     ]
    },
    {
     "name": "stderr",
     "output_type": "stream",
     "text": [
      "Training: 100%|██████████| 50/50 [00:07<00:00,  6.73it/s, loss=6.83]\n"
     ]
    },
    {
     "name": "stdout",
     "output_type": "stream",
     "text": [
      "Validation Accuracy: 0.0026\n",
      "Epoch [185/400], Train Loss: 6.8333, Val Loss: 7.0640 \n",
      "\n"
     ]
    },
    {
     "name": "stderr",
     "output_type": "stream",
     "text": [
      "Training: 100%|██████████| 50/50 [00:07<00:00,  6.65it/s, loss=6.83]\n"
     ]
    },
    {
     "name": "stdout",
     "output_type": "stream",
     "text": [
      "Validation Accuracy: 0.0026\n",
      "Epoch [186/400], Train Loss: 6.8322, Val Loss: 7.0648 \n",
      "\n"
     ]
    },
    {
     "name": "stderr",
     "output_type": "stream",
     "text": [
      "Training: 100%|██████████| 50/50 [00:07<00:00,  6.66it/s, loss=6.83]\n"
     ]
    },
    {
     "name": "stdout",
     "output_type": "stream",
     "text": [
      "Validation Accuracy: 0.0026\n",
      "Epoch [187/400], Train Loss: 6.8266, Val Loss: 7.0646 \n",
      "\n"
     ]
    },
    {
     "name": "stderr",
     "output_type": "stream",
     "text": [
      "Training: 100%|██████████| 50/50 [00:07<00:00,  6.76it/s, loss=6.82]\n"
     ]
    },
    {
     "name": "stdout",
     "output_type": "stream",
     "text": [
      "Validation Accuracy: 0.0026\n",
      "Epoch [188/400], Train Loss: 6.8229, Val Loss: 7.0653 \n",
      "\n"
     ]
    },
    {
     "name": "stderr",
     "output_type": "stream",
     "text": [
      "Training: 100%|██████████| 50/50 [00:07<00:00,  6.66it/s, loss=6.83]\n"
     ]
    },
    {
     "name": "stdout",
     "output_type": "stream",
     "text": [
      "Validation Accuracy: 0.0026\n",
      "Epoch [189/400], Train Loss: 6.8312, Val Loss: 7.0652 \n",
      "\n"
     ]
    },
    {
     "name": "stderr",
     "output_type": "stream",
     "text": [
      "Training: 100%|██████████| 50/50 [00:07<00:00,  6.63it/s, loss=6.83]\n"
     ]
    },
    {
     "name": "stdout",
     "output_type": "stream",
     "text": [
      "Validation Accuracy: 0.0026\n",
      "Epoch [190/400], Train Loss: 6.8338, Val Loss: 7.0658 \n",
      "\n"
     ]
    },
    {
     "name": "stderr",
     "output_type": "stream",
     "text": [
      "Training: 100%|██████████| 50/50 [00:07<00:00,  6.74it/s, loss=6.83]\n"
     ]
    },
    {
     "name": "stdout",
     "output_type": "stream",
     "text": [
      "Validation Accuracy: 0.0026\n",
      "Epoch [191/400], Train Loss: 6.8264, Val Loss: 7.0655 \n",
      "\n"
     ]
    },
    {
     "name": "stderr",
     "output_type": "stream",
     "text": [
      "Training: 100%|██████████| 50/50 [00:07<00:00,  6.70it/s, loss=6.83]\n"
     ]
    },
    {
     "name": "stdout",
     "output_type": "stream",
     "text": [
      "Validation Accuracy: 0.0026\n",
      "Epoch [192/400], Train Loss: 6.8320, Val Loss: 7.0657 \n",
      "\n"
     ]
    },
    {
     "name": "stderr",
     "output_type": "stream",
     "text": [
      "Training: 100%|██████████| 50/50 [00:07<00:00,  6.67it/s, loss=6.84]\n"
     ]
    },
    {
     "name": "stdout",
     "output_type": "stream",
     "text": [
      "Validation Accuracy: 0.0026\n",
      "Epoch [193/400], Train Loss: 6.8361, Val Loss: 7.0657 \n",
      "\n"
     ]
    },
    {
     "name": "stderr",
     "output_type": "stream",
     "text": [
      "Training: 100%|██████████| 50/50 [00:07<00:00,  6.69it/s, loss=6.83]\n"
     ]
    },
    {
     "name": "stdout",
     "output_type": "stream",
     "text": [
      "Validation Accuracy: 0.0026\n",
      "Epoch [194/400], Train Loss: 6.8327, Val Loss: 7.0660 \n",
      "\n"
     ]
    },
    {
     "name": "stderr",
     "output_type": "stream",
     "text": [
      "Training: 100%|██████████| 50/50 [00:07<00:00,  6.70it/s, loss=6.83]\n"
     ]
    },
    {
     "name": "stdout",
     "output_type": "stream",
     "text": [
      "Validation Accuracy: 0.0026\n",
      "Epoch [195/400], Train Loss: 6.8349, Val Loss: 7.0656 \n",
      "\n"
     ]
    },
    {
     "name": "stderr",
     "output_type": "stream",
     "text": [
      "Training: 100%|██████████| 50/50 [00:07<00:00,  6.72it/s, loss=6.83]\n"
     ]
    },
    {
     "name": "stdout",
     "output_type": "stream",
     "text": [
      "Validation Accuracy: 0.0026\n",
      "Epoch [196/400], Train Loss: 6.8346, Val Loss: 7.0655 \n",
      "\n"
     ]
    },
    {
     "name": "stderr",
     "output_type": "stream",
     "text": [
      "Training: 100%|██████████| 50/50 [00:07<00:00,  6.67it/s, loss=6.83]\n"
     ]
    },
    {
     "name": "stdout",
     "output_type": "stream",
     "text": [
      "Validation Accuracy: 0.0026\n",
      "Epoch [197/400], Train Loss: 6.8321, Val Loss: 7.0648 \n",
      "\n"
     ]
    },
    {
     "name": "stderr",
     "output_type": "stream",
     "text": [
      "Training: 100%|██████████| 50/50 [00:07<00:00,  6.67it/s, loss=6.83]\n"
     ]
    },
    {
     "name": "stdout",
     "output_type": "stream",
     "text": [
      "Validation Accuracy: 0.0026\n",
      "Epoch [198/400], Train Loss: 6.8334, Val Loss: 7.0647 \n",
      "\n"
     ]
    },
    {
     "name": "stderr",
     "output_type": "stream",
     "text": [
      "Training: 100%|██████████| 50/50 [00:07<00:00,  6.69it/s, loss=6.83]\n"
     ]
    },
    {
     "name": "stdout",
     "output_type": "stream",
     "text": [
      "Validation Accuracy: 0.0026\n",
      "Epoch [199/400], Train Loss: 6.8302, Val Loss: 7.0647 \n",
      "\n"
     ]
    },
    {
     "name": "stderr",
     "output_type": "stream",
     "text": [
      "Training:  98%|█████████▊| 49/50 [00:07<00:00,  7.10it/s, loss=6.83]/NAS2/choah76/miniconda3/envs/transINR/lib/python3.9/site-packages/torch/optim/lr_scheduler.py:240: UserWarning: The epoch parameter in `scheduler.step()` was not necessary and is being deprecated where possible. Please use `scheduler.step()` to step the scheduler. During the deprecation, if epoch is different from None, the closed form is used instead of the new chainable form, where available. Please open an issue if you are unable to replicate your use case: https://github.com/pytorch/pytorch/issues/new/choose.\n",
      "  warnings.warn(EPOCH_DEPRECATION_WARNING, UserWarning)\n",
      "Training: 100%|██████████| 50/50 [00:07<00:00,  6.68it/s, loss=6.83]\n"
     ]
    },
    {
     "name": "stdout",
     "output_type": "stream",
     "text": [
      "Validation Accuracy: 0.0026\n",
      "Epoch [200/400], Train Loss: 6.8297, Val Loss: 7.0650 \n",
      "\n"
     ]
    },
    {
     "name": "stderr",
     "output_type": "stream",
     "text": [
      "Training: 100%|██████████| 50/50 [00:07<00:00,  6.61it/s, loss=7.86]\n"
     ]
    },
    {
     "name": "stdout",
     "output_type": "stream",
     "text": [
      "Validation Accuracy: 0.0013\n",
      "Epoch [201/400], Train Loss: 7.8555, Val Loss: 7.2310 \n",
      "\n"
     ]
    },
    {
     "name": "stderr",
     "output_type": "stream",
     "text": [
      "Training: 100%|██████████| 50/50 [00:07<00:00,  6.69it/s, loss=7.35]\n"
     ]
    },
    {
     "name": "stdout",
     "output_type": "stream",
     "text": [
      "Validation Accuracy: 0.0026\n",
      "Epoch [202/400], Train Loss: 7.3486, Val Loss: 7.3275 \n",
      "\n"
     ]
    },
    {
     "name": "stderr",
     "output_type": "stream",
     "text": [
      "Training: 100%|██████████| 50/50 [00:07<00:00,  6.65it/s, loss=7.2] \n"
     ]
    },
    {
     "name": "stdout",
     "output_type": "stream",
     "text": [
      "Validation Accuracy: 0.0026\n",
      "Epoch [203/400], Train Loss: 7.1998, Val Loss: 7.2304 \n",
      "\n"
     ]
    },
    {
     "name": "stderr",
     "output_type": "stream",
     "text": [
      "Training: 100%|██████████| 50/50 [00:07<00:00,  6.67it/s, loss=7.11]\n"
     ]
    },
    {
     "name": "stdout",
     "output_type": "stream",
     "text": [
      "Validation Accuracy: 0.0000\n",
      "Epoch [204/400], Train Loss: 7.1132, Val Loss: 7.1320 \n",
      "\n"
     ]
    },
    {
     "name": "stderr",
     "output_type": "stream",
     "text": [
      "Training: 100%|██████████| 50/50 [00:07<00:00,  6.75it/s, loss=7.05]\n"
     ]
    },
    {
     "name": "stdout",
     "output_type": "stream",
     "text": [
      "Validation Accuracy: 0.0000\n",
      "Epoch [205/400], Train Loss: 7.0474, Val Loss: 7.0594 \n",
      "\n"
     ]
    },
    {
     "name": "stderr",
     "output_type": "stream",
     "text": [
      "Training: 100%|██████████| 50/50 [00:07<00:00,  6.72it/s, loss=7]   \n"
     ]
    },
    {
     "name": "stdout",
     "output_type": "stream",
     "text": [
      "Validation Accuracy: 0.0026\n",
      "Epoch [206/400], Train Loss: 7.0014, Val Loss: 6.9898 \n",
      "\n"
     ]
    },
    {
     "name": "stderr",
     "output_type": "stream",
     "text": [
      "Training: 100%|██████████| 50/50 [00:07<00:00,  6.64it/s, loss=6.97]\n"
     ]
    },
    {
     "name": "stdout",
     "output_type": "stream",
     "text": [
      "Validation Accuracy: 0.0000\n",
      "Epoch [207/400], Train Loss: 6.9703, Val Loss: 6.9569 \n",
      "\n"
     ]
    },
    {
     "name": "stderr",
     "output_type": "stream",
     "text": [
      "Training: 100%|██████████| 50/50 [00:07<00:00,  6.73it/s, loss=6.95]\n"
     ]
    },
    {
     "name": "stdout",
     "output_type": "stream",
     "text": [
      "Validation Accuracy: 0.0013\n",
      "Epoch [208/400], Train Loss: 6.9526, Val Loss: 6.9390 \n",
      "\n"
     ]
    },
    {
     "name": "stderr",
     "output_type": "stream",
     "text": [
      "Training: 100%|██████████| 50/50 [00:07<00:00,  6.70it/s, loss=6.93]\n"
     ]
    },
    {
     "name": "stdout",
     "output_type": "stream",
     "text": [
      "Validation Accuracy: 0.0000\n",
      "Epoch [209/400], Train Loss: 6.9317, Val Loss: 6.9320 \n",
      "\n"
     ]
    },
    {
     "name": "stderr",
     "output_type": "stream",
     "text": [
      "Training: 100%|██████████| 50/50 [00:07<00:00,  6.74it/s, loss=6.92]\n"
     ]
    },
    {
     "name": "stdout",
     "output_type": "stream",
     "text": [
      "Validation Accuracy: 0.0000\n",
      "Epoch [210/400], Train Loss: 6.9217, Val Loss: 6.9158 \n",
      "\n"
     ]
    },
    {
     "name": "stderr",
     "output_type": "stream",
     "text": [
      "Training: 100%|██████████| 50/50 [00:07<00:00,  6.68it/s, loss=6.92]\n"
     ]
    },
    {
     "name": "stdout",
     "output_type": "stream",
     "text": [
      "Validation Accuracy: 0.0026\n",
      "Epoch [211/400], Train Loss: 6.9176, Val Loss: 6.9131 \n",
      "\n"
     ]
    },
    {
     "name": "stderr",
     "output_type": "stream",
     "text": [
      "Training: 100%|██████████| 50/50 [00:07<00:00,  6.67it/s, loss=6.91]\n"
     ]
    },
    {
     "name": "stdout",
     "output_type": "stream",
     "text": [
      "Validation Accuracy: 0.0013\n",
      "Epoch [212/400], Train Loss: 6.9132, Val Loss: 6.9128 \n",
      "\n"
     ]
    },
    {
     "name": "stderr",
     "output_type": "stream",
     "text": [
      "Training: 100%|██████████| 50/50 [00:07<00:00,  6.71it/s, loss=6.91]\n"
     ]
    },
    {
     "name": "stdout",
     "output_type": "stream",
     "text": [
      "Validation Accuracy: 0.0013\n",
      "Epoch [213/400], Train Loss: 6.9118, Val Loss: 6.9106 \n",
      "\n"
     ]
    },
    {
     "name": "stderr",
     "output_type": "stream",
     "text": [
      "Training: 100%|██████████| 50/50 [00:07<00:00,  6.74it/s, loss=6.91]\n"
     ]
    },
    {
     "name": "stdout",
     "output_type": "stream",
     "text": [
      "Validation Accuracy: 0.0000\n",
      "Epoch [214/400], Train Loss: 6.9095, Val Loss: 6.9100 \n",
      "\n"
     ]
    },
    {
     "name": "stderr",
     "output_type": "stream",
     "text": [
      "Training: 100%|██████████| 50/50 [00:07<00:00,  6.75it/s, loss=6.91]\n"
     ]
    },
    {
     "name": "stdout",
     "output_type": "stream",
     "text": [
      "Validation Accuracy: 0.0000\n",
      "Epoch [215/400], Train Loss: 6.9090, Val Loss: 6.9099 \n",
      "\n"
     ]
    },
    {
     "name": "stderr",
     "output_type": "stream",
     "text": [
      "Training: 100%|██████████| 50/50 [00:07<00:00,  6.71it/s, loss=6.91]\n"
     ]
    },
    {
     "name": "stdout",
     "output_type": "stream",
     "text": [
      "Validation Accuracy: 0.0038\n",
      "Epoch [216/400], Train Loss: 6.9087, Val Loss: 6.9092 \n",
      "\n"
     ]
    },
    {
     "name": "stderr",
     "output_type": "stream",
     "text": [
      "Training: 100%|██████████| 50/50 [00:07<00:00,  6.70it/s, loss=6.91]\n"
     ]
    },
    {
     "name": "stdout",
     "output_type": "stream",
     "text": [
      "Validation Accuracy: 0.0000\n",
      "Epoch [217/400], Train Loss: 6.9083, Val Loss: 6.9090 \n",
      "\n"
     ]
    },
    {
     "name": "stderr",
     "output_type": "stream",
     "text": [
      "Training: 100%|██████████| 50/50 [00:07<00:00,  6.69it/s, loss=6.91]\n"
     ]
    },
    {
     "name": "stdout",
     "output_type": "stream",
     "text": [
      "Validation Accuracy: 0.0026\n",
      "Epoch [218/400], Train Loss: 6.9083, Val Loss: 6.9088 \n",
      "\n"
     ]
    },
    {
     "name": "stderr",
     "output_type": "stream",
     "text": [
      "Training: 100%|██████████| 50/50 [00:07<00:00,  6.73it/s, loss=6.91]\n"
     ]
    },
    {
     "name": "stdout",
     "output_type": "stream",
     "text": [
      "Validation Accuracy: 0.0000\n",
      "Epoch [219/400], Train Loss: 6.9083, Val Loss: 6.9085 \n",
      "\n"
     ]
    },
    {
     "name": "stderr",
     "output_type": "stream",
     "text": [
      "Training: 100%|██████████| 50/50 [00:07<00:00,  6.76it/s, loss=6.91]\n"
     ]
    },
    {
     "name": "stdout",
     "output_type": "stream",
     "text": [
      "Validation Accuracy: 0.0000\n",
      "Epoch [220/400], Train Loss: 6.9081, Val Loss: 6.9081 \n",
      "\n"
     ]
    },
    {
     "name": "stderr",
     "output_type": "stream",
     "text": [
      "Training: 100%|██████████| 50/50 [00:07<00:00,  6.81it/s, loss=6.91]\n"
     ]
    },
    {
     "name": "stdout",
     "output_type": "stream",
     "text": [
      "Validation Accuracy: 0.0026\n",
      "Epoch [221/400], Train Loss: 6.9081, Val Loss: 6.9080 \n",
      "\n"
     ]
    },
    {
     "name": "stderr",
     "output_type": "stream",
     "text": [
      "Training: 100%|██████████| 50/50 [00:07<00:00,  6.79it/s, loss=6.91]\n"
     ]
    },
    {
     "name": "stdout",
     "output_type": "stream",
     "text": [
      "Validation Accuracy: 0.0000\n",
      "Epoch [222/400], Train Loss: 6.9080, Val Loss: 6.9085 \n",
      "\n"
     ]
    },
    {
     "name": "stderr",
     "output_type": "stream",
     "text": [
      "Training: 100%|██████████| 50/50 [00:07<00:00,  6.76it/s, loss=6.91]\n"
     ]
    },
    {
     "name": "stdout",
     "output_type": "stream",
     "text": [
      "Validation Accuracy: 0.0013\n",
      "Epoch [223/400], Train Loss: 6.9082, Val Loss: 6.9083 \n",
      "\n"
     ]
    },
    {
     "name": "stderr",
     "output_type": "stream",
     "text": [
      "Training: 100%|██████████| 50/50 [00:07<00:00,  6.80it/s, loss=6.91]\n"
     ]
    },
    {
     "name": "stdout",
     "output_type": "stream",
     "text": [
      "Validation Accuracy: 0.0026\n",
      "Epoch [224/400], Train Loss: 6.9080, Val Loss: 6.9082 \n",
      "\n"
     ]
    },
    {
     "name": "stderr",
     "output_type": "stream",
     "text": [
      "Training: 100%|██████████| 50/50 [00:07<00:00,  6.75it/s, loss=6.91]\n"
     ]
    },
    {
     "name": "stdout",
     "output_type": "stream",
     "text": [
      "Validation Accuracy: 0.0013\n",
      "Epoch [225/400], Train Loss: 6.9080, Val Loss: 6.9080 \n",
      "\n"
     ]
    },
    {
     "name": "stderr",
     "output_type": "stream",
     "text": [
      "Training: 100%|██████████| 50/50 [00:07<00:00,  6.76it/s, loss=6.91]\n"
     ]
    },
    {
     "name": "stdout",
     "output_type": "stream",
     "text": [
      "Validation Accuracy: 0.0013\n",
      "Epoch [226/400], Train Loss: 6.9081, Val Loss: 6.9082 \n",
      "\n"
     ]
    },
    {
     "name": "stderr",
     "output_type": "stream",
     "text": [
      "Training: 100%|██████████| 50/50 [00:07<00:00,  6.77it/s, loss=6.91]\n"
     ]
    },
    {
     "name": "stdout",
     "output_type": "stream",
     "text": [
      "Validation Accuracy: 0.0013\n",
      "Epoch [227/400], Train Loss: 6.9080, Val Loss: 6.9083 \n",
      "\n"
     ]
    },
    {
     "name": "stderr",
     "output_type": "stream",
     "text": [
      "Training: 100%|██████████| 50/50 [00:07<00:00,  6.78it/s, loss=6.91]\n"
     ]
    },
    {
     "name": "stdout",
     "output_type": "stream",
     "text": [
      "Validation Accuracy: 0.0000\n",
      "Epoch [228/400], Train Loss: 6.9080, Val Loss: 6.9083 \n",
      "\n"
     ]
    },
    {
     "name": "stderr",
     "output_type": "stream",
     "text": [
      "Training: 100%|██████████| 50/50 [00:07<00:00,  6.81it/s, loss=6.91]\n"
     ]
    },
    {
     "name": "stdout",
     "output_type": "stream",
     "text": [
      "Validation Accuracy: 0.0013\n",
      "Epoch [229/400], Train Loss: 6.9080, Val Loss: 6.9082 \n",
      "\n"
     ]
    },
    {
     "name": "stderr",
     "output_type": "stream",
     "text": [
      "Training: 100%|██████████| 50/50 [00:07<00:00,  6.72it/s, loss=6.91]\n"
     ]
    },
    {
     "name": "stdout",
     "output_type": "stream",
     "text": [
      "Validation Accuracy: 0.0000\n",
      "Epoch [230/400], Train Loss: 6.9081, Val Loss: 6.9084 \n",
      "\n"
     ]
    },
    {
     "name": "stderr",
     "output_type": "stream",
     "text": [
      "Training: 100%|██████████| 50/50 [00:07<00:00,  6.80it/s, loss=6.91]\n"
     ]
    },
    {
     "name": "stdout",
     "output_type": "stream",
     "text": [
      "Validation Accuracy: 0.0000\n",
      "Epoch [231/400], Train Loss: 6.9081, Val Loss: 6.9082 \n",
      "\n"
     ]
    },
    {
     "name": "stderr",
     "output_type": "stream",
     "text": [
      "Training: 100%|██████████| 50/50 [00:07<00:00,  6.75it/s, loss=6.91]\n"
     ]
    },
    {
     "name": "stdout",
     "output_type": "stream",
     "text": [
      "Validation Accuracy: 0.0026\n",
      "Epoch [232/400], Train Loss: 6.9080, Val Loss: 6.9080 \n",
      "\n"
     ]
    },
    {
     "name": "stderr",
     "output_type": "stream",
     "text": [
      "Training: 100%|██████████| 50/50 [00:07<00:00,  6.84it/s, loss=6.91]\n"
     ]
    },
    {
     "name": "stdout",
     "output_type": "stream",
     "text": [
      "Validation Accuracy: 0.0000\n",
      "Epoch [233/400], Train Loss: 6.9079, Val Loss: 6.9083 \n",
      "\n"
     ]
    },
    {
     "name": "stderr",
     "output_type": "stream",
     "text": [
      "Training: 100%|██████████| 50/50 [00:07<00:00,  6.86it/s, loss=6.91]\n"
     ]
    },
    {
     "name": "stdout",
     "output_type": "stream",
     "text": [
      "Validation Accuracy: 0.0000\n",
      "Epoch [234/400], Train Loss: 6.9081, Val Loss: 6.9082 \n",
      "\n"
     ]
    },
    {
     "name": "stderr",
     "output_type": "stream",
     "text": [
      "Training: 100%|██████████| 50/50 [00:07<00:00,  6.85it/s, loss=6.91]\n"
     ]
    },
    {
     "name": "stdout",
     "output_type": "stream",
     "text": [
      "Validation Accuracy: 0.0013\n",
      "Epoch [235/400], Train Loss: 6.9080, Val Loss: 6.9080 \n",
      "\n"
     ]
    },
    {
     "name": "stderr",
     "output_type": "stream",
     "text": [
      "Training: 100%|██████████| 50/50 [00:07<00:00,  6.90it/s, loss=6.91]\n"
     ]
    },
    {
     "name": "stdout",
     "output_type": "stream",
     "text": [
      "Validation Accuracy: 0.0013\n",
      "Epoch [236/400], Train Loss: 6.9080, Val Loss: 6.9082 \n",
      "\n"
     ]
    },
    {
     "name": "stderr",
     "output_type": "stream",
     "text": [
      "Training: 100%|██████████| 50/50 [00:07<00:00,  6.90it/s, loss=6.91]\n"
     ]
    },
    {
     "name": "stdout",
     "output_type": "stream",
     "text": [
      "Validation Accuracy: 0.0013\n",
      "Epoch [237/400], Train Loss: 6.9079, Val Loss: 6.9081 \n",
      "\n"
     ]
    },
    {
     "name": "stderr",
     "output_type": "stream",
     "text": [
      "Training: 100%|██████████| 50/50 [00:07<00:00,  6.92it/s, loss=6.91]\n"
     ]
    },
    {
     "name": "stdout",
     "output_type": "stream",
     "text": [
      "Validation Accuracy: 0.0013\n",
      "Epoch [238/400], Train Loss: 6.9079, Val Loss: 6.9081 \n",
      "\n"
     ]
    },
    {
     "name": "stderr",
     "output_type": "stream",
     "text": [
      "Training: 100%|██████████| 50/50 [00:07<00:00,  6.96it/s, loss=6.91]\n"
     ]
    },
    {
     "name": "stdout",
     "output_type": "stream",
     "text": [
      "Validation Accuracy: 0.0013\n",
      "Epoch [239/400], Train Loss: 6.9079, Val Loss: 6.9082 \n",
      "\n"
     ]
    },
    {
     "name": "stderr",
     "output_type": "stream",
     "text": [
      "Training: 100%|██████████| 50/50 [00:07<00:00,  6.89it/s, loss=6.91]\n"
     ]
    },
    {
     "name": "stdout",
     "output_type": "stream",
     "text": [
      "Validation Accuracy: 0.0000\n",
      "Epoch [240/400], Train Loss: 6.9079, Val Loss: 6.9083 \n",
      "\n"
     ]
    },
    {
     "name": "stderr",
     "output_type": "stream",
     "text": [
      "Training: 100%|██████████| 50/50 [00:07<00:00,  6.90it/s, loss=6.91]\n"
     ]
    },
    {
     "name": "stdout",
     "output_type": "stream",
     "text": [
      "Validation Accuracy: 0.0013\n",
      "Epoch [241/400], Train Loss: 6.9081, Val Loss: 6.9084 \n",
      "\n"
     ]
    },
    {
     "name": "stderr",
     "output_type": "stream",
     "text": [
      "Training: 100%|██████████| 50/50 [00:07<00:00,  6.85it/s, loss=6.91]\n"
     ]
    },
    {
     "name": "stdout",
     "output_type": "stream",
     "text": [
      "Validation Accuracy: 0.0013\n",
      "Epoch [242/400], Train Loss: 6.9080, Val Loss: 6.9083 \n",
      "\n"
     ]
    },
    {
     "name": "stderr",
     "output_type": "stream",
     "text": [
      "Training: 100%|██████████| 50/50 [00:07<00:00,  6.86it/s, loss=6.91]\n"
     ]
    },
    {
     "name": "stdout",
     "output_type": "stream",
     "text": [
      "Validation Accuracy: 0.0000\n",
      "Epoch [243/400], Train Loss: 6.9079, Val Loss: 6.9082 \n",
      "\n"
     ]
    },
    {
     "name": "stderr",
     "output_type": "stream",
     "text": [
      "Training: 100%|██████████| 50/50 [00:07<00:00,  6.94it/s, loss=6.91]\n"
     ]
    },
    {
     "name": "stdout",
     "output_type": "stream",
     "text": [
      "Validation Accuracy: 0.0000\n",
      "Epoch [244/400], Train Loss: 6.9080, Val Loss: 6.9081 \n",
      "\n"
     ]
    },
    {
     "name": "stderr",
     "output_type": "stream",
     "text": [
      "Training: 100%|██████████| 50/50 [00:07<00:00,  6.91it/s, loss=6.91]\n"
     ]
    },
    {
     "name": "stdout",
     "output_type": "stream",
     "text": [
      "Validation Accuracy: 0.0026\n",
      "Epoch [245/400], Train Loss: 6.9082, Val Loss: 6.9080 \n",
      "\n"
     ]
    },
    {
     "name": "stderr",
     "output_type": "stream",
     "text": [
      "Training: 100%|██████████| 50/50 [00:07<00:00,  6.87it/s, loss=6.91]\n"
     ]
    },
    {
     "name": "stdout",
     "output_type": "stream",
     "text": [
      "Validation Accuracy: 0.0013\n",
      "Epoch [246/400], Train Loss: 6.9080, Val Loss: 6.9082 \n",
      "\n"
     ]
    },
    {
     "name": "stderr",
     "output_type": "stream",
     "text": [
      "Training: 100%|██████████| 50/50 [00:07<00:00,  6.90it/s, loss=6.91]\n"
     ]
    },
    {
     "name": "stdout",
     "output_type": "stream",
     "text": [
      "Validation Accuracy: 0.0013\n",
      "Epoch [247/400], Train Loss: 6.9079, Val Loss: 6.9083 \n",
      "\n"
     ]
    },
    {
     "name": "stderr",
     "output_type": "stream",
     "text": [
      "Training: 100%|██████████| 50/50 [00:07<00:00,  6.89it/s, loss=6.91]\n"
     ]
    },
    {
     "name": "stdout",
     "output_type": "stream",
     "text": [
      "Validation Accuracy: 0.0026\n",
      "Epoch [248/400], Train Loss: 6.9080, Val Loss: 6.9083 \n",
      "\n"
     ]
    },
    {
     "name": "stderr",
     "output_type": "stream",
     "text": [
      "Training: 100%|██████████| 50/50 [00:07<00:00,  6.98it/s, loss=6.91]\n"
     ]
    },
    {
     "name": "stdout",
     "output_type": "stream",
     "text": [
      "Validation Accuracy: 0.0026\n",
      "Epoch [249/400], Train Loss: 6.9081, Val Loss: 6.9081 \n",
      "\n"
     ]
    },
    {
     "name": "stderr",
     "output_type": "stream",
     "text": [
      "Training: 100%|██████████| 50/50 [00:07<00:00,  6.88it/s, loss=6.91]\n"
     ]
    },
    {
     "name": "stdout",
     "output_type": "stream",
     "text": [
      "Validation Accuracy: 0.0013\n",
      "Epoch [250/400], Train Loss: 6.9080, Val Loss: 6.9082 \n",
      "\n"
     ]
    },
    {
     "name": "stderr",
     "output_type": "stream",
     "text": [
      "Training: 100%|██████████| 50/50 [00:07<00:00,  6.88it/s, loss=6.91]\n"
     ]
    },
    {
     "name": "stdout",
     "output_type": "stream",
     "text": [
      "Validation Accuracy: 0.0000\n",
      "Epoch [251/400], Train Loss: 6.9079, Val Loss: 6.9078 \n",
      "\n"
     ]
    },
    {
     "name": "stderr",
     "output_type": "stream",
     "text": [
      "Training: 100%|██████████| 50/50 [00:07<00:00,  6.82it/s, loss=6.91]\n"
     ]
    },
    {
     "name": "stdout",
     "output_type": "stream",
     "text": [
      "Validation Accuracy: 0.0000\n",
      "Epoch [252/400], Train Loss: 6.9080, Val Loss: 6.9083 \n",
      "\n"
     ]
    },
    {
     "name": "stderr",
     "output_type": "stream",
     "text": [
      "Training: 100%|██████████| 50/50 [00:07<00:00,  6.94it/s, loss=6.91]\n"
     ]
    },
    {
     "name": "stdout",
     "output_type": "stream",
     "text": [
      "Validation Accuracy: 0.0000\n",
      "Epoch [253/400], Train Loss: 6.9081, Val Loss: 6.9083 \n",
      "\n"
     ]
    },
    {
     "name": "stderr",
     "output_type": "stream",
     "text": [
      "Training: 100%|██████████| 50/50 [00:07<00:00,  6.98it/s, loss=6.91]\n"
     ]
    },
    {
     "name": "stdout",
     "output_type": "stream",
     "text": [
      "Validation Accuracy: 0.0000\n",
      "Epoch [254/400], Train Loss: 6.9080, Val Loss: 6.9081 \n",
      "\n"
     ]
    },
    {
     "name": "stderr",
     "output_type": "stream",
     "text": [
      "Training: 100%|██████████| 50/50 [00:07<00:00,  6.89it/s, loss=6.91]\n"
     ]
    },
    {
     "name": "stdout",
     "output_type": "stream",
     "text": [
      "Validation Accuracy: 0.0013\n",
      "Epoch [255/400], Train Loss: 6.9080, Val Loss: 6.9084 \n",
      "\n"
     ]
    },
    {
     "name": "stderr",
     "output_type": "stream",
     "text": [
      "Training: 100%|██████████| 50/50 [00:07<00:00,  6.86it/s, loss=6.91]\n"
     ]
    },
    {
     "name": "stdout",
     "output_type": "stream",
     "text": [
      "Validation Accuracy: 0.0000\n",
      "Epoch [256/400], Train Loss: 6.9080, Val Loss: 6.9081 \n",
      "\n"
     ]
    },
    {
     "name": "stderr",
     "output_type": "stream",
     "text": [
      "Training: 100%|██████████| 50/50 [00:07<00:00,  6.91it/s, loss=6.91]\n"
     ]
    },
    {
     "name": "stdout",
     "output_type": "stream",
     "text": [
      "Validation Accuracy: 0.0013\n",
      "Epoch [257/400], Train Loss: 6.9080, Val Loss: 6.9082 \n",
      "\n"
     ]
    },
    {
     "name": "stderr",
     "output_type": "stream",
     "text": [
      "Training: 100%|██████████| 50/50 [00:07<00:00,  6.94it/s, loss=6.91]\n"
     ]
    },
    {
     "name": "stdout",
     "output_type": "stream",
     "text": [
      "Validation Accuracy: 0.0000\n",
      "Epoch [258/400], Train Loss: 6.9081, Val Loss: 6.9083 \n",
      "\n"
     ]
    },
    {
     "name": "stderr",
     "output_type": "stream",
     "text": [
      "Training: 100%|██████████| 50/50 [00:07<00:00,  6.94it/s, loss=6.91]\n"
     ]
    },
    {
     "name": "stdout",
     "output_type": "stream",
     "text": [
      "Validation Accuracy: 0.0013\n",
      "Epoch [259/400], Train Loss: 6.9080, Val Loss: 6.9082 \n",
      "\n"
     ]
    },
    {
     "name": "stderr",
     "output_type": "stream",
     "text": [
      "Training: 100%|██████████| 50/50 [00:07<00:00,  6.93it/s, loss=6.91]\n"
     ]
    },
    {
     "name": "stdout",
     "output_type": "stream",
     "text": [
      "Validation Accuracy: 0.0000\n",
      "Epoch [260/400], Train Loss: 6.9080, Val Loss: 6.9081 \n",
      "\n"
     ]
    },
    {
     "name": "stderr",
     "output_type": "stream",
     "text": [
      "Training: 100%|██████████| 50/50 [00:07<00:00,  6.95it/s, loss=6.91]\n"
     ]
    },
    {
     "name": "stdout",
     "output_type": "stream",
     "text": [
      "Validation Accuracy: 0.0013\n",
      "Epoch [261/400], Train Loss: 6.9080, Val Loss: 6.9081 \n",
      "\n"
     ]
    },
    {
     "name": "stderr",
     "output_type": "stream",
     "text": [
      "Training: 100%|██████████| 50/50 [00:07<00:00,  6.92it/s, loss=6.91]\n"
     ]
    },
    {
     "name": "stdout",
     "output_type": "stream",
     "text": [
      "Validation Accuracy: 0.0013\n",
      "Epoch [262/400], Train Loss: 6.9080, Val Loss: 6.9081 \n",
      "\n"
     ]
    },
    {
     "name": "stderr",
     "output_type": "stream",
     "text": [
      "Training: 100%|██████████| 50/50 [00:07<00:00,  6.92it/s, loss=6.91]\n"
     ]
    },
    {
     "name": "stdout",
     "output_type": "stream",
     "text": [
      "Validation Accuracy: 0.0000\n",
      "Epoch [263/400], Train Loss: 6.9080, Val Loss: 6.9083 \n",
      "\n"
     ]
    },
    {
     "name": "stderr",
     "output_type": "stream",
     "text": [
      "Training: 100%|██████████| 50/50 [00:07<00:00,  6.90it/s, loss=6.91]\n"
     ]
    },
    {
     "name": "stdout",
     "output_type": "stream",
     "text": [
      "Validation Accuracy: 0.0000\n",
      "Epoch [264/400], Train Loss: 6.9080, Val Loss: 6.9081 \n",
      "\n"
     ]
    },
    {
     "name": "stderr",
     "output_type": "stream",
     "text": [
      "Training: 100%|██████████| 50/50 [00:07<00:00,  6.87it/s, loss=6.91]\n"
     ]
    },
    {
     "name": "stdout",
     "output_type": "stream",
     "text": [
      "Validation Accuracy: 0.0026\n",
      "Epoch [265/400], Train Loss: 6.9080, Val Loss: 6.9081 \n",
      "\n"
     ]
    },
    {
     "name": "stderr",
     "output_type": "stream",
     "text": [
      "Training: 100%|██████████| 50/50 [00:07<00:00,  6.92it/s, loss=6.91]\n"
     ]
    },
    {
     "name": "stdout",
     "output_type": "stream",
     "text": [
      "Validation Accuracy: 0.0013\n",
      "Epoch [266/400], Train Loss: 6.9081, Val Loss: 6.9082 \n",
      "\n"
     ]
    },
    {
     "name": "stderr",
     "output_type": "stream",
     "text": [
      "Training: 100%|██████████| 50/50 [00:07<00:00,  6.96it/s, loss=6.91]\n"
     ]
    },
    {
     "name": "stdout",
     "output_type": "stream",
     "text": [
      "Validation Accuracy: 0.0000\n",
      "Epoch [267/400], Train Loss: 6.9079, Val Loss: 6.9082 \n",
      "\n"
     ]
    },
    {
     "name": "stderr",
     "output_type": "stream",
     "text": [
      "Training: 100%|██████████| 50/50 [00:07<00:00,  6.95it/s, loss=6.91]\n"
     ]
    },
    {
     "name": "stdout",
     "output_type": "stream",
     "text": [
      "Validation Accuracy: 0.0013\n",
      "Epoch [268/400], Train Loss: 6.9079, Val Loss: 6.9082 \n",
      "\n"
     ]
    },
    {
     "name": "stderr",
     "output_type": "stream",
     "text": [
      "Training: 100%|██████████| 50/50 [00:07<00:00,  6.94it/s, loss=6.91]\n"
     ]
    },
    {
     "name": "stdout",
     "output_type": "stream",
     "text": [
      "Validation Accuracy: 0.0000\n",
      "Epoch [269/400], Train Loss: 6.9079, Val Loss: 6.9082 \n",
      "\n"
     ]
    },
    {
     "name": "stderr",
     "output_type": "stream",
     "text": [
      "Training: 100%|██████████| 50/50 [00:07<00:00,  6.98it/s, loss=6.91]\n"
     ]
    },
    {
     "name": "stdout",
     "output_type": "stream",
     "text": [
      "Validation Accuracy: 0.0000\n",
      "Epoch [270/400], Train Loss: 6.9079, Val Loss: 6.9084 \n",
      "\n"
     ]
    },
    {
     "name": "stderr",
     "output_type": "stream",
     "text": [
      "Training: 100%|██████████| 50/50 [00:07<00:00,  6.90it/s, loss=6.91]\n"
     ]
    },
    {
     "name": "stdout",
     "output_type": "stream",
     "text": [
      "Validation Accuracy: 0.0013\n",
      "Epoch [271/400], Train Loss: 6.9081, Val Loss: 6.9083 \n",
      "\n"
     ]
    },
    {
     "name": "stderr",
     "output_type": "stream",
     "text": [
      "Training: 100%|██████████| 50/50 [00:07<00:00,  6.97it/s, loss=6.91]\n"
     ]
    },
    {
     "name": "stdout",
     "output_type": "stream",
     "text": [
      "Validation Accuracy: 0.0000\n",
      "Epoch [272/400], Train Loss: 6.9079, Val Loss: 6.9080 \n",
      "\n"
     ]
    },
    {
     "name": "stderr",
     "output_type": "stream",
     "text": [
      "Training: 100%|██████████| 50/50 [00:07<00:00,  6.97it/s, loss=6.91]\n"
     ]
    },
    {
     "name": "stdout",
     "output_type": "stream",
     "text": [
      "Validation Accuracy: 0.0000\n",
      "Epoch [273/400], Train Loss: 6.9080, Val Loss: 6.9082 \n",
      "\n"
     ]
    },
    {
     "name": "stderr",
     "output_type": "stream",
     "text": [
      "Training: 100%|██████████| 50/50 [00:07<00:00,  6.96it/s, loss=6.91]\n"
     ]
    },
    {
     "name": "stdout",
     "output_type": "stream",
     "text": [
      "Validation Accuracy: 0.0026\n",
      "Epoch [274/400], Train Loss: 6.9079, Val Loss: 6.9083 \n",
      "\n"
     ]
    },
    {
     "name": "stderr",
     "output_type": "stream",
     "text": [
      "Training: 100%|██████████| 50/50 [00:07<00:00,  6.99it/s, loss=6.91]\n"
     ]
    },
    {
     "name": "stdout",
     "output_type": "stream",
     "text": [
      "Validation Accuracy: 0.0013\n",
      "Epoch [275/400], Train Loss: 6.9081, Val Loss: 6.9081 \n",
      "\n"
     ]
    },
    {
     "name": "stderr",
     "output_type": "stream",
     "text": [
      "Training: 100%|██████████| 50/50 [00:07<00:00,  6.97it/s, loss=6.91]\n"
     ]
    },
    {
     "name": "stdout",
     "output_type": "stream",
     "text": [
      "Validation Accuracy: 0.0026\n",
      "Epoch [276/400], Train Loss: 6.9080, Val Loss: 6.9081 \n",
      "\n"
     ]
    },
    {
     "name": "stderr",
     "output_type": "stream",
     "text": [
      "Training: 100%|██████████| 50/50 [00:07<00:00,  6.96it/s, loss=6.91]\n"
     ]
    },
    {
     "name": "stdout",
     "output_type": "stream",
     "text": [
      "Validation Accuracy: 0.0026\n",
      "Epoch [277/400], Train Loss: 6.9079, Val Loss: 6.9083 \n",
      "\n"
     ]
    },
    {
     "name": "stderr",
     "output_type": "stream",
     "text": [
      "Training: 100%|██████████| 50/50 [00:07<00:00,  6.92it/s, loss=6.91]\n"
     ]
    },
    {
     "name": "stdout",
     "output_type": "stream",
     "text": [
      "Validation Accuracy: 0.0026\n",
      "Epoch [278/400], Train Loss: 6.9080, Val Loss: 6.9083 \n",
      "\n"
     ]
    },
    {
     "name": "stderr",
     "output_type": "stream",
     "text": [
      "Training: 100%|██████████| 50/50 [00:07<00:00,  6.99it/s, loss=6.91]\n"
     ]
    },
    {
     "name": "stdout",
     "output_type": "stream",
     "text": [
      "Validation Accuracy: 0.0000\n",
      "Epoch [279/400], Train Loss: 6.9080, Val Loss: 6.9083 \n",
      "\n"
     ]
    },
    {
     "name": "stderr",
     "output_type": "stream",
     "text": [
      "Training: 100%|██████████| 50/50 [00:07<00:00,  7.01it/s, loss=6.91]\n"
     ]
    },
    {
     "name": "stdout",
     "output_type": "stream",
     "text": [
      "Validation Accuracy: 0.0000\n",
      "Epoch [280/400], Train Loss: 6.9080, Val Loss: 6.9084 \n",
      "\n"
     ]
    },
    {
     "name": "stderr",
     "output_type": "stream",
     "text": [
      "Training: 100%|██████████| 50/50 [00:07<00:00,  6.98it/s, loss=6.91]\n"
     ]
    },
    {
     "name": "stdout",
     "output_type": "stream",
     "text": [
      "Validation Accuracy: 0.0013\n",
      "Epoch [281/400], Train Loss: 6.9080, Val Loss: 6.9081 \n",
      "\n"
     ]
    },
    {
     "name": "stderr",
     "output_type": "stream",
     "text": [
      "Training: 100%|██████████| 50/50 [00:07<00:00,  6.88it/s, loss=6.91]\n"
     ]
    },
    {
     "name": "stdout",
     "output_type": "stream",
     "text": [
      "Validation Accuracy: 0.0000\n",
      "Epoch [282/400], Train Loss: 6.9080, Val Loss: 6.9082 \n",
      "\n"
     ]
    },
    {
     "name": "stderr",
     "output_type": "stream",
     "text": [
      "Training: 100%|██████████| 50/50 [00:07<00:00,  6.89it/s, loss=6.91]\n"
     ]
    },
    {
     "name": "stdout",
     "output_type": "stream",
     "text": [
      "Validation Accuracy: 0.0051\n",
      "Epoch [283/400], Train Loss: 6.9080, Val Loss: 6.9081 \n",
      "\n"
     ]
    },
    {
     "name": "stderr",
     "output_type": "stream",
     "text": [
      "Training: 100%|██████████| 50/50 [00:07<00:00,  7.01it/s, loss=6.91]\n"
     ]
    },
    {
     "name": "stdout",
     "output_type": "stream",
     "text": [
      "Validation Accuracy: 0.0026\n",
      "Epoch [284/400], Train Loss: 6.9079, Val Loss: 6.9079 \n",
      "\n"
     ]
    },
    {
     "name": "stderr",
     "output_type": "stream",
     "text": [
      "Training: 100%|██████████| 50/50 [00:07<00:00,  6.97it/s, loss=6.91]\n"
     ]
    },
    {
     "name": "stdout",
     "output_type": "stream",
     "text": [
      "Validation Accuracy: 0.0026\n",
      "Epoch [285/400], Train Loss: 6.9079, Val Loss: 6.9083 \n",
      "\n"
     ]
    },
    {
     "name": "stderr",
     "output_type": "stream",
     "text": [
      "Training: 100%|██████████| 50/50 [00:07<00:00,  6.95it/s, loss=6.91]\n"
     ]
    },
    {
     "name": "stdout",
     "output_type": "stream",
     "text": [
      "Validation Accuracy: 0.0000\n",
      "Epoch [286/400], Train Loss: 6.9079, Val Loss: 6.9083 \n",
      "\n"
     ]
    },
    {
     "name": "stderr",
     "output_type": "stream",
     "text": [
      "Training: 100%|██████████| 50/50 [00:07<00:00,  6.94it/s, loss=6.91]\n"
     ]
    },
    {
     "name": "stdout",
     "output_type": "stream",
     "text": [
      "Validation Accuracy: 0.0000\n",
      "Epoch [287/400], Train Loss: 6.9079, Val Loss: 6.9081 \n",
      "\n"
     ]
    },
    {
     "name": "stderr",
     "output_type": "stream",
     "text": [
      "Training: 100%|██████████| 50/50 [00:07<00:00,  6.94it/s, loss=6.91]\n"
     ]
    },
    {
     "name": "stdout",
     "output_type": "stream",
     "text": [
      "Validation Accuracy: 0.0026\n",
      "Epoch [288/400], Train Loss: 6.9080, Val Loss: 6.9081 \n",
      "\n"
     ]
    },
    {
     "name": "stderr",
     "output_type": "stream",
     "text": [
      "Training: 100%|██████████| 50/50 [00:07<00:00,  6.90it/s, loss=6.91]\n"
     ]
    },
    {
     "name": "stdout",
     "output_type": "stream",
     "text": [
      "Validation Accuracy: 0.0013\n",
      "Epoch [289/400], Train Loss: 6.9080, Val Loss: 6.9081 \n",
      "\n"
     ]
    },
    {
     "name": "stderr",
     "output_type": "stream",
     "text": [
      "Training: 100%|██████████| 50/50 [00:07<00:00,  6.95it/s, loss=6.91]\n"
     ]
    },
    {
     "name": "stdout",
     "output_type": "stream",
     "text": [
      "Validation Accuracy: 0.0013\n",
      "Epoch [290/400], Train Loss: 6.9080, Val Loss: 6.9081 \n",
      "\n"
     ]
    },
    {
     "name": "stderr",
     "output_type": "stream",
     "text": [
      "Training: 100%|██████████| 50/50 [00:07<00:00,  6.96it/s, loss=6.91]\n"
     ]
    },
    {
     "name": "stdout",
     "output_type": "stream",
     "text": [
      "Validation Accuracy: 0.0051\n",
      "Epoch [291/400], Train Loss: 6.9080, Val Loss: 6.9080 \n",
      "\n"
     ]
    },
    {
     "name": "stderr",
     "output_type": "stream",
     "text": [
      "Training: 100%|██████████| 50/50 [00:07<00:00,  6.96it/s, loss=6.91]\n"
     ]
    },
    {
     "name": "stdout",
     "output_type": "stream",
     "text": [
      "Validation Accuracy: 0.0026\n",
      "Epoch [292/400], Train Loss: 6.9079, Val Loss: 6.9082 \n",
      "\n"
     ]
    },
    {
     "name": "stderr",
     "output_type": "stream",
     "text": [
      "Training: 100%|██████████| 50/50 [00:07<00:00,  6.88it/s, loss=6.91]\n"
     ]
    },
    {
     "name": "stdout",
     "output_type": "stream",
     "text": [
      "Validation Accuracy: 0.0000\n",
      "Epoch [293/400], Train Loss: 6.9079, Val Loss: 6.9081 \n",
      "\n"
     ]
    },
    {
     "name": "stderr",
     "output_type": "stream",
     "text": [
      "Training: 100%|██████████| 50/50 [00:07<00:00,  6.89it/s, loss=6.91]\n"
     ]
    },
    {
     "name": "stdout",
     "output_type": "stream",
     "text": [
      "Validation Accuracy: 0.0000\n",
      "Epoch [294/400], Train Loss: 6.9079, Val Loss: 6.9083 \n",
      "\n"
     ]
    },
    {
     "name": "stderr",
     "output_type": "stream",
     "text": [
      "Training: 100%|██████████| 50/50 [00:07<00:00,  6.94it/s, loss=6.91]\n"
     ]
    },
    {
     "name": "stdout",
     "output_type": "stream",
     "text": [
      "Validation Accuracy: 0.0026\n",
      "Epoch [295/400], Train Loss: 6.9079, Val Loss: 6.9082 \n",
      "\n"
     ]
    },
    {
     "name": "stderr",
     "output_type": "stream",
     "text": [
      "Training: 100%|██████████| 50/50 [00:07<00:00,  6.97it/s, loss=6.91]\n"
     ]
    },
    {
     "name": "stdout",
     "output_type": "stream",
     "text": [
      "Validation Accuracy: 0.0026\n",
      "Epoch [296/400], Train Loss: 6.9079, Val Loss: 6.9082 \n",
      "\n"
     ]
    },
    {
     "name": "stderr",
     "output_type": "stream",
     "text": [
      "Training: 100%|██████████| 50/50 [00:07<00:00,  6.97it/s, loss=6.91]\n"
     ]
    },
    {
     "name": "stdout",
     "output_type": "stream",
     "text": [
      "Validation Accuracy: 0.0013\n",
      "Epoch [297/400], Train Loss: 6.9079, Val Loss: 6.9080 \n",
      "\n"
     ]
    },
    {
     "name": "stderr",
     "output_type": "stream",
     "text": [
      "Training: 100%|██████████| 50/50 [00:07<00:00,  6.94it/s, loss=6.91]\n"
     ]
    },
    {
     "name": "stdout",
     "output_type": "stream",
     "text": [
      "Validation Accuracy: 0.0013\n",
      "Epoch [298/400], Train Loss: 6.9079, Val Loss: 6.9081 \n",
      "\n"
     ]
    },
    {
     "name": "stderr",
     "output_type": "stream",
     "text": [
      "Training: 100%|██████████| 50/50 [00:07<00:00,  6.82it/s, loss=6.91]\n"
     ]
    },
    {
     "name": "stdout",
     "output_type": "stream",
     "text": [
      "Validation Accuracy: 0.0026\n",
      "Epoch [299/400], Train Loss: 6.9080, Val Loss: 6.9082 \n",
      "\n"
     ]
    },
    {
     "name": "stderr",
     "output_type": "stream",
     "text": [
      "Training: 100%|██████████| 50/50 [00:07<00:00,  6.86it/s, loss=6.91]\n"
     ]
    },
    {
     "name": "stdout",
     "output_type": "stream",
     "text": [
      "Validation Accuracy: 0.0026\n",
      "Epoch [300/400], Train Loss: 6.9079, Val Loss: 6.9082 \n",
      "\n"
     ]
    },
    {
     "name": "stderr",
     "output_type": "stream",
     "text": [
      "Training: 100%|██████████| 50/50 [00:07<00:00,  6.94it/s, loss=6.91]\n"
     ]
    },
    {
     "name": "stdout",
     "output_type": "stream",
     "text": [
      "Validation Accuracy: 0.0026\n",
      "Epoch [301/400], Train Loss: 6.9079, Val Loss: 6.9081 \n",
      "\n"
     ]
    },
    {
     "name": "stderr",
     "output_type": "stream",
     "text": [
      "Training: 100%|██████████| 50/50 [00:07<00:00,  6.89it/s, loss=6.91]\n"
     ]
    },
    {
     "name": "stdout",
     "output_type": "stream",
     "text": [
      "Validation Accuracy: 0.0000\n",
      "Epoch [302/400], Train Loss: 6.9078, Val Loss: 6.9082 \n",
      "\n"
     ]
    },
    {
     "name": "stderr",
     "output_type": "stream",
     "text": [
      "Training: 100%|██████████| 50/50 [00:07<00:00,  7.00it/s, loss=6.91]\n"
     ]
    },
    {
     "name": "stdout",
     "output_type": "stream",
     "text": [
      "Validation Accuracy: 0.0000\n",
      "Epoch [303/400], Train Loss: 6.9079, Val Loss: 6.9082 \n",
      "\n"
     ]
    },
    {
     "name": "stderr",
     "output_type": "stream",
     "text": [
      "Training: 100%|██████████| 50/50 [00:07<00:00,  6.92it/s, loss=6.91]\n"
     ]
    },
    {
     "name": "stdout",
     "output_type": "stream",
     "text": [
      "Validation Accuracy: 0.0013\n",
      "Epoch [304/400], Train Loss: 6.9079, Val Loss: 6.9081 \n",
      "\n"
     ]
    },
    {
     "name": "stderr",
     "output_type": "stream",
     "text": [
      "Training: 100%|██████████| 50/50 [00:07<00:00,  6.97it/s, loss=6.91]\n"
     ]
    },
    {
     "name": "stdout",
     "output_type": "stream",
     "text": [
      "Validation Accuracy: 0.0000\n",
      "Epoch [305/400], Train Loss: 6.9079, Val Loss: 6.9081 \n",
      "\n"
     ]
    },
    {
     "name": "stderr",
     "output_type": "stream",
     "text": [
      "Training: 100%|██████████| 50/50 [00:07<00:00,  6.92it/s, loss=6.91]\n"
     ]
    },
    {
     "name": "stdout",
     "output_type": "stream",
     "text": [
      "Validation Accuracy: 0.0000\n",
      "Epoch [306/400], Train Loss: 6.9079, Val Loss: 6.9082 \n",
      "\n"
     ]
    },
    {
     "name": "stderr",
     "output_type": "stream",
     "text": [
      "Training: 100%|██████████| 50/50 [00:07<00:00,  6.83it/s, loss=6.91]\n"
     ]
    },
    {
     "name": "stdout",
     "output_type": "stream",
     "text": [
      "Validation Accuracy: 0.0000\n",
      "Epoch [307/400], Train Loss: 6.9079, Val Loss: 6.9082 \n",
      "\n"
     ]
    },
    {
     "name": "stderr",
     "output_type": "stream",
     "text": [
      "Training: 100%|██████████| 50/50 [00:07<00:00,  6.88it/s, loss=6.91]\n"
     ]
    },
    {
     "name": "stdout",
     "output_type": "stream",
     "text": [
      "Validation Accuracy: 0.0013\n",
      "Epoch [308/400], Train Loss: 6.9079, Val Loss: 6.9082 \n",
      "\n"
     ]
    },
    {
     "name": "stderr",
     "output_type": "stream",
     "text": [
      "Training: 100%|██████████| 50/50 [00:07<00:00,  6.92it/s, loss=6.91]\n"
     ]
    },
    {
     "name": "stdout",
     "output_type": "stream",
     "text": [
      "Validation Accuracy: 0.0000\n",
      "Epoch [309/400], Train Loss: 6.9079, Val Loss: 6.9082 \n",
      "\n"
     ]
    },
    {
     "name": "stderr",
     "output_type": "stream",
     "text": [
      "Training: 100%|██████████| 50/50 [00:07<00:00,  6.95it/s, loss=6.91]\n"
     ]
    },
    {
     "name": "stdout",
     "output_type": "stream",
     "text": [
      "Validation Accuracy: 0.0026\n",
      "Epoch [310/400], Train Loss: 6.9079, Val Loss: 6.9081 \n",
      "\n"
     ]
    },
    {
     "name": "stderr",
     "output_type": "stream",
     "text": [
      "Training: 100%|██████████| 50/50 [00:07<00:00,  6.94it/s, loss=6.91]\n"
     ]
    },
    {
     "name": "stdout",
     "output_type": "stream",
     "text": [
      "Validation Accuracy: 0.0000\n",
      "Epoch [311/400], Train Loss: 6.9079, Val Loss: 6.9081 \n",
      "\n"
     ]
    },
    {
     "name": "stderr",
     "output_type": "stream",
     "text": [
      "Training: 100%|██████████| 50/50 [00:07<00:00,  6.95it/s, loss=6.91]\n"
     ]
    },
    {
     "name": "stdout",
     "output_type": "stream",
     "text": [
      "Validation Accuracy: 0.0013\n",
      "Epoch [312/400], Train Loss: 6.9078, Val Loss: 6.9080 \n",
      "\n"
     ]
    },
    {
     "name": "stderr",
     "output_type": "stream",
     "text": [
      "Training: 100%|██████████| 50/50 [00:07<00:00,  6.98it/s, loss=6.91]\n"
     ]
    },
    {
     "name": "stdout",
     "output_type": "stream",
     "text": [
      "Validation Accuracy: 0.0013\n",
      "Epoch [313/400], Train Loss: 6.9079, Val Loss: 6.9082 \n",
      "\n"
     ]
    },
    {
     "name": "stderr",
     "output_type": "stream",
     "text": [
      "Training: 100%|██████████| 50/50 [00:07<00:00,  6.92it/s, loss=6.91]\n"
     ]
    },
    {
     "name": "stdout",
     "output_type": "stream",
     "text": [
      "Validation Accuracy: 0.0000\n",
      "Epoch [314/400], Train Loss: 6.9078, Val Loss: 6.9081 \n",
      "\n"
     ]
    },
    {
     "name": "stderr",
     "output_type": "stream",
     "text": [
      "Training: 100%|██████████| 50/50 [00:07<00:00,  7.04it/s, loss=6.91]\n"
     ]
    },
    {
     "name": "stdout",
     "output_type": "stream",
     "text": [
      "Validation Accuracy: 0.0000\n",
      "Epoch [315/400], Train Loss: 6.9079, Val Loss: 6.9081 \n",
      "\n"
     ]
    },
    {
     "name": "stderr",
     "output_type": "stream",
     "text": [
      "Training: 100%|██████████| 50/50 [00:07<00:00,  6.99it/s, loss=6.91]\n"
     ]
    },
    {
     "name": "stdout",
     "output_type": "stream",
     "text": [
      "Validation Accuracy: 0.0000\n",
      "Epoch [316/400], Train Loss: 6.9078, Val Loss: 6.9082 \n",
      "\n"
     ]
    },
    {
     "name": "stderr",
     "output_type": "stream",
     "text": [
      "Training: 100%|██████████| 50/50 [00:07<00:00,  6.96it/s, loss=6.91]\n"
     ]
    },
    {
     "name": "stdout",
     "output_type": "stream",
     "text": [
      "Validation Accuracy: 0.0000\n",
      "Epoch [317/400], Train Loss: 6.9078, Val Loss: 6.9083 \n",
      "\n"
     ]
    },
    {
     "name": "stderr",
     "output_type": "stream",
     "text": [
      "Training: 100%|██████████| 50/50 [00:07<00:00,  6.93it/s, loss=6.91]\n"
     ]
    },
    {
     "name": "stdout",
     "output_type": "stream",
     "text": [
      "Validation Accuracy: 0.0000\n",
      "Epoch [318/400], Train Loss: 6.9078, Val Loss: 6.9081 \n",
      "\n"
     ]
    },
    {
     "name": "stderr",
     "output_type": "stream",
     "text": [
      "Training: 100%|██████████| 50/50 [00:07<00:00,  6.98it/s, loss=6.91]\n"
     ]
    },
    {
     "name": "stdout",
     "output_type": "stream",
     "text": [
      "Validation Accuracy: 0.0000\n",
      "Epoch [319/400], Train Loss: 6.9078, Val Loss: 6.9082 \n",
      "\n"
     ]
    },
    {
     "name": "stderr",
     "output_type": "stream",
     "text": [
      "Training: 100%|██████████| 50/50 [00:07<00:00,  6.96it/s, loss=6.91]\n"
     ]
    },
    {
     "name": "stdout",
     "output_type": "stream",
     "text": [
      "Validation Accuracy: 0.0013\n",
      "Epoch [320/400], Train Loss: 6.9078, Val Loss: 6.9081 \n",
      "\n"
     ]
    },
    {
     "name": "stderr",
     "output_type": "stream",
     "text": [
      "Training: 100%|██████████| 50/50 [00:07<00:00,  6.97it/s, loss=6.91]\n"
     ]
    },
    {
     "name": "stdout",
     "output_type": "stream",
     "text": [
      "Validation Accuracy: 0.0026\n",
      "Epoch [321/400], Train Loss: 6.9077, Val Loss: 6.9081 \n",
      "\n"
     ]
    },
    {
     "name": "stderr",
     "output_type": "stream",
     "text": [
      "Training: 100%|██████████| 50/50 [00:07<00:00,  7.05it/s, loss=6.91]\n"
     ]
    },
    {
     "name": "stdout",
     "output_type": "stream",
     "text": [
      "Validation Accuracy: 0.0000\n",
      "Epoch [322/400], Train Loss: 6.9078, Val Loss: 6.9081 \n",
      "\n"
     ]
    },
    {
     "name": "stderr",
     "output_type": "stream",
     "text": [
      "Training: 100%|██████████| 50/50 [00:07<00:00,  7.03it/s, loss=6.91]\n"
     ]
    },
    {
     "name": "stdout",
     "output_type": "stream",
     "text": [
      "Validation Accuracy: 0.0000\n",
      "Epoch [323/400], Train Loss: 6.9077, Val Loss: 6.9082 \n",
      "\n"
     ]
    },
    {
     "name": "stderr",
     "output_type": "stream",
     "text": [
      "Training: 100%|██████████| 50/50 [00:07<00:00,  7.10it/s, loss=6.91]\n"
     ]
    },
    {
     "name": "stdout",
     "output_type": "stream",
     "text": [
      "Validation Accuracy: 0.0000\n",
      "Epoch [324/400], Train Loss: 6.9078, Val Loss: 6.9082 \n",
      "\n"
     ]
    },
    {
     "name": "stderr",
     "output_type": "stream",
     "text": [
      "Training: 100%|██████████| 50/50 [00:07<00:00,  7.01it/s, loss=6.91]\n"
     ]
    },
    {
     "name": "stdout",
     "output_type": "stream",
     "text": [
      "Validation Accuracy: 0.0013\n",
      "Epoch [325/400], Train Loss: 6.9077, Val Loss: 6.9082 \n",
      "\n"
     ]
    },
    {
     "name": "stderr",
     "output_type": "stream",
     "text": [
      "Training: 100%|██████████| 50/50 [00:07<00:00,  7.07it/s, loss=6.91]\n"
     ]
    },
    {
     "name": "stdout",
     "output_type": "stream",
     "text": [
      "Validation Accuracy: 0.0000\n",
      "Epoch [326/400], Train Loss: 6.9077, Val Loss: 6.9082 \n",
      "\n"
     ]
    },
    {
     "name": "stderr",
     "output_type": "stream",
     "text": [
      "Training: 100%|██████████| 50/50 [00:07<00:00,  7.06it/s, loss=6.91]\n"
     ]
    },
    {
     "name": "stdout",
     "output_type": "stream",
     "text": [
      "Validation Accuracy: 0.0000\n",
      "Epoch [327/400], Train Loss: 6.9076, Val Loss: 6.9082 \n",
      "\n"
     ]
    },
    {
     "name": "stderr",
     "output_type": "stream",
     "text": [
      "Training: 100%|██████████| 50/50 [00:07<00:00,  7.13it/s, loss=6.91]\n"
     ]
    },
    {
     "name": "stdout",
     "output_type": "stream",
     "text": [
      "Validation Accuracy: 0.0000\n",
      "Epoch [328/400], Train Loss: 6.9076, Val Loss: 6.9081 \n",
      "\n"
     ]
    },
    {
     "name": "stderr",
     "output_type": "stream",
     "text": [
      "Training: 100%|██████████| 50/50 [00:07<00:00,  7.13it/s, loss=6.91]\n"
     ]
    },
    {
     "name": "stdout",
     "output_type": "stream",
     "text": [
      "Validation Accuracy: 0.0013\n",
      "Epoch [329/400], Train Loss: 6.9077, Val Loss: 6.9082 \n",
      "\n"
     ]
    },
    {
     "name": "stderr",
     "output_type": "stream",
     "text": [
      "Training: 100%|██████████| 50/50 [00:07<00:00,  7.14it/s, loss=6.91]\n"
     ]
    },
    {
     "name": "stdout",
     "output_type": "stream",
     "text": [
      "Validation Accuracy: 0.0000\n",
      "Epoch [330/400], Train Loss: 6.9077, Val Loss: 6.9081 \n",
      "\n"
     ]
    },
    {
     "name": "stderr",
     "output_type": "stream",
     "text": [
      "Training: 100%|██████████| 50/50 [00:07<00:00,  7.10it/s, loss=6.91]\n"
     ]
    },
    {
     "name": "stdout",
     "output_type": "stream",
     "text": [
      "Validation Accuracy: 0.0000\n",
      "Epoch [331/400], Train Loss: 6.9077, Val Loss: 6.9082 \n",
      "\n"
     ]
    },
    {
     "name": "stderr",
     "output_type": "stream",
     "text": [
      "Training: 100%|██████████| 50/50 [00:06<00:00,  7.19it/s, loss=6.91]\n"
     ]
    },
    {
     "name": "stdout",
     "output_type": "stream",
     "text": [
      "Validation Accuracy: 0.0013\n",
      "Epoch [332/400], Train Loss: 6.9077, Val Loss: 6.9082 \n",
      "\n"
     ]
    },
    {
     "name": "stderr",
     "output_type": "stream",
     "text": [
      "Training: 100%|██████████| 50/50 [00:06<00:00,  7.18it/s, loss=6.91]\n"
     ]
    },
    {
     "name": "stdout",
     "output_type": "stream",
     "text": [
      "Validation Accuracy: 0.0000\n",
      "Epoch [333/400], Train Loss: 6.9077, Val Loss: 6.9082 \n",
      "\n"
     ]
    },
    {
     "name": "stderr",
     "output_type": "stream",
     "text": [
      "Training: 100%|██████████| 50/50 [00:07<00:00,  7.05it/s, loss=6.91]\n"
     ]
    },
    {
     "name": "stdout",
     "output_type": "stream",
     "text": [
      "Validation Accuracy: 0.0013\n",
      "Epoch [334/400], Train Loss: 6.9076, Val Loss: 6.9081 \n",
      "\n"
     ]
    },
    {
     "name": "stderr",
     "output_type": "stream",
     "text": [
      "Training: 100%|██████████| 50/50 [00:06<00:00,  7.15it/s, loss=6.91]\n"
     ]
    },
    {
     "name": "stdout",
     "output_type": "stream",
     "text": [
      "Validation Accuracy: 0.0000\n",
      "Epoch [335/400], Train Loss: 6.9076, Val Loss: 6.9082 \n",
      "\n"
     ]
    },
    {
     "name": "stderr",
     "output_type": "stream",
     "text": [
      "Training: 100%|██████████| 50/50 [00:06<00:00,  7.19it/s, loss=6.91]\n"
     ]
    },
    {
     "name": "stdout",
     "output_type": "stream",
     "text": [
      "Validation Accuracy: 0.0026\n",
      "Epoch [336/400], Train Loss: 6.9076, Val Loss: 6.9081 \n",
      "\n"
     ]
    },
    {
     "name": "stderr",
     "output_type": "stream",
     "text": [
      "Training: 100%|██████████| 50/50 [00:07<00:00,  7.09it/s, loss=6.91]\n"
     ]
    },
    {
     "name": "stdout",
     "output_type": "stream",
     "text": [
      "Validation Accuracy: 0.0000\n",
      "Epoch [337/400], Train Loss: 6.9076, Val Loss: 6.9082 \n",
      "\n"
     ]
    },
    {
     "name": "stderr",
     "output_type": "stream",
     "text": [
      "Training: 100%|██████████| 50/50 [00:07<00:00,  7.09it/s, loss=6.91]\n"
     ]
    },
    {
     "name": "stdout",
     "output_type": "stream",
     "text": [
      "Validation Accuracy: 0.0013\n",
      "Epoch [338/400], Train Loss: 6.9076, Val Loss: 6.9082 \n",
      "\n"
     ]
    },
    {
     "name": "stderr",
     "output_type": "stream",
     "text": [
      "Training: 100%|██████████| 50/50 [00:07<00:00,  7.12it/s, loss=6.91]\n"
     ]
    },
    {
     "name": "stdout",
     "output_type": "stream",
     "text": [
      "Validation Accuracy: 0.0000\n",
      "Epoch [339/400], Train Loss: 6.9076, Val Loss: 6.9081 \n",
      "\n"
     ]
    },
    {
     "name": "stderr",
     "output_type": "stream",
     "text": [
      "Training: 100%|██████████| 50/50 [00:07<00:00,  7.10it/s, loss=6.91]\n"
     ]
    },
    {
     "name": "stdout",
     "output_type": "stream",
     "text": [
      "Validation Accuracy: 0.0000\n",
      "Epoch [340/400], Train Loss: 6.9076, Val Loss: 6.9082 \n",
      "\n"
     ]
    },
    {
     "name": "stderr",
     "output_type": "stream",
     "text": [
      "Training: 100%|██████████| 50/50 [00:06<00:00,  7.17it/s, loss=6.91]\n"
     ]
    },
    {
     "name": "stdout",
     "output_type": "stream",
     "text": [
      "Validation Accuracy: 0.0013\n",
      "Epoch [341/400], Train Loss: 6.9076, Val Loss: 6.9081 \n",
      "\n"
     ]
    },
    {
     "name": "stderr",
     "output_type": "stream",
     "text": [
      "Training: 100%|██████████| 50/50 [00:07<00:00,  7.07it/s, loss=6.91]\n"
     ]
    },
    {
     "name": "stdout",
     "output_type": "stream",
     "text": [
      "Validation Accuracy: 0.0000\n",
      "Epoch [342/400], Train Loss: 6.9076, Val Loss: 6.9082 \n",
      "\n"
     ]
    },
    {
     "name": "stderr",
     "output_type": "stream",
     "text": [
      "Training: 100%|██████████| 50/50 [00:06<00:00,  7.16it/s, loss=6.91]\n"
     ]
    },
    {
     "name": "stdout",
     "output_type": "stream",
     "text": [
      "Validation Accuracy: 0.0013\n",
      "Epoch [343/400], Train Loss: 6.9075, Val Loss: 6.9082 \n",
      "\n"
     ]
    },
    {
     "name": "stderr",
     "output_type": "stream",
     "text": [
      "Training: 100%|██████████| 50/50 [00:06<00:00,  7.18it/s, loss=6.91]\n"
     ]
    },
    {
     "name": "stdout",
     "output_type": "stream",
     "text": [
      "Validation Accuracy: 0.0026\n",
      "Epoch [344/400], Train Loss: 6.9075, Val Loss: 6.9081 \n",
      "\n"
     ]
    },
    {
     "name": "stderr",
     "output_type": "stream",
     "text": [
      "Training: 100%|██████████| 50/50 [00:06<00:00,  7.20it/s, loss=6.91]\n"
     ]
    },
    {
     "name": "stdout",
     "output_type": "stream",
     "text": [
      "Validation Accuracy: 0.0013\n",
      "Epoch [345/400], Train Loss: 6.9075, Val Loss: 6.9081 \n",
      "\n"
     ]
    },
    {
     "name": "stderr",
     "output_type": "stream",
     "text": [
      "Training: 100%|██████████| 50/50 [00:06<00:00,  7.19it/s, loss=6.91]\n"
     ]
    },
    {
     "name": "stdout",
     "output_type": "stream",
     "text": [
      "Validation Accuracy: 0.0013\n",
      "Epoch [346/400], Train Loss: 6.9075, Val Loss: 6.9082 \n",
      "\n"
     ]
    },
    {
     "name": "stderr",
     "output_type": "stream",
     "text": [
      "Training: 100%|██████████| 50/50 [00:07<00:00,  7.12it/s, loss=6.91]\n"
     ]
    },
    {
     "name": "stdout",
     "output_type": "stream",
     "text": [
      "Validation Accuracy: 0.0000\n",
      "Epoch [347/400], Train Loss: 6.9075, Val Loss: 6.9082 \n",
      "\n"
     ]
    },
    {
     "name": "stderr",
     "output_type": "stream",
     "text": [
      "Training: 100%|██████████| 50/50 [00:06<00:00,  7.21it/s, loss=6.91]\n"
     ]
    },
    {
     "name": "stdout",
     "output_type": "stream",
     "text": [
      "Validation Accuracy: 0.0026\n",
      "Epoch [348/400], Train Loss: 6.9075, Val Loss: 6.9082 \n",
      "\n"
     ]
    },
    {
     "name": "stderr",
     "output_type": "stream",
     "text": [
      "Training: 100%|██████████| 50/50 [00:07<00:00,  7.14it/s, loss=6.91]\n"
     ]
    },
    {
     "name": "stdout",
     "output_type": "stream",
     "text": [
      "Validation Accuracy: 0.0026\n",
      "Epoch [349/400], Train Loss: 6.9075, Val Loss: 6.9082 \n",
      "\n"
     ]
    },
    {
     "name": "stderr",
     "output_type": "stream",
     "text": [
      "Training: 100%|██████████| 50/50 [00:06<00:00,  7.21it/s, loss=6.91]\n"
     ]
    },
    {
     "name": "stdout",
     "output_type": "stream",
     "text": [
      "Validation Accuracy: 0.0000\n",
      "Epoch [350/400], Train Loss: 6.9074, Val Loss: 6.9082 \n",
      "\n"
     ]
    },
    {
     "name": "stderr",
     "output_type": "stream",
     "text": [
      "Training: 100%|██████████| 50/50 [00:06<00:00,  7.15it/s, loss=6.91]\n"
     ]
    },
    {
     "name": "stdout",
     "output_type": "stream",
     "text": [
      "Validation Accuracy: 0.0026\n",
      "Epoch [351/400], Train Loss: 6.9074, Val Loss: 6.9081 \n",
      "\n"
     ]
    },
    {
     "name": "stderr",
     "output_type": "stream",
     "text": [
      "Training: 100%|██████████| 50/50 [00:06<00:00,  7.19it/s, loss=6.91]\n"
     ]
    },
    {
     "name": "stdout",
     "output_type": "stream",
     "text": [
      "Validation Accuracy: 0.0026\n",
      "Epoch [352/400], Train Loss: 6.9074, Val Loss: 6.9081 \n",
      "\n"
     ]
    },
    {
     "name": "stderr",
     "output_type": "stream",
     "text": [
      "Training: 100%|██████████| 50/50 [00:06<00:00,  7.23it/s, loss=6.91]\n"
     ]
    },
    {
     "name": "stdout",
     "output_type": "stream",
     "text": [
      "Validation Accuracy: 0.0000\n",
      "Epoch [353/400], Train Loss: 6.9074, Val Loss: 6.9081 \n",
      "\n"
     ]
    },
    {
     "name": "stderr",
     "output_type": "stream",
     "text": [
      "Training: 100%|██████████| 50/50 [00:06<00:00,  7.19it/s, loss=6.91]\n"
     ]
    },
    {
     "name": "stdout",
     "output_type": "stream",
     "text": [
      "Validation Accuracy: 0.0026\n",
      "Epoch [354/400], Train Loss: 6.9074, Val Loss: 6.9081 \n",
      "\n"
     ]
    },
    {
     "name": "stderr",
     "output_type": "stream",
     "text": [
      "Training: 100%|██████████| 50/50 [00:07<00:00,  7.14it/s, loss=6.91]\n"
     ]
    },
    {
     "name": "stdout",
     "output_type": "stream",
     "text": [
      "Validation Accuracy: 0.0064\n",
      "Epoch [355/400], Train Loss: 6.9074, Val Loss: 6.9081 \n",
      "\n"
     ]
    },
    {
     "name": "stderr",
     "output_type": "stream",
     "text": [
      "Training: 100%|██████████| 50/50 [00:07<00:00,  7.13it/s, loss=6.91]\n"
     ]
    },
    {
     "name": "stdout",
     "output_type": "stream",
     "text": [
      "Validation Accuracy: 0.0064\n",
      "Epoch [356/400], Train Loss: 6.9074, Val Loss: 6.9081 \n",
      "\n"
     ]
    },
    {
     "name": "stderr",
     "output_type": "stream",
     "text": [
      "Training: 100%|██████████| 50/50 [00:06<00:00,  7.23it/s, loss=6.91]\n"
     ]
    },
    {
     "name": "stdout",
     "output_type": "stream",
     "text": [
      "Validation Accuracy: 0.0026\n",
      "Epoch [357/400], Train Loss: 6.9074, Val Loss: 6.9081 \n",
      "\n"
     ]
    },
    {
     "name": "stderr",
     "output_type": "stream",
     "text": [
      "Training: 100%|██████████| 50/50 [00:06<00:00,  7.18it/s, loss=6.91]\n"
     ]
    },
    {
     "name": "stdout",
     "output_type": "stream",
     "text": [
      "Validation Accuracy: 0.0026\n",
      "Epoch [358/400], Train Loss: 6.9074, Val Loss: 6.9082 \n",
      "\n"
     ]
    },
    {
     "name": "stderr",
     "output_type": "stream",
     "text": [
      "Training: 100%|██████████| 50/50 [00:06<00:00,  7.19it/s, loss=6.91]\n"
     ]
    },
    {
     "name": "stdout",
     "output_type": "stream",
     "text": [
      "Validation Accuracy: 0.0026\n",
      "Epoch [359/400], Train Loss: 6.9074, Val Loss: 6.9082 \n",
      "\n"
     ]
    },
    {
     "name": "stderr",
     "output_type": "stream",
     "text": [
      "Training: 100%|██████████| 50/50 [00:06<00:00,  7.16it/s, loss=6.91]\n"
     ]
    },
    {
     "name": "stdout",
     "output_type": "stream",
     "text": [
      "Validation Accuracy: 0.0026\n",
      "Epoch [360/400], Train Loss: 6.9073, Val Loss: 6.9082 \n",
      "\n"
     ]
    },
    {
     "name": "stderr",
     "output_type": "stream",
     "text": [
      "Training: 100%|██████████| 50/50 [00:06<00:00,  7.21it/s, loss=6.91]\n"
     ]
    },
    {
     "name": "stdout",
     "output_type": "stream",
     "text": [
      "Validation Accuracy: 0.0026\n",
      "Epoch [361/400], Train Loss: 6.9073, Val Loss: 6.9082 \n",
      "\n"
     ]
    },
    {
     "name": "stderr",
     "output_type": "stream",
     "text": [
      "Training: 100%|██████████| 50/50 [00:06<00:00,  7.21it/s, loss=6.91]\n"
     ]
    },
    {
     "name": "stdout",
     "output_type": "stream",
     "text": [
      "Validation Accuracy: 0.0026\n",
      "Epoch [362/400], Train Loss: 6.9073, Val Loss: 6.9081 \n",
      "\n"
     ]
    },
    {
     "name": "stderr",
     "output_type": "stream",
     "text": [
      "Training: 100%|██████████| 50/50 [00:07<00:00,  7.11it/s, loss=6.91]\n"
     ]
    },
    {
     "name": "stdout",
     "output_type": "stream",
     "text": [
      "Validation Accuracy: 0.0026\n",
      "Epoch [363/400], Train Loss: 6.9073, Val Loss: 6.9082 \n",
      "\n"
     ]
    },
    {
     "name": "stderr",
     "output_type": "stream",
     "text": [
      "Training: 100%|██████████| 50/50 [00:06<00:00,  7.26it/s, loss=6.91]\n"
     ]
    },
    {
     "name": "stdout",
     "output_type": "stream",
     "text": [
      "Validation Accuracy: 0.0026\n",
      "Epoch [364/400], Train Loss: 6.9073, Val Loss: 6.9082 \n",
      "\n"
     ]
    },
    {
     "name": "stderr",
     "output_type": "stream",
     "text": [
      "Training: 100%|██████████| 50/50 [00:06<00:00,  7.22it/s, loss=6.91]\n"
     ]
    },
    {
     "name": "stdout",
     "output_type": "stream",
     "text": [
      "Validation Accuracy: 0.0026\n",
      "Epoch [365/400], Train Loss: 6.9073, Val Loss: 6.9081 \n",
      "\n"
     ]
    },
    {
     "name": "stderr",
     "output_type": "stream",
     "text": [
      "Training: 100%|██████████| 50/50 [00:07<00:00,  7.10it/s, loss=6.91]\n"
     ]
    },
    {
     "name": "stdout",
     "output_type": "stream",
     "text": [
      "Validation Accuracy: 0.0026\n",
      "Epoch [366/400], Train Loss: 6.9073, Val Loss: 6.9081 \n",
      "\n"
     ]
    },
    {
     "name": "stderr",
     "output_type": "stream",
     "text": [
      "Training: 100%|██████████| 50/50 [00:06<00:00,  7.14it/s, loss=6.91]\n"
     ]
    },
    {
     "name": "stdout",
     "output_type": "stream",
     "text": [
      "Validation Accuracy: 0.0026\n",
      "Epoch [367/400], Train Loss: 6.9073, Val Loss: 6.9081 \n",
      "\n"
     ]
    },
    {
     "name": "stderr",
     "output_type": "stream",
     "text": [
      "Training: 100%|██████████| 50/50 [00:06<00:00,  7.15it/s, loss=6.91]\n"
     ]
    },
    {
     "name": "stdout",
     "output_type": "stream",
     "text": [
      "Validation Accuracy: 0.0026\n",
      "Epoch [368/400], Train Loss: 6.9072, Val Loss: 6.9082 \n",
      "\n"
     ]
    },
    {
     "name": "stderr",
     "output_type": "stream",
     "text": [
      "Training: 100%|██████████| 50/50 [00:07<00:00,  7.01it/s, loss=6.91]\n"
     ]
    },
    {
     "name": "stdout",
     "output_type": "stream",
     "text": [
      "Validation Accuracy: 0.0026\n",
      "Epoch [369/400], Train Loss: 6.9072, Val Loss: 6.9082 \n",
      "\n"
     ]
    },
    {
     "name": "stderr",
     "output_type": "stream",
     "text": [
      "Training: 100%|██████████| 50/50 [00:06<00:00,  7.22it/s, loss=6.91]\n"
     ]
    },
    {
     "name": "stdout",
     "output_type": "stream",
     "text": [
      "Validation Accuracy: 0.0026\n",
      "Epoch [370/400], Train Loss: 6.9072, Val Loss: 6.9082 \n",
      "\n"
     ]
    },
    {
     "name": "stderr",
     "output_type": "stream",
     "text": [
      "Training: 100%|██████████| 50/50 [00:07<00:00,  7.11it/s, loss=6.91]\n"
     ]
    },
    {
     "name": "stdout",
     "output_type": "stream",
     "text": [
      "Validation Accuracy: 0.0026\n",
      "Epoch [371/400], Train Loss: 6.9072, Val Loss: 6.9082 \n",
      "\n"
     ]
    },
    {
     "name": "stderr",
     "output_type": "stream",
     "text": [
      "Training: 100%|██████████| 50/50 [00:07<00:00,  7.07it/s, loss=6.91]\n"
     ]
    },
    {
     "name": "stdout",
     "output_type": "stream",
     "text": [
      "Validation Accuracy: 0.0026\n",
      "Epoch [372/400], Train Loss: 6.9072, Val Loss: 6.9082 \n",
      "\n"
     ]
    },
    {
     "name": "stderr",
     "output_type": "stream",
     "text": [
      "Training: 100%|██████████| 50/50 [00:06<00:00,  7.20it/s, loss=6.91]\n"
     ]
    },
    {
     "name": "stdout",
     "output_type": "stream",
     "text": [
      "Validation Accuracy: 0.0026\n",
      "Epoch [373/400], Train Loss: 6.9072, Val Loss: 6.9082 \n",
      "\n"
     ]
    },
    {
     "name": "stderr",
     "output_type": "stream",
     "text": [
      "Training: 100%|██████████| 50/50 [00:06<00:00,  7.18it/s, loss=6.91]\n"
     ]
    },
    {
     "name": "stdout",
     "output_type": "stream",
     "text": [
      "Validation Accuracy: 0.0026\n",
      "Epoch [374/400], Train Loss: 6.9072, Val Loss: 6.9082 \n",
      "\n"
     ]
    },
    {
     "name": "stderr",
     "output_type": "stream",
     "text": [
      "Training: 100%|██████████| 50/50 [00:06<00:00,  7.18it/s, loss=6.91]\n"
     ]
    },
    {
     "name": "stdout",
     "output_type": "stream",
     "text": [
      "Validation Accuracy: 0.0026\n",
      "Epoch [375/400], Train Loss: 6.9072, Val Loss: 6.9082 \n",
      "\n"
     ]
    },
    {
     "name": "stderr",
     "output_type": "stream",
     "text": [
      "Training: 100%|██████████| 50/50 [00:06<00:00,  7.25it/s, loss=6.91]\n"
     ]
    },
    {
     "name": "stdout",
     "output_type": "stream",
     "text": [
      "Validation Accuracy: 0.0026\n",
      "Epoch [376/400], Train Loss: 6.9072, Val Loss: 6.9082 \n",
      "\n"
     ]
    },
    {
     "name": "stderr",
     "output_type": "stream",
     "text": [
      "Training: 100%|██████████| 50/50 [00:06<00:00,  7.20it/s, loss=6.91]\n"
     ]
    },
    {
     "name": "stdout",
     "output_type": "stream",
     "text": [
      "Validation Accuracy: 0.0026\n",
      "Epoch [377/400], Train Loss: 6.9072, Val Loss: 6.9082 \n",
      "\n"
     ]
    },
    {
     "name": "stderr",
     "output_type": "stream",
     "text": [
      "Training: 100%|██████████| 50/50 [00:06<00:00,  7.21it/s, loss=6.91]\n"
     ]
    },
    {
     "name": "stdout",
     "output_type": "stream",
     "text": [
      "Validation Accuracy: 0.0026\n",
      "Epoch [378/400], Train Loss: 6.9071, Val Loss: 6.9082 \n",
      "\n"
     ]
    },
    {
     "name": "stderr",
     "output_type": "stream",
     "text": [
      "Training: 100%|██████████| 50/50 [00:06<00:00,  7.15it/s, loss=6.91]\n"
     ]
    },
    {
     "name": "stdout",
     "output_type": "stream",
     "text": [
      "Validation Accuracy: 0.0026\n",
      "Epoch [379/400], Train Loss: 6.9072, Val Loss: 6.9082 \n",
      "\n"
     ]
    },
    {
     "name": "stderr",
     "output_type": "stream",
     "text": [
      "Training: 100%|██████████| 50/50 [00:06<00:00,  7.18it/s, loss=6.91]\n"
     ]
    },
    {
     "name": "stdout",
     "output_type": "stream",
     "text": [
      "Validation Accuracy: 0.0026\n",
      "Epoch [380/400], Train Loss: 6.9071, Val Loss: 6.9082 \n",
      "\n"
     ]
    },
    {
     "name": "stderr",
     "output_type": "stream",
     "text": [
      "Training: 100%|██████████| 50/50 [00:06<00:00,  7.22it/s, loss=6.91]\n"
     ]
    },
    {
     "name": "stdout",
     "output_type": "stream",
     "text": [
      "Validation Accuracy: 0.0026\n",
      "Epoch [381/400], Train Loss: 6.9071, Val Loss: 6.9082 \n",
      "\n"
     ]
    },
    {
     "name": "stderr",
     "output_type": "stream",
     "text": [
      "Training: 100%|██████████| 50/50 [00:07<00:00,  7.12it/s, loss=6.91]\n"
     ]
    },
    {
     "name": "stdout",
     "output_type": "stream",
     "text": [
      "Validation Accuracy: 0.0026\n",
      "Epoch [382/400], Train Loss: 6.9071, Val Loss: 6.9082 \n",
      "\n"
     ]
    },
    {
     "name": "stderr",
     "output_type": "stream",
     "text": [
      "Training: 100%|██████████| 50/50 [00:06<00:00,  7.20it/s, loss=6.91]\n"
     ]
    },
    {
     "name": "stdout",
     "output_type": "stream",
     "text": [
      "Validation Accuracy: 0.0026\n",
      "Epoch [383/400], Train Loss: 6.9071, Val Loss: 6.9082 \n",
      "\n"
     ]
    },
    {
     "name": "stderr",
     "output_type": "stream",
     "text": [
      "Training: 100%|██████████| 50/50 [00:06<00:00,  7.21it/s, loss=6.91]\n"
     ]
    },
    {
     "name": "stdout",
     "output_type": "stream",
     "text": [
      "Validation Accuracy: 0.0026\n",
      "Epoch [384/400], Train Loss: 6.9071, Val Loss: 6.9082 \n",
      "\n"
     ]
    },
    {
     "name": "stderr",
     "output_type": "stream",
     "text": [
      "Training: 100%|██████████| 50/50 [00:06<00:00,  7.15it/s, loss=6.91]\n"
     ]
    },
    {
     "name": "stdout",
     "output_type": "stream",
     "text": [
      "Validation Accuracy: 0.0026\n",
      "Epoch [385/400], Train Loss: 6.9071, Val Loss: 6.9082 \n",
      "\n"
     ]
    },
    {
     "name": "stderr",
     "output_type": "stream",
     "text": [
      "Training: 100%|██████████| 50/50 [00:06<00:00,  7.24it/s, loss=6.91]\n"
     ]
    },
    {
     "name": "stdout",
     "output_type": "stream",
     "text": [
      "Validation Accuracy: 0.0026\n",
      "Epoch [386/400], Train Loss: 6.9071, Val Loss: 6.9082 \n",
      "\n"
     ]
    },
    {
     "name": "stderr",
     "output_type": "stream",
     "text": [
      "Training: 100%|██████████| 50/50 [00:06<00:00,  7.23it/s, loss=6.91]\n"
     ]
    },
    {
     "name": "stdout",
     "output_type": "stream",
     "text": [
      "Validation Accuracy: 0.0026\n",
      "Epoch [387/400], Train Loss: 6.9071, Val Loss: 6.9082 \n",
      "\n"
     ]
    },
    {
     "name": "stderr",
     "output_type": "stream",
     "text": [
      "Training: 100%|██████████| 50/50 [00:07<00:00,  7.13it/s, loss=6.91]\n"
     ]
    },
    {
     "name": "stdout",
     "output_type": "stream",
     "text": [
      "Validation Accuracy: 0.0026\n",
      "Epoch [388/400], Train Loss: 6.9071, Val Loss: 6.9082 \n",
      "\n"
     ]
    },
    {
     "name": "stderr",
     "output_type": "stream",
     "text": [
      "Training: 100%|██████████| 50/50 [00:06<00:00,  7.29it/s, loss=6.91]\n"
     ]
    },
    {
     "name": "stdout",
     "output_type": "stream",
     "text": [
      "Validation Accuracy: 0.0026\n",
      "Epoch [389/400], Train Loss: 6.9071, Val Loss: 6.9082 \n",
      "\n"
     ]
    },
    {
     "name": "stderr",
     "output_type": "stream",
     "text": [
      "Training: 100%|██████████| 50/50 [00:06<00:00,  7.22it/s, loss=6.91]\n"
     ]
    },
    {
     "name": "stdout",
     "output_type": "stream",
     "text": [
      "Validation Accuracy: 0.0026\n",
      "Epoch [390/400], Train Loss: 6.9071, Val Loss: 6.9082 \n",
      "\n"
     ]
    },
    {
     "name": "stderr",
     "output_type": "stream",
     "text": [
      "Training: 100%|██████████| 50/50 [00:06<00:00,  7.15it/s, loss=6.91]\n"
     ]
    },
    {
     "name": "stdout",
     "output_type": "stream",
     "text": [
      "Validation Accuracy: 0.0026\n",
      "Epoch [391/400], Train Loss: 6.9071, Val Loss: 6.9082 \n",
      "\n"
     ]
    },
    {
     "name": "stderr",
     "output_type": "stream",
     "text": [
      "Training: 100%|██████████| 50/50 [00:06<00:00,  7.22it/s, loss=6.91]\n"
     ]
    },
    {
     "name": "stdout",
     "output_type": "stream",
     "text": [
      "Validation Accuracy: 0.0026\n",
      "Epoch [392/400], Train Loss: 6.9071, Val Loss: 6.9082 \n",
      "\n"
     ]
    },
    {
     "name": "stderr",
     "output_type": "stream",
     "text": [
      "Training: 100%|██████████| 50/50 [00:06<00:00,  7.22it/s, loss=6.91]\n"
     ]
    },
    {
     "name": "stdout",
     "output_type": "stream",
     "text": [
      "Validation Accuracy: 0.0026\n",
      "Epoch [393/400], Train Loss: 6.9071, Val Loss: 6.9082 \n",
      "\n"
     ]
    },
    {
     "name": "stderr",
     "output_type": "stream",
     "text": [
      "Training: 100%|██████████| 50/50 [00:06<00:00,  7.20it/s, loss=6.91]\n"
     ]
    },
    {
     "name": "stdout",
     "output_type": "stream",
     "text": [
      "Validation Accuracy: 0.0026\n",
      "Epoch [394/400], Train Loss: 6.9071, Val Loss: 6.9082 \n",
      "\n"
     ]
    },
    {
     "name": "stderr",
     "output_type": "stream",
     "text": [
      "Training: 100%|██████████| 50/50 [00:06<00:00,  7.18it/s, loss=6.91]\n"
     ]
    },
    {
     "name": "stdout",
     "output_type": "stream",
     "text": [
      "Validation Accuracy: 0.0026\n",
      "Epoch [395/400], Train Loss: 6.9071, Val Loss: 6.9082 \n",
      "\n"
     ]
    },
    {
     "name": "stderr",
     "output_type": "stream",
     "text": [
      "Training: 100%|██████████| 50/50 [00:06<00:00,  7.16it/s, loss=6.91]\n"
     ]
    },
    {
     "name": "stdout",
     "output_type": "stream",
     "text": [
      "Validation Accuracy: 0.0026\n",
      "Epoch [396/400], Train Loss: 6.9071, Val Loss: 6.9082 \n",
      "\n"
     ]
    },
    {
     "name": "stderr",
     "output_type": "stream",
     "text": [
      "Training: 100%|██████████| 50/50 [00:06<00:00,  7.21it/s, loss=6.91]\n"
     ]
    },
    {
     "name": "stdout",
     "output_type": "stream",
     "text": [
      "Validation Accuracy: 0.0026\n",
      "Epoch [397/400], Train Loss: 6.9071, Val Loss: 6.9082 \n",
      "\n"
     ]
    },
    {
     "name": "stderr",
     "output_type": "stream",
     "text": [
      "Training: 100%|██████████| 50/50 [00:06<00:00,  7.16it/s, loss=6.91]\n"
     ]
    },
    {
     "name": "stdout",
     "output_type": "stream",
     "text": [
      "Validation Accuracy: 0.0026\n",
      "Epoch [398/400], Train Loss: 6.9071, Val Loss: 6.9082 \n",
      "\n"
     ]
    },
    {
     "name": "stderr",
     "output_type": "stream",
     "text": [
      "Training: 100%|██████████| 50/50 [00:07<00:00,  7.12it/s, loss=6.91]\n"
     ]
    },
    {
     "name": "stdout",
     "output_type": "stream",
     "text": [
      "Validation Accuracy: 0.0026\n",
      "Epoch [399/400], Train Loss: 6.9071, Val Loss: 6.9082 \n",
      "\n"
     ]
    },
    {
     "name": "stderr",
     "output_type": "stream",
     "text": [
      "Training: 100%|██████████| 50/50 [00:07<00:00,  7.07it/s, loss=6.91]\n"
     ]
    },
    {
     "name": "stdout",
     "output_type": "stream",
     "text": [
      "Validation Accuracy: 0.0026\n",
      "Epoch [400/400], Train Loss: 6.9071, Val Loss: 6.9082 \n",
      "\n"
     ]
    }
   ],
   "source": [
    "for epoch in range(num_epochs):\n",
    "    model.train()\n",
    "    running_loss = 0.0\n",
    "    \n",
    "    with tqdm(train_loader, desc=\"Training\", leave=True) as pbar:\n",
    "       \n",
    "        for batch_idx, (images, labels) in enumerate(pbar):\n",
    "            images, labels = images.to(device), labels.to(device)\n",
    "            optimizer.zero_grad()\n",
    "            \n",
    "            outputs = model(images)\n",
    "            loss = criterion(outputs, labels)\n",
    "            \n",
    "            loss.backward()\n",
    "            optimizer.step()\n",
    "            \n",
    "            # Gradient Clipping\n",
    "            torch.nn.utils.clip_grad_norm_(model.parameters(), max_norm=1.0)\n",
    "            \n",
    "            scheduler.step()\n",
    "            running_loss += loss.item()\n",
    "\n",
    "            avg_loss = running_loss / (batch_idx + 1)\n",
    "            pbar.set_postfix(loss=avg_loss)\n",
    "            \n",
    "        train_loss = running_loss / len(train_loader)\n",
    "        train_losses.append(train_loss)\n",
    "    \n",
    "\n",
    "    model.eval()\n",
    "    running_loss = 0.0\n",
    "    accuracy_metric = torchmetrics.Accuracy(task=\"multiclass\", num_classes=1000).to(device)\n",
    "    with torch.no_grad():\n",
    "        for images, labels in val_loader:\n",
    "            images, labels = images.to(device), labels.to(device)\n",
    "            outputs = model(images)\n",
    "\n",
    "            # Update metric\n",
    "            predictions = torch.argmax(outputs, dim=1)\n",
    "            accuracy_metric.update(predictions, labels)\n",
    "            \n",
    "            loss = criterion(outputs, labels)\n",
    "            running_loss += loss.item()\n",
    "    val_loss = running_loss / len(val_loader)\n",
    "    val_losses.append(val_loss)\n",
    "\n",
    "    validation_accuracy = accuracy_metric.compute()\n",
    "    print(f\"Validation Accuracy: {validation_accuracy:.4f}\")\n",
    "\n",
    "    print(f'Epoch [{epoch+1}/{num_epochs}], Train Loss: {train_loss:.4f}, Val Loss: {val_loss:.4f} \\n')"
   ]
  },
  {
   "cell_type": "code",
   "execution_count": 104,
   "metadata": {},
   "outputs": [
    {
     "data": {
      "image/png": "[encoded data removed]",
      "text/plain": [
       "<Figure size 640x480 with 1 Axes>"
      ]
     },
     "metadata": {},
     "output_type": "display_data"
    }
   ],
   "source": [
    "plt.plot(train_loss)\n",
    "plt.plot(val_loss)\n",
    "plt.show()"
   ]
  }
 ],
 "metadata": {
  "kernelspec": {
   "display_name": "transINR",
   "language": "python",
   "name": "python3"
  },
  "language_info": {
   "codemirror_mode": {
    "name": "ipython",
    "version": 3
   },
   "file_extension": ".py",
   "mimetype": "text/x-python",
   "name": "python",
   "nbconvert_exporter": "python",
   "pygments_lexer": "ipython3",
   "version": "3.9.19"
  }
 },
 "nbformat": 4,
 "nbformat_minor": 2
}
